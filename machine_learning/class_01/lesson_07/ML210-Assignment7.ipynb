{
 "cells": [
  {
   "cell_type": "markdown",
   "metadata": {
    "collapsed": true
   },
   "source": [
    "# Assignment 7: Linear Model Selection and Regularization"
   ]
  },
  {
   "cell_type": "markdown",
   "metadata": {},
   "source": [
    "Dataset(s) needed:\n",
    "Kaggle House Prices (https://www.kaggle.com/c/house-prices-advanced-regression-techniques/data)"
   ]
  },
  {
   "cell_type": "code",
   "execution_count": 2,
   "metadata": {},
   "outputs": [
    {
     "data": {
      "text/plain": "   Id  MSSubClass MSZoning  LotFrontage  LotArea Street Alley LotShape  \\\n0   1          60       RL         65.0     8450   Pave   NaN      Reg   \n1   2          20       RL         80.0     9600   Pave   NaN      Reg   \n2   3          60       RL         68.0    11250   Pave   NaN      IR1   \n3   4          70       RL         60.0     9550   Pave   NaN      IR1   \n4   5          60       RL         84.0    14260   Pave   NaN      IR1   \n\n  LandContour Utilities  ... PoolArea PoolQC Fence MiscFeature MiscVal MoSold  \\\n0         Lvl    AllPub  ...        0    NaN   NaN         NaN       0      2   \n1         Lvl    AllPub  ...        0    NaN   NaN         NaN       0      5   \n2         Lvl    AllPub  ...        0    NaN   NaN         NaN       0      9   \n3         Lvl    AllPub  ...        0    NaN   NaN         NaN       0      2   \n4         Lvl    AllPub  ...        0    NaN   NaN         NaN       0     12   \n\n  YrSold  SaleType  SaleCondition  SalePrice  \n0   2008        WD         Normal     208500  \n1   2007        WD         Normal     181500  \n2   2008        WD         Normal     223500  \n3   2006        WD        Abnorml     140000  \n4   2008        WD         Normal     250000  \n\n[5 rows x 81 columns]",
      "text/html": "<div>\n<style scoped>\n    .dataframe tbody tr th:only-of-type {\n        vertical-align: middle;\n    }\n\n    .dataframe tbody tr th {\n        vertical-align: top;\n    }\n\n    .dataframe thead th {\n        text-align: right;\n    }\n</style>\n<table border=\"1\" class=\"dataframe\">\n  <thead>\n    <tr style=\"text-align: right;\">\n      <th></th>\n      <th>Id</th>\n      <th>MSSubClass</th>\n      <th>MSZoning</th>\n      <th>LotFrontage</th>\n      <th>LotArea</th>\n      <th>Street</th>\n      <th>Alley</th>\n      <th>LotShape</th>\n      <th>LandContour</th>\n      <th>Utilities</th>\n      <th>...</th>\n      <th>PoolArea</th>\n      <th>PoolQC</th>\n      <th>Fence</th>\n      <th>MiscFeature</th>\n      <th>MiscVal</th>\n      <th>MoSold</th>\n      <th>YrSold</th>\n      <th>SaleType</th>\n      <th>SaleCondition</th>\n      <th>SalePrice</th>\n    </tr>\n  </thead>\n  <tbody>\n    <tr>\n      <th>0</th>\n      <td>1</td>\n      <td>60</td>\n      <td>RL</td>\n      <td>65.0</td>\n      <td>8450</td>\n      <td>Pave</td>\n      <td>NaN</td>\n      <td>Reg</td>\n      <td>Lvl</td>\n      <td>AllPub</td>\n      <td>...</td>\n      <td>0</td>\n      <td>NaN</td>\n      <td>NaN</td>\n      <td>NaN</td>\n      <td>0</td>\n      <td>2</td>\n      <td>2008</td>\n      <td>WD</td>\n      <td>Normal</td>\n      <td>208500</td>\n    </tr>\n    <tr>\n      <th>1</th>\n      <td>2</td>\n      <td>20</td>\n      <td>RL</td>\n      <td>80.0</td>\n      <td>9600</td>\n      <td>Pave</td>\n      <td>NaN</td>\n      <td>Reg</td>\n      <td>Lvl</td>\n      <td>AllPub</td>\n      <td>...</td>\n      <td>0</td>\n      <td>NaN</td>\n      <td>NaN</td>\n      <td>NaN</td>\n      <td>0</td>\n      <td>5</td>\n      <td>2007</td>\n      <td>WD</td>\n      <td>Normal</td>\n      <td>181500</td>\n    </tr>\n    <tr>\n      <th>2</th>\n      <td>3</td>\n      <td>60</td>\n      <td>RL</td>\n      <td>68.0</td>\n      <td>11250</td>\n      <td>Pave</td>\n      <td>NaN</td>\n      <td>IR1</td>\n      <td>Lvl</td>\n      <td>AllPub</td>\n      <td>...</td>\n      <td>0</td>\n      <td>NaN</td>\n      <td>NaN</td>\n      <td>NaN</td>\n      <td>0</td>\n      <td>9</td>\n      <td>2008</td>\n      <td>WD</td>\n      <td>Normal</td>\n      <td>223500</td>\n    </tr>\n    <tr>\n      <th>3</th>\n      <td>4</td>\n      <td>70</td>\n      <td>RL</td>\n      <td>60.0</td>\n      <td>9550</td>\n      <td>Pave</td>\n      <td>NaN</td>\n      <td>IR1</td>\n      <td>Lvl</td>\n      <td>AllPub</td>\n      <td>...</td>\n      <td>0</td>\n      <td>NaN</td>\n      <td>NaN</td>\n      <td>NaN</td>\n      <td>0</td>\n      <td>2</td>\n      <td>2006</td>\n      <td>WD</td>\n      <td>Abnorml</td>\n      <td>140000</td>\n    </tr>\n    <tr>\n      <th>4</th>\n      <td>5</td>\n      <td>60</td>\n      <td>RL</td>\n      <td>84.0</td>\n      <td>14260</td>\n      <td>Pave</td>\n      <td>NaN</td>\n      <td>IR1</td>\n      <td>Lvl</td>\n      <td>AllPub</td>\n      <td>...</td>\n      <td>0</td>\n      <td>NaN</td>\n      <td>NaN</td>\n      <td>NaN</td>\n      <td>0</td>\n      <td>12</td>\n      <td>2008</td>\n      <td>WD</td>\n      <td>Normal</td>\n      <td>250000</td>\n    </tr>\n  </tbody>\n</table>\n<p>5 rows × 81 columns</p>\n</div>"
     },
     "execution_count": 2,
     "metadata": {},
     "output_type": "execute_result"
    }
   ],
   "source": [
    "import pandas as pd\n",
    "\n",
    "train = pd.read_csv('train.csv')\n",
    "train.head()\n",
    "\n"
   ]
  },
  {
   "cell_type": "markdown",
   "metadata": {},
   "source": [
    "<h3> Q.1. Drop the Id columns from both train and test as these are not needed for prediction</h3>"
   ]
  },
  {
   "cell_type": "code",
   "execution_count": 3,
   "metadata": {
    "collapsed": true
   },
   "outputs": [
    {
     "data": {
      "text/plain": "   MSSubClass MSZoning  LotFrontage  LotArea Street Alley LotShape  \\\n0          60       RL         65.0     8450   Pave   NaN      Reg   \n1          20       RL         80.0     9600   Pave   NaN      Reg   \n2          60       RL         68.0    11250   Pave   NaN      IR1   \n3          70       RL         60.0     9550   Pave   NaN      IR1   \n4          60       RL         84.0    14260   Pave   NaN      IR1   \n\n  LandContour Utilities LotConfig  ... PoolArea PoolQC Fence MiscFeature  \\\n0         Lvl    AllPub    Inside  ...        0    NaN   NaN         NaN   \n1         Lvl    AllPub       FR2  ...        0    NaN   NaN         NaN   \n2         Lvl    AllPub    Inside  ...        0    NaN   NaN         NaN   \n3         Lvl    AllPub    Corner  ...        0    NaN   NaN         NaN   \n4         Lvl    AllPub       FR2  ...        0    NaN   NaN         NaN   \n\n  MiscVal MoSold  YrSold  SaleType  SaleCondition  SalePrice  \n0       0      2    2008        WD         Normal     208500  \n1       0      5    2007        WD         Normal     181500  \n2       0      9    2008        WD         Normal     223500  \n3       0      2    2006        WD        Abnorml     140000  \n4       0     12    2008        WD         Normal     250000  \n\n[5 rows x 80 columns]",
      "text/html": "<div>\n<style scoped>\n    .dataframe tbody tr th:only-of-type {\n        vertical-align: middle;\n    }\n\n    .dataframe tbody tr th {\n        vertical-align: top;\n    }\n\n    .dataframe thead th {\n        text-align: right;\n    }\n</style>\n<table border=\"1\" class=\"dataframe\">\n  <thead>\n    <tr style=\"text-align: right;\">\n      <th></th>\n      <th>MSSubClass</th>\n      <th>MSZoning</th>\n      <th>LotFrontage</th>\n      <th>LotArea</th>\n      <th>Street</th>\n      <th>Alley</th>\n      <th>LotShape</th>\n      <th>LandContour</th>\n      <th>Utilities</th>\n      <th>LotConfig</th>\n      <th>...</th>\n      <th>PoolArea</th>\n      <th>PoolQC</th>\n      <th>Fence</th>\n      <th>MiscFeature</th>\n      <th>MiscVal</th>\n      <th>MoSold</th>\n      <th>YrSold</th>\n      <th>SaleType</th>\n      <th>SaleCondition</th>\n      <th>SalePrice</th>\n    </tr>\n  </thead>\n  <tbody>\n    <tr>\n      <th>0</th>\n      <td>60</td>\n      <td>RL</td>\n      <td>65.0</td>\n      <td>8450</td>\n      <td>Pave</td>\n      <td>NaN</td>\n      <td>Reg</td>\n      <td>Lvl</td>\n      <td>AllPub</td>\n      <td>Inside</td>\n      <td>...</td>\n      <td>0</td>\n      <td>NaN</td>\n      <td>NaN</td>\n      <td>NaN</td>\n      <td>0</td>\n      <td>2</td>\n      <td>2008</td>\n      <td>WD</td>\n      <td>Normal</td>\n      <td>208500</td>\n    </tr>\n    <tr>\n      <th>1</th>\n      <td>20</td>\n      <td>RL</td>\n      <td>80.0</td>\n      <td>9600</td>\n      <td>Pave</td>\n      <td>NaN</td>\n      <td>Reg</td>\n      <td>Lvl</td>\n      <td>AllPub</td>\n      <td>FR2</td>\n      <td>...</td>\n      <td>0</td>\n      <td>NaN</td>\n      <td>NaN</td>\n      <td>NaN</td>\n      <td>0</td>\n      <td>5</td>\n      <td>2007</td>\n      <td>WD</td>\n      <td>Normal</td>\n      <td>181500</td>\n    </tr>\n    <tr>\n      <th>2</th>\n      <td>60</td>\n      <td>RL</td>\n      <td>68.0</td>\n      <td>11250</td>\n      <td>Pave</td>\n      <td>NaN</td>\n      <td>IR1</td>\n      <td>Lvl</td>\n      <td>AllPub</td>\n      <td>Inside</td>\n      <td>...</td>\n      <td>0</td>\n      <td>NaN</td>\n      <td>NaN</td>\n      <td>NaN</td>\n      <td>0</td>\n      <td>9</td>\n      <td>2008</td>\n      <td>WD</td>\n      <td>Normal</td>\n      <td>223500</td>\n    </tr>\n    <tr>\n      <th>3</th>\n      <td>70</td>\n      <td>RL</td>\n      <td>60.0</td>\n      <td>9550</td>\n      <td>Pave</td>\n      <td>NaN</td>\n      <td>IR1</td>\n      <td>Lvl</td>\n      <td>AllPub</td>\n      <td>Corner</td>\n      <td>...</td>\n      <td>0</td>\n      <td>NaN</td>\n      <td>NaN</td>\n      <td>NaN</td>\n      <td>0</td>\n      <td>2</td>\n      <td>2006</td>\n      <td>WD</td>\n      <td>Abnorml</td>\n      <td>140000</td>\n    </tr>\n    <tr>\n      <th>4</th>\n      <td>60</td>\n      <td>RL</td>\n      <td>84.0</td>\n      <td>14260</td>\n      <td>Pave</td>\n      <td>NaN</td>\n      <td>IR1</td>\n      <td>Lvl</td>\n      <td>AllPub</td>\n      <td>FR2</td>\n      <td>...</td>\n      <td>0</td>\n      <td>NaN</td>\n      <td>NaN</td>\n      <td>NaN</td>\n      <td>0</td>\n      <td>12</td>\n      <td>2008</td>\n      <td>WD</td>\n      <td>Normal</td>\n      <td>250000</td>\n    </tr>\n  </tbody>\n</table>\n<p>5 rows × 80 columns</p>\n</div>"
     },
     "execution_count": 3,
     "metadata": {},
     "output_type": "execute_result"
    }
   ],
   "source": [
    "test = pd.read_csv('test.csv')\n",
    "\n",
    "train = train.drop('Id', 1)\n",
    "test = test.drop('Id', 1)\n",
    "test.head()\n",
    "train.head()"
   ]
  },
  {
   "cell_type": "markdown",
   "metadata": {},
   "source": [
    "<h3> Q.2. Visualize a scatter plot of 'GrLivArea' in the x-axis and 'SalePrice' in the y-axis. Can you spot any outliers?\n",
    "</h3>"
   ]
  },
  {
   "cell_type": "code",
   "execution_count": 4,
   "metadata": {
    "collapsed": true
   },
   "outputs": [
    {
     "data": {
      "text/plain": "<Figure size 432x288 with 1 Axes>",
      "image/png": "[encoded data removed]"
     },
     "metadata": {
      "needs_background": "light"
     },
     "output_type": "display_data"
    }
   ],
   "source": [
    "import matplotlib.pyplot as plt\n",
    "plt.scatter(x=train['GrLivArea'], y=train['SalePrice'])\n",
    "plt.show()\n",
    "# Yes, there are at least 2 outliers that are in the bottom right of this scatter plot. The 2 in the upper right\n",
    "# could also be considered outliers, although they are potentially fitting the trend."
   ]
  },
  {
   "cell_type": "markdown",
   "metadata": {},
   "source": [
    "<h3> Q.3. Remove outliers in the data for all GrLivArea greater than 4000 then check the scatter plot again</h3>"
   ]
  },
  {
   "cell_type": "code",
   "execution_count": 5,
   "metadata": {
    "collapsed": true
   },
   "outputs": [
    {
     "data": {
      "text/plain": "<Figure size 432x288 with 1 Axes>",
      "image/png": "[encoded data removed]"
     },
     "metadata": {
      "needs_background": "light"
     },
     "output_type": "display_data"
    }
   ],
   "source": [
    "# Remove outliers for train['GrLivArea']>4000\n",
    "train = train[train['GrLivArea'] <= 4000]\n",
    "\n",
    "# Scatter plot\n",
    "plt.scatter(x=train['GrLivArea'], y=train['SalePrice'])\n",
    "plt.show()"
   ]
  },
  {
   "cell_type": "markdown",
   "metadata": {},
   "source": [
    "<h3> Q.4.0 Convert categorical variable into dummy variables using pandas get_dummies API</h3>\n"
   ]
  },
  {
   "cell_type": "code",
   "execution_count": 6,
   "metadata": {},
   "outputs": [
    {
     "data": {
      "text/plain": "   MSSubClass  LotFrontage  LotArea  OverallQual  OverallCond  YearBuilt  \\\n0          60         65.0     8450            7            5       2003   \n1          20         80.0     9600            6            8       1976   \n2          60         68.0    11250            7            5       2001   \n3          70         60.0     9550            7            5       1915   \n4          60         84.0    14260            8            5       2000   \n\n   YearRemodAdd  MasVnrArea  BsmtFinSF1  BsmtFinSF2  ...  SaleType_ConLw  \\\n0          2003       196.0         706           0  ...               0   \n1          1976         0.0         978           0  ...               0   \n2          2002       162.0         486           0  ...               0   \n3          1970         0.0         216           0  ...               0   \n4          2000       350.0         655           0  ...               0   \n\n   SaleType_New  SaleType_Oth  SaleType_WD  SaleCondition_Abnorml  \\\n0             0             0            1                      0   \n1             0             0            1                      0   \n2             0             0            1                      0   \n3             0             0            1                      1   \n4             0             0            1                      0   \n\n   SaleCondition_AdjLand  SaleCondition_Alloca  SaleCondition_Family  \\\n0                      0                     0                     0   \n1                      0                     0                     0   \n2                      0                     0                     0   \n3                      0                     0                     0   \n4                      0                     0                     0   \n\n   SaleCondition_Normal  SaleCondition_Partial  \n0                     1                      0  \n1                     1                      0  \n2                     1                      0  \n3                     0                      0  \n4                     1                      0  \n\n[5 rows x 288 columns]",
      "text/html": "<div>\n<style scoped>\n    .dataframe tbody tr th:only-of-type {\n        vertical-align: middle;\n    }\n\n    .dataframe tbody tr th {\n        vertical-align: top;\n    }\n\n    .dataframe thead th {\n        text-align: right;\n    }\n</style>\n<table border=\"1\" class=\"dataframe\">\n  <thead>\n    <tr style=\"text-align: right;\">\n      <th></th>\n      <th>MSSubClass</th>\n      <th>LotFrontage</th>\n      <th>LotArea</th>\n      <th>OverallQual</th>\n      <th>OverallCond</th>\n      <th>YearBuilt</th>\n      <th>YearRemodAdd</th>\n      <th>MasVnrArea</th>\n      <th>BsmtFinSF1</th>\n      <th>BsmtFinSF2</th>\n      <th>...</th>\n      <th>SaleType_ConLw</th>\n      <th>SaleType_New</th>\n      <th>SaleType_Oth</th>\n      <th>SaleType_WD</th>\n      <th>SaleCondition_Abnorml</th>\n      <th>SaleCondition_AdjLand</th>\n      <th>SaleCondition_Alloca</th>\n      <th>SaleCondition_Family</th>\n      <th>SaleCondition_Normal</th>\n      <th>SaleCondition_Partial</th>\n    </tr>\n  </thead>\n  <tbody>\n    <tr>\n      <th>0</th>\n      <td>60</td>\n      <td>65.0</td>\n      <td>8450</td>\n      <td>7</td>\n      <td>5</td>\n      <td>2003</td>\n      <td>2003</td>\n      <td>196.0</td>\n      <td>706</td>\n      <td>0</td>\n      <td>...</td>\n      <td>0</td>\n      <td>0</td>\n      <td>0</td>\n      <td>1</td>\n      <td>0</td>\n      <td>0</td>\n      <td>0</td>\n      <td>0</td>\n      <td>1</td>\n      <td>0</td>\n    </tr>\n    <tr>\n      <th>1</th>\n      <td>20</td>\n      <td>80.0</td>\n      <td>9600</td>\n      <td>6</td>\n      <td>8</td>\n      <td>1976</td>\n      <td>1976</td>\n      <td>0.0</td>\n      <td>978</td>\n      <td>0</td>\n      <td>...</td>\n      <td>0</td>\n      <td>0</td>\n      <td>0</td>\n      <td>1</td>\n      <td>0</td>\n      <td>0</td>\n      <td>0</td>\n      <td>0</td>\n      <td>1</td>\n      <td>0</td>\n    </tr>\n    <tr>\n      <th>2</th>\n      <td>60</td>\n      <td>68.0</td>\n      <td>11250</td>\n      <td>7</td>\n      <td>5</td>\n      <td>2001</td>\n      <td>2002</td>\n      <td>162.0</td>\n      <td>486</td>\n      <td>0</td>\n      <td>...</td>\n      <td>0</td>\n      <td>0</td>\n      <td>0</td>\n      <td>1</td>\n      <td>0</td>\n      <td>0</td>\n      <td>0</td>\n      <td>0</td>\n      <td>1</td>\n      <td>0</td>\n    </tr>\n    <tr>\n      <th>3</th>\n      <td>70</td>\n      <td>60.0</td>\n      <td>9550</td>\n      <td>7</td>\n      <td>5</td>\n      <td>1915</td>\n      <td>1970</td>\n      <td>0.0</td>\n      <td>216</td>\n      <td>0</td>\n      <td>...</td>\n      <td>0</td>\n      <td>0</td>\n      <td>0</td>\n      <td>1</td>\n      <td>1</td>\n      <td>0</td>\n      <td>0</td>\n      <td>0</td>\n      <td>0</td>\n      <td>0</td>\n    </tr>\n    <tr>\n      <th>4</th>\n      <td>60</td>\n      <td>84.0</td>\n      <td>14260</td>\n      <td>8</td>\n      <td>5</td>\n      <td>2000</td>\n      <td>2000</td>\n      <td>350.0</td>\n      <td>655</td>\n      <td>0</td>\n      <td>...</td>\n      <td>0</td>\n      <td>0</td>\n      <td>0</td>\n      <td>1</td>\n      <td>0</td>\n      <td>0</td>\n      <td>0</td>\n      <td>0</td>\n      <td>1</td>\n      <td>0</td>\n    </tr>\n  </tbody>\n</table>\n<p>5 rows × 288 columns</p>\n</div>"
     },
     "execution_count": 6,
     "metadata": {},
     "output_type": "execute_result"
    }
   ],
   "source": [
    "train = pd.get_dummies(train)\n",
    "train.head()"
   ]
  },
  {
   "cell_type": "markdown",
   "metadata": {},
   "source": [
    "<h3> Q.4.1 Impute missing data by the mean of each column.</h3>"
   ]
  },
  {
   "cell_type": "code",
   "execution_count": 7,
   "metadata": {
    "collapsed": true
   },
   "outputs": [],
   "source": [
    "for k in train.keys():\n",
    "    if train[k].isna().sum() > 0:\n",
    "        train[k].fillna(train[k].mean(), inplace=True)"
   ]
  },
  {
   "cell_type": "markdown",
   "metadata": {},
   "source": [
    "<h3> Q.4.2 Generate train test split 70/30</h3>"
   ]
  },
  {
   "cell_type": "code",
   "execution_count": 8,
   "metadata": {
    "collapsed": true
   },
   "outputs": [],
   "source": [
    "from sklearn.model_selection import train_test_split\n",
    "y = train[\"SalePrice\"]\n",
    "X = train.drop(\"SalePrice\", 1, inplace=False)\n",
    "X_train, X_test, y_train, y_test = train_test_split(X, y, test_size=0.2, random_state=42)"
   ]
  },
  {
   "cell_type": "markdown",
   "metadata": {},
   "source": [
    "## Linear Regression"
   ]
  },
  {
   "cell_type": "markdown",
   "metadata": {},
   "source": [
    "<h3> Q.5. Fit a linear regression model to this data and compute the RMSE</h3>"
   ]
  },
  {
   "cell_type": "code",
   "execution_count": 9,
   "metadata": {
    "collapsed": true
   },
   "outputs": [
    {
     "name": "stdout",
     "output_type": "stream",
     "text": [
      "RMSE 23290.933391464314\n"
     ]
    }
   ],
   "source": [
    "from sklearn.linear_model import Ridge, ElasticNet, LinearRegression\n",
    "from sklearn.metrics import mean_squared_error\n",
    "import numpy as np\n",
    "\n",
    "#Fit a linear regression model to this data\n",
    "lin_model = LinearRegression()\n",
    "lin_model.fit(X_train, y_train)\n",
    "y_pred = lin_model.predict(X_test)\n",
    "\n",
    "#Compute the RMSE \n",
    "lin_mse = mean_squared_error(y_test, y_pred)\n",
    "lin_rmse = np.sqrt(lin_mse)\n",
    "print(\"RMSE\", lin_rmse)"
   ]
  },
  {
   "cell_type": "markdown",
   "metadata": {
    "collapsed": true
   },
   "source": [
    "## Lasso Regression"
   ]
  },
  {
   "cell_type": "markdown",
   "metadata": {},
   "source": [
    "<h3> Q.6.0 Fit lasso regression to training data with alpha 20. (Bonus: You could try CV to find the best alpha within a range)</h3>"
   ]
  },
  {
   "cell_type": "code",
   "execution_count": 10,
   "metadata": {
    "collapsed": true
   },
   "outputs": [
    {
     "name": "stdout",
     "output_type": "stream",
     "text": [
      "Lasso RMSE 21576.20288685336\n"
     ]
    }
   ],
   "source": [
    "from sklearn import linear_model\n",
    "\n",
    "#TODO: fit a Lasso regression model to this data\n",
    "lasso_model = linear_model.Lasso(alpha=20.0, max_iter=5000, normalize=True).fit(X_train, y_train)\n",
    "y_pred_lasso = lasso_model.predict(X_test)\n",
    "\n",
    "#Compute the RMSE \n",
    "lasso_mse = mean_squared_error(y_test, y_pred_lasso)\n",
    "lasso_rmse = np.sqrt(lasso_mse)\n",
    "print(\"Lasso RMSE\", lasso_rmse)"
   ]
  },
  {
   "cell_type": "markdown",
   "metadata": {},
   "source": [
    "<h3> Q.6.1 How many columns has the model chosen?</h3>"
   ]
  },
  {
   "cell_type": "code",
   "execution_count": 11,
   "metadata": {
    "collapsed": true
   },
   "outputs": [
    {
     "data": {
      "text/plain": "                   feature   coefficient\n0               MSSubClass    -31.583018\n1              LotFrontage      2.586916\n2                  LotArea      0.513083\n3              OverallQual   7697.120383\n4              OverallCond   3665.094319\n5                YearBuilt    198.864409\n6             YearRemodAdd     79.836526\n7               MasVnrArea     20.931380\n8               BsmtFinSF1     16.366954\n9               BsmtFinSF2      0.000000\n10               BsmtUnfSF     -0.000000\n11             TotalBsmtSF     14.751553\n12                1stFlrSF      0.564833\n13                2ndFlrSF      0.000000\n14            LowQualFinSF     -0.000000\n15               GrLivArea     54.417266\n16            BsmtFullBath   1392.983238\n17            BsmtHalfBath  -2280.932544\n18                FullBath      0.000000\n19                HalfBath      0.000000\n20            BedroomAbvGr  -2020.715021\n21            KitchenAbvGr  -4904.773317\n22            TotRmsAbvGrd    826.377638\n23              Fireplaces   1478.239407\n24             GarageYrBlt     26.641838\n25              GarageCars   4436.533199\n26              GarageArea      8.786774\n27              WoodDeckSF     10.339835\n28             OpenPorchSF     14.407143\n29           EnclosedPorch      0.000000\n30               3SsnPorch      6.853869\n31             ScreenPorch     17.932276\n32                PoolArea      0.000000\n33                 MiscVal     -0.000000\n34                  MoSold    -73.711687\n35                  YrSold     -0.000000\n36        MSZoning_C (all)  -7852.580263\n37             MSZoning_FV   5028.524715\n38             MSZoning_RH     -0.000000\n39             MSZoning_RL      0.000000\n40             MSZoning_RM  -2968.029401\n41             Street_Grvl  -3392.105812\n42             Street_Pave      0.000000\n43              Alley_Grvl     -0.000000\n44              Alley_Pave      0.000000\n45            LotShape_IR1     -0.000000\n46            LotShape_IR2   1868.410837\n47            LotShape_IR3      0.000000\n48            LotShape_Reg      0.000000\n49         LandContour_Bnk     -0.000000\n50         LandContour_HLS   1663.535820\n51         LandContour_Low  -1560.047616\n52         LandContour_Lvl      0.000000\n53        Utilities_AllPub      0.000000\n54        Utilities_NoSeWa     -0.000000\n55        LotConfig_Corner     -0.000000\n56       LotConfig_CulDSac   8517.490090\n57           LotConfig_FR2   -604.411445\n58           LotConfig_FR3     -0.000000\n59        LotConfig_Inside      0.000000\n60           LandSlope_Gtl     -0.000000\n61           LandSlope_Mod      0.000000\n62           LandSlope_Sev -20235.820254\n63    Neighborhood_Blmngtn      0.000000\n64    Neighborhood_Blueste      0.000000\n65     Neighborhood_BrDale      0.000000\n66    Neighborhood_BrkSide   5912.991234\n67    Neighborhood_ClearCr     -0.000000\n68    Neighborhood_CollgCr      0.000000\n69    Neighborhood_Crawfor  17155.883197\n70    Neighborhood_Edwards   -198.242765\n71    Neighborhood_Gilbert     -0.000000\n72     Neighborhood_IDOTRR     -0.000000\n73    Neighborhood_MeadowV     -0.000000\n74    Neighborhood_Mitchel  -4096.028977\n75      Neighborhood_NAmes   -339.693715\n76    Neighborhood_NPkVill   2932.629493\n77     Neighborhood_NWAmes  -1021.437736\n78    Neighborhood_NoRidge  24932.473577\n79    Neighborhood_NridgHt  11514.235417\n80    Neighborhood_OldTown   -631.081294\n81      Neighborhood_SWISU     -0.000000\n82     Neighborhood_Sawyer      0.000000\n83    Neighborhood_SawyerW      0.000000\n84    Neighborhood_Somerst   2758.046458\n85    Neighborhood_StoneBr  35611.140060\n86     Neighborhood_Timber  -1384.824380\n87    Neighborhood_Veenker   4118.073114\n88       Condition1_Artery  -1457.606269\n89        Condition1_Feedr     -0.000000\n90         Condition1_Norm   6175.418009\n91         Condition1_PosA     -0.000000\n92         Condition1_PosN     -0.000000\n93         Condition1_RRAe  -7191.348669\n94         Condition1_RRAn      0.000000\n95         Condition1_RRNe      0.000000\n96         Condition1_RRNn     -0.000000\n97       Condition2_Artery      0.000000\n98        Condition2_Feedr     -0.000000\n99         Condition2_Norm      0.000000\n100        Condition2_PosA      0.000000\n101        Condition2_PosN  -7878.616885\n102        Condition2_RRAe   -102.982869\n103        Condition2_RRAn     -0.000000\n104        Condition2_RRNn      0.000000\n105          BldgType_1Fam  10851.161631\n106        BldgType_2fmCon      0.000000\n107        BldgType_Duplex  -2447.400567\n108         BldgType_Twnhs  -1248.088431\n109        BldgType_TwnhsE     -0.000000\n110      HouseStyle_1.5Fin  -1961.770902\n111      HouseStyle_1.5Unf      0.000000\n112      HouseStyle_1Story      0.000000\n113      HouseStyle_2.5Fin      0.000000\n114      HouseStyle_2.5Unf     -0.000000\n115      HouseStyle_2Story      0.000000\n116      HouseStyle_SFoyer     -0.000000\n117        HouseStyle_SLvl     -0.000000\n118         RoofStyle_Flat     -0.000000\n119        RoofStyle_Gable     -0.000000\n120      RoofStyle_Gambrel      0.000000\n121          RoofStyle_Hip      0.000000\n122      RoofStyle_Mansard    439.905318\n123         RoofStyle_Shed      0.000000\n124       RoofMatl_CompShg     -0.000000\n125       RoofMatl_Membran      0.000000\n126         RoofMatl_Metal      0.000000\n127          RoofMatl_Roll     -0.000000\n128       RoofMatl_Tar&Grv   -947.098461\n129       RoofMatl_WdShake   1170.555212\n130       RoofMatl_WdShngl  15207.529517\n131    Exterior1st_AsbShng      0.000000\n132    Exterior1st_AsphShn     -0.000000\n133    Exterior1st_BrkComm     -0.000000\n134    Exterior1st_BrkFace  16827.224198\n135     Exterior1st_CBlock     -0.000000\n136    Exterior1st_CemntBd   3545.581476\n137    Exterior1st_HdBoard     -0.000000\n138    Exterior1st_ImStucc     -0.000000\n139    Exterior1st_MetalSd      0.000000\n140    Exterior1st_Plywood   -337.236298\n141      Exterior1st_Stone      0.000000\n142     Exterior1st_Stucco      0.000000\n143    Exterior1st_VinylSd      0.000000\n144    Exterior1st_Wd Sdng     -0.000000\n145    Exterior1st_WdShing     -0.000000\n146    Exterior2nd_AsbShng      0.000000\n147    Exterior2nd_AsphShn      0.000000\n148    Exterior2nd_Brk Cmn      0.000000\n149    Exterior2nd_BrkFace      0.000000\n150     Exterior2nd_CBlock     -0.000000\n151    Exterior2nd_CmentBd      0.000000\n152    Exterior2nd_HdBoard     -0.000000\n153    Exterior2nd_ImStucc     -0.000000\n154    Exterior2nd_MetalSd      0.000000\n155      Exterior2nd_Other     -0.000000\n156    Exterior2nd_Plywood     -0.000000\n157      Exterior2nd_Stone      0.000000\n158     Exterior2nd_Stucco      0.000000\n159    Exterior2nd_VinylSd      0.000000\n160    Exterior2nd_Wd Sdng     -0.000000\n161    Exterior2nd_Wd Shng     -0.000000\n162      MasVnrType_BrkCmn  -5009.724894\n163     MasVnrType_BrkFace  -2835.847701\n164        MasVnrType_None      0.000000\n165       MasVnrType_Stone   3825.469996\n166           ExterQual_Ex  23758.221789\n167           ExterQual_Fa      0.000000\n168           ExterQual_Gd      0.000000\n169           ExterQual_TA  -4433.685127\n170           ExterCond_Ex      0.000000\n171           ExterCond_Fa      0.000000\n172           ExterCond_Gd     -0.000000\n173           ExterCond_Po     -0.000000\n174           ExterCond_TA     -0.000000\n175      Foundation_BrkTil     -0.000000\n176      Foundation_CBlock     -0.000000\n177       Foundation_PConc   2320.883528\n178        Foundation_Slab      0.000000\n179       Foundation_Stone     -0.000000\n180        Foundation_Wood  -4573.628578\n181            BsmtQual_Ex  22247.507587\n182            BsmtQual_Fa      0.000000\n183            BsmtQual_Gd     -0.000000\n184            BsmtQual_TA   -441.870001\n185            BsmtCond_Fa  -2859.222404\n186            BsmtCond_Gd     -0.000000\n187            BsmtCond_Po      0.000000\n188            BsmtCond_TA      0.000000\n189        BsmtExposure_Av     -0.000000\n190        BsmtExposure_Gd  17181.634432\n191        BsmtExposure_Mn      0.000000\n192        BsmtExposure_No  -3959.478273\n193       BsmtFinType1_ALQ      0.000000\n194       BsmtFinType1_BLQ      0.000000\n195       BsmtFinType1_GLQ   2210.064551\n196       BsmtFinType1_LwQ  -1676.401797\n197       BsmtFinType1_Rec  -1689.251164\n198       BsmtFinType1_Unf     -0.000000\n199       BsmtFinType2_ALQ   5546.195222\n200       BsmtFinType2_BLQ     -0.000000\n201       BsmtFinType2_GLQ      0.000000\n202       BsmtFinType2_LwQ     -0.000000\n203       BsmtFinType2_Rec      0.000000\n204       BsmtFinType2_Unf     -0.000000\n205          Heating_Floor      0.000000\n206           Heating_GasA      0.000000\n207           Heating_GasW     -0.000000\n208           Heating_Grav      0.000000\n209           Heating_OthW -24528.245250\n210           Heating_Wall      0.000000\n211           HeatingQC_Ex   2449.928185\n212           HeatingQC_Fa     -0.000000\n213           HeatingQC_Gd     -0.000000\n214           HeatingQC_Po      0.000000\n215           HeatingQC_TA     -0.000000\n216           CentralAir_N      0.000000\n217           CentralAir_Y     -0.000000\n218       Electrical_FuseA      0.000000\n219       Electrical_FuseF      0.000000\n220       Electrical_FuseP     -0.000000\n221         Electrical_Mix      0.000000\n222       Electrical_SBrkr     -0.000000\n223         KitchenQual_Ex  21925.821778\n224         KitchenQual_Fa      0.000000\n225         KitchenQual_Gd      0.000000\n226         KitchenQual_TA  -1085.702315\n227        Functional_Maj1     -0.000000\n228        Functional_Maj2     -0.000000\n229        Functional_Min1      0.000000\n230        Functional_Min2     -0.000000\n231         Functional_Mod     -0.000000\n232         Functional_Sev -34198.188333\n233         Functional_Typ  12274.944598\n234         FireplaceQu_Ex      0.000000\n235         FireplaceQu_Fa     -0.000000\n236         FireplaceQu_Gd      0.000000\n237         FireplaceQu_Po      0.000000\n238         FireplaceQu_TA      0.000000\n239      GarageType_2Types  -9505.689108\n240      GarageType_Attchd     -0.000000\n241     GarageType_Basment  -3186.886415\n242     GarageType_BuiltIn   4842.587789\n243     GarageType_CarPort     -0.000000\n244      GarageType_Detchd      0.000000\n245       GarageFinish_Fin      0.000000\n246       GarageFinish_RFn     -0.000000\n247       GarageFinish_Unf     -0.000000\n248          GarageQual_Ex  32216.652167\n249          GarageQual_Fa  -1146.899639\n250          GarageQual_Gd      0.000000\n251          GarageQual_Po     -0.000000\n252          GarageQual_TA     -0.000000\n253          GarageCond_Ex  -3854.451119\n254          GarageCond_Fa     -0.000000\n255          GarageCond_Gd     -0.000000\n256          GarageCond_Po     -0.000000\n257          GarageCond_TA      0.000000\n258           PavedDrive_N     -0.000000\n259           PavedDrive_P     -0.000000\n260           PavedDrive_Y      0.000000\n261              PoolQC_Ex  -8552.698799\n262              PoolQC_Fa      0.000000\n263              PoolQC_Gd  24056.307068\n264            Fence_GdPrv     -0.000000\n265             Fence_GdWo      0.000000\n266            Fence_MnPrv      0.000000\n267             Fence_MnWw     -0.000000\n268       MiscFeature_Gar2     -0.000000\n269       MiscFeature_Othr      0.000000\n270       MiscFeature_Shed      0.000000\n271       MiscFeature_TenC     -0.000000\n272           SaleType_COD     -0.000000\n273           SaleType_CWD   1099.605171\n274           SaleType_Con  14385.517767\n275         SaleType_ConLD      0.000000\n276         SaleType_ConLI     -0.000000\n277         SaleType_ConLw      0.000000\n278           SaleType_New  17719.428899\n279           SaleType_Oth     -0.000000\n280            SaleType_WD     -0.000000\n281  SaleCondition_Abnorml  -8333.250450\n282  SaleCondition_AdjLand      0.000000\n283   SaleCondition_Alloca     -0.000000\n284   SaleCondition_Family  -3084.890355\n285   SaleCondition_Normal      0.000000\n286  SaleCondition_Partial      0.000000",
      "text/html": "<div>\n<style scoped>\n    .dataframe tbody tr th:only-of-type {\n        vertical-align: middle;\n    }\n\n    .dataframe tbody tr th {\n        vertical-align: top;\n    }\n\n    .dataframe thead th {\n        text-align: right;\n    }\n</style>\n<table border=\"1\" class=\"dataframe\">\n  <thead>\n    <tr style=\"text-align: right;\">\n      <th></th>\n      <th>feature</th>\n      <th>coefficient</th>\n    </tr>\n  </thead>\n  <tbody>\n    <tr>\n      <th>0</th>\n      <td>MSSubClass</td>\n      <td>-31.583018</td>\n    </tr>\n    <tr>\n      <th>1</th>\n      <td>LotFrontage</td>\n      <td>2.586916</td>\n    </tr>\n    <tr>\n      <th>2</th>\n      <td>LotArea</td>\n      <td>0.513083</td>\n    </tr>\n    <tr>\n      <th>3</th>\n      <td>OverallQual</td>\n      <td>7697.120383</td>\n    </tr>\n    <tr>\n      <th>4</th>\n      <td>OverallCond</td>\n      <td>3665.094319</td>\n    </tr>\n    <tr>\n      <th>5</th>\n      <td>YearBuilt</td>\n      <td>198.864409</td>\n    </tr>\n    <tr>\n      <th>6</th>\n      <td>YearRemodAdd</td>\n      <td>79.836526</td>\n    </tr>\n    <tr>\n      <th>7</th>\n      <td>MasVnrArea</td>\n      <td>20.931380</td>\n    </tr>\n    <tr>\n      <th>8</th>\n      <td>BsmtFinSF1</td>\n      <td>16.366954</td>\n    </tr>\n    <tr>\n      <th>9</th>\n      <td>BsmtFinSF2</td>\n      <td>0.000000</td>\n    </tr>\n    <tr>\n      <th>10</th>\n      <td>BsmtUnfSF</td>\n      <td>-0.000000</td>\n    </tr>\n    <tr>\n      <th>11</th>\n      <td>TotalBsmtSF</td>\n      <td>14.751553</td>\n    </tr>\n    <tr>\n      <th>12</th>\n      <td>1stFlrSF</td>\n      <td>0.564833</td>\n    </tr>\n    <tr>\n      <th>13</th>\n      <td>2ndFlrSF</td>\n      <td>0.000000</td>\n    </tr>\n    <tr>\n      <th>14</th>\n      <td>LowQualFinSF</td>\n      <td>-0.000000</td>\n    </tr>\n    <tr>\n      <th>15</th>\n      <td>GrLivArea</td>\n      <td>54.417266</td>\n    </tr>\n    <tr>\n      <th>16</th>\n      <td>BsmtFullBath</td>\n      <td>1392.983238</td>\n    </tr>\n    <tr>\n      <th>17</th>\n      <td>BsmtHalfBath</td>\n      <td>-2280.932544</td>\n    </tr>\n    <tr>\n      <th>18</th>\n      <td>FullBath</td>\n      <td>0.000000</td>\n    </tr>\n    <tr>\n      <th>19</th>\n      <td>HalfBath</td>\n      <td>0.000000</td>\n    </tr>\n    <tr>\n      <th>20</th>\n      <td>BedroomAbvGr</td>\n      <td>-2020.715021</td>\n    </tr>\n    <tr>\n      <th>21</th>\n      <td>KitchenAbvGr</td>\n      <td>-4904.773317</td>\n    </tr>\n    <tr>\n      <th>22</th>\n      <td>TotRmsAbvGrd</td>\n      <td>826.377638</td>\n    </tr>\n    <tr>\n      <th>23</th>\n      <td>Fireplaces</td>\n      <td>1478.239407</td>\n    </tr>\n    <tr>\n      <th>24</th>\n      <td>GarageYrBlt</td>\n      <td>26.641838</td>\n    </tr>\n    <tr>\n      <th>25</th>\n      <td>GarageCars</td>\n      <td>4436.533199</td>\n    </tr>\n    <tr>\n      <th>26</th>\n      <td>GarageArea</td>\n      <td>8.786774</td>\n    </tr>\n    <tr>\n      <th>27</th>\n      <td>WoodDeckSF</td>\n      <td>10.339835</td>\n    </tr>\n    <tr>\n      <th>28</th>\n      <td>OpenPorchSF</td>\n      <td>14.407143</td>\n    </tr>\n    <tr>\n      <th>29</th>\n      <td>EnclosedPorch</td>\n      <td>0.000000</td>\n    </tr>\n    <tr>\n      <th>30</th>\n      <td>3SsnPorch</td>\n      <td>6.853869</td>\n    </tr>\n    <tr>\n      <th>31</th>\n      <td>ScreenPorch</td>\n      <td>17.932276</td>\n    </tr>\n    <tr>\n      <th>32</th>\n      <td>PoolArea</td>\n      <td>0.000000</td>\n    </tr>\n    <tr>\n      <th>33</th>\n      <td>MiscVal</td>\n      <td>-0.000000</td>\n    </tr>\n    <tr>\n      <th>34</th>\n      <td>MoSold</td>\n      <td>-73.711687</td>\n    </tr>\n    <tr>\n      <th>35</th>\n      <td>YrSold</td>\n      <td>-0.000000</td>\n    </tr>\n    <tr>\n      <th>36</th>\n      <td>MSZoning_C (all)</td>\n      <td>-7852.580263</td>\n    </tr>\n    <tr>\n      <th>37</th>\n      <td>MSZoning_FV</td>\n      <td>5028.524715</td>\n    </tr>\n    <tr>\n      <th>38</th>\n      <td>MSZoning_RH</td>\n      <td>-0.000000</td>\n    </tr>\n    <tr>\n      <th>39</th>\n      <td>MSZoning_RL</td>\n      <td>0.000000</td>\n    </tr>\n    <tr>\n      <th>40</th>\n      <td>MSZoning_RM</td>\n      <td>-2968.029401</td>\n    </tr>\n    <tr>\n      <th>41</th>\n      <td>Street_Grvl</td>\n      <td>-3392.105812</td>\n    </tr>\n    <tr>\n      <th>42</th>\n      <td>Street_Pave</td>\n      <td>0.000000</td>\n    </tr>\n    <tr>\n      <th>43</th>\n      <td>Alley_Grvl</td>\n      <td>-0.000000</td>\n    </tr>\n    <tr>\n      <th>44</th>\n      <td>Alley_Pave</td>\n      <td>0.000000</td>\n    </tr>\n    <tr>\n      <th>45</th>\n      <td>LotShape_IR1</td>\n      <td>-0.000000</td>\n    </tr>\n    <tr>\n      <th>46</th>\n      <td>LotShape_IR2</td>\n      <td>1868.410837</td>\n    </tr>\n    <tr>\n      <th>47</th>\n      <td>LotShape_IR3</td>\n      <td>0.000000</td>\n    </tr>\n    <tr>\n      <th>48</th>\n      <td>LotShape_Reg</td>\n      <td>0.000000</td>\n    </tr>\n    <tr>\n      <th>49</th>\n      <td>LandContour_Bnk</td>\n      <td>-0.000000</td>\n    </tr>\n    <tr>\n      <th>50</th>\n      <td>LandContour_HLS</td>\n      <td>1663.535820</td>\n    </tr>\n    <tr>\n      <th>51</th>\n      <td>LandContour_Low</td>\n      <td>-1560.047616</td>\n    </tr>\n    <tr>\n      <th>52</th>\n      <td>LandContour_Lvl</td>\n      <td>0.000000</td>\n    </tr>\n    <tr>\n      <th>53</th>\n      <td>Utilities_AllPub</td>\n      <td>0.000000</td>\n    </tr>\n    <tr>\n      <th>54</th>\n      <td>Utilities_NoSeWa</td>\n      <td>-0.000000</td>\n    </tr>\n    <tr>\n      <th>55</th>\n      <td>LotConfig_Corner</td>\n      <td>-0.000000</td>\n    </tr>\n    <tr>\n      <th>56</th>\n      <td>LotConfig_CulDSac</td>\n      <td>8517.490090</td>\n    </tr>\n    <tr>\n      <th>57</th>\n      <td>LotConfig_FR2</td>\n      <td>-604.411445</td>\n    </tr>\n    <tr>\n      <th>58</th>\n      <td>LotConfig_FR3</td>\n      <td>-0.000000</td>\n    </tr>\n    <tr>\n      <th>59</th>\n      <td>LotConfig_Inside</td>\n      <td>0.000000</td>\n    </tr>\n    <tr>\n      <th>60</th>\n      <td>LandSlope_Gtl</td>\n      <td>-0.000000</td>\n    </tr>\n    <tr>\n      <th>61</th>\n      <td>LandSlope_Mod</td>\n      <td>0.000000</td>\n    </tr>\n    <tr>\n      <th>62</th>\n      <td>LandSlope_Sev</td>\n      <td>-20235.820254</td>\n    </tr>\n    <tr>\n      <th>63</th>\n      <td>Neighborhood_Blmngtn</td>\n      <td>0.000000</td>\n    </tr>\n    <tr>\n      <th>64</th>\n      <td>Neighborhood_Blueste</td>\n      <td>0.000000</td>\n    </tr>\n    <tr>\n      <th>65</th>\n      <td>Neighborhood_BrDale</td>\n      <td>0.000000</td>\n    </tr>\n    <tr>\n      <th>66</th>\n      <td>Neighborhood_BrkSide</td>\n      <td>5912.991234</td>\n    </tr>\n    <tr>\n      <th>67</th>\n      <td>Neighborhood_ClearCr</td>\n      <td>-0.000000</td>\n    </tr>\n    <tr>\n      <th>68</th>\n      <td>Neighborhood_CollgCr</td>\n      <td>0.000000</td>\n    </tr>\n    <tr>\n      <th>69</th>\n      <td>Neighborhood_Crawfor</td>\n      <td>17155.883197</td>\n    </tr>\n    <tr>\n      <th>70</th>\n      <td>Neighborhood_Edwards</td>\n      <td>-198.242765</td>\n    </tr>\n    <tr>\n      <th>71</th>\n      <td>Neighborhood_Gilbert</td>\n      <td>-0.000000</td>\n    </tr>\n    <tr>\n      <th>72</th>\n      <td>Neighborhood_IDOTRR</td>\n      <td>-0.000000</td>\n    </tr>\n    <tr>\n      <th>73</th>\n      <td>Neighborhood_MeadowV</td>\n      <td>-0.000000</td>\n    </tr>\n    <tr>\n      <th>74</th>\n      <td>Neighborhood_Mitchel</td>\n      <td>-4096.028977</td>\n    </tr>\n    <tr>\n      <th>75</th>\n      <td>Neighborhood_NAmes</td>\n      <td>-339.693715</td>\n    </tr>\n    <tr>\n      <th>76</th>\n      <td>Neighborhood_NPkVill</td>\n      <td>2932.629493</td>\n    </tr>\n    <tr>\n      <th>77</th>\n      <td>Neighborhood_NWAmes</td>\n      <td>-1021.437736</td>\n    </tr>\n    <tr>\n      <th>78</th>\n      <td>Neighborhood_NoRidge</td>\n      <td>24932.473577</td>\n    </tr>\n    <tr>\n      <th>79</th>\n      <td>Neighborhood_NridgHt</td>\n      <td>11514.235417</td>\n    </tr>\n    <tr>\n      <th>80</th>\n      <td>Neighborhood_OldTown</td>\n      <td>-631.081294</td>\n    </tr>\n    <tr>\n      <th>81</th>\n      <td>Neighborhood_SWISU</td>\n      <td>-0.000000</td>\n    </tr>\n    <tr>\n      <th>82</th>\n      <td>Neighborhood_Sawyer</td>\n      <td>0.000000</td>\n    </tr>\n    <tr>\n      <th>83</th>\n      <td>Neighborhood_SawyerW</td>\n      <td>0.000000</td>\n    </tr>\n    <tr>\n      <th>84</th>\n      <td>Neighborhood_Somerst</td>\n      <td>2758.046458</td>\n    </tr>\n    <tr>\n      <th>85</th>\n      <td>Neighborhood_StoneBr</td>\n      <td>35611.140060</td>\n    </tr>\n    <tr>\n      <th>86</th>\n      <td>Neighborhood_Timber</td>\n      <td>-1384.824380</td>\n    </tr>\n    <tr>\n      <th>87</th>\n      <td>Neighborhood_Veenker</td>\n      <td>4118.073114</td>\n    </tr>\n    <tr>\n      <th>88</th>\n      <td>Condition1_Artery</td>\n      <td>-1457.606269</td>\n    </tr>\n    <tr>\n      <th>89</th>\n      <td>Condition1_Feedr</td>\n      <td>-0.000000</td>\n    </tr>\n    <tr>\n      <th>90</th>\n      <td>Condition1_Norm</td>\n      <td>6175.418009</td>\n    </tr>\n    <tr>\n      <th>91</th>\n      <td>Condition1_PosA</td>\n      <td>-0.000000</td>\n    </tr>\n    <tr>\n      <th>92</th>\n      <td>Condition1_PosN</td>\n      <td>-0.000000</td>\n    </tr>\n    <tr>\n      <th>93</th>\n      <td>Condition1_RRAe</td>\n      <td>-7191.348669</td>\n    </tr>\n    <tr>\n      <th>94</th>\n      <td>Condition1_RRAn</td>\n      <td>0.000000</td>\n    </tr>\n    <tr>\n      <th>95</th>\n      <td>Condition1_RRNe</td>\n      <td>0.000000</td>\n    </tr>\n    <tr>\n      <th>96</th>\n      <td>Condition1_RRNn</td>\n      <td>-0.000000</td>\n    </tr>\n    <tr>\n      <th>97</th>\n      <td>Condition2_Artery</td>\n      <td>0.000000</td>\n    </tr>\n    <tr>\n      <th>98</th>\n      <td>Condition2_Feedr</td>\n      <td>-0.000000</td>\n    </tr>\n    <tr>\n      <th>99</th>\n      <td>Condition2_Norm</td>\n      <td>0.000000</td>\n    </tr>\n    <tr>\n      <th>100</th>\n      <td>Condition2_PosA</td>\n      <td>0.000000</td>\n    </tr>\n    <tr>\n      <th>101</th>\n      <td>Condition2_PosN</td>\n      <td>-7878.616885</td>\n    </tr>\n    <tr>\n      <th>102</th>\n      <td>Condition2_RRAe</td>\n      <td>-102.982869</td>\n    </tr>\n    <tr>\n      <th>103</th>\n      <td>Condition2_RRAn</td>\n      <td>-0.000000</td>\n    </tr>\n    <tr>\n      <th>104</th>\n      <td>Condition2_RRNn</td>\n      <td>0.000000</td>\n    </tr>\n    <tr>\n      <th>105</th>\n      <td>BldgType_1Fam</td>\n      <td>10851.161631</td>\n    </tr>\n    <tr>\n      <th>106</th>\n      <td>BldgType_2fmCon</td>\n      <td>0.000000</td>\n    </tr>\n    <tr>\n      <th>107</th>\n      <td>BldgType_Duplex</td>\n      <td>-2447.400567</td>\n    </tr>\n    <tr>\n      <th>108</th>\n      <td>BldgType_Twnhs</td>\n      <td>-1248.088431</td>\n    </tr>\n    <tr>\n      <th>109</th>\n      <td>BldgType_TwnhsE</td>\n      <td>-0.000000</td>\n    </tr>\n    <tr>\n      <th>110</th>\n      <td>HouseStyle_1.5Fin</td>\n      <td>-1961.770902</td>\n    </tr>\n    <tr>\n      <th>111</th>\n      <td>HouseStyle_1.5Unf</td>\n      <td>0.000000</td>\n    </tr>\n    <tr>\n      <th>112</th>\n      <td>HouseStyle_1Story</td>\n      <td>0.000000</td>\n    </tr>\n    <tr>\n      <th>113</th>\n      <td>HouseStyle_2.5Fin</td>\n      <td>0.000000</td>\n    </tr>\n    <tr>\n      <th>114</th>\n      <td>HouseStyle_2.5Unf</td>\n      <td>-0.000000</td>\n    </tr>\n    <tr>\n      <th>115</th>\n      <td>HouseStyle_2Story</td>\n      <td>0.000000</td>\n    </tr>\n    <tr>\n      <th>116</th>\n      <td>HouseStyle_SFoyer</td>\n      <td>-0.000000</td>\n    </tr>\n    <tr>\n      <th>117</th>\n      <td>HouseStyle_SLvl</td>\n      <td>-0.000000</td>\n    </tr>\n    <tr>\n      <th>118</th>\n      <td>RoofStyle_Flat</td>\n      <td>-0.000000</td>\n    </tr>\n    <tr>\n      <th>119</th>\n      <td>RoofStyle_Gable</td>\n      <td>-0.000000</td>\n    </tr>\n    <tr>\n      <th>120</th>\n      <td>RoofStyle_Gambrel</td>\n      <td>0.000000</td>\n    </tr>\n    <tr>\n      <th>121</th>\n      <td>RoofStyle_Hip</td>\n      <td>0.000000</td>\n    </tr>\n    <tr>\n      <th>122</th>\n      <td>RoofStyle_Mansard</td>\n      <td>439.905318</td>\n    </tr>\n    <tr>\n      <th>123</th>\n      <td>RoofStyle_Shed</td>\n      <td>0.000000</td>\n    </tr>\n    <tr>\n      <th>124</th>\n      <td>RoofMatl_CompShg</td>\n      <td>-0.000000</td>\n    </tr>\n    <tr>\n      <th>125</th>\n      <td>RoofMatl_Membran</td>\n      <td>0.000000</td>\n    </tr>\n    <tr>\n      <th>126</th>\n      <td>RoofMatl_Metal</td>\n      <td>0.000000</td>\n    </tr>\n    <tr>\n      <th>127</th>\n      <td>RoofMatl_Roll</td>\n      <td>-0.000000</td>\n    </tr>\n    <tr>\n      <th>128</th>\n      <td>RoofMatl_Tar&amp;Grv</td>\n      <td>-947.098461</td>\n    </tr>\n    <tr>\n      <th>129</th>\n      <td>RoofMatl_WdShake</td>\n      <td>1170.555212</td>\n    </tr>\n    <tr>\n      <th>130</th>\n      <td>RoofMatl_WdShngl</td>\n      <td>15207.529517</td>\n    </tr>\n    <tr>\n      <th>131</th>\n      <td>Exterior1st_AsbShng</td>\n      <td>0.000000</td>\n    </tr>\n    <tr>\n      <th>132</th>\n      <td>Exterior1st_AsphShn</td>\n      <td>-0.000000</td>\n    </tr>\n    <tr>\n      <th>133</th>\n      <td>Exterior1st_BrkComm</td>\n      <td>-0.000000</td>\n    </tr>\n    <tr>\n      <th>134</th>\n      <td>Exterior1st_BrkFace</td>\n      <td>16827.224198</td>\n    </tr>\n    <tr>\n      <th>135</th>\n      <td>Exterior1st_CBlock</td>\n      <td>-0.000000</td>\n    </tr>\n    <tr>\n      <th>136</th>\n      <td>Exterior1st_CemntBd</td>\n      <td>3545.581476</td>\n    </tr>\n    <tr>\n      <th>137</th>\n      <td>Exterior1st_HdBoard</td>\n      <td>-0.000000</td>\n    </tr>\n    <tr>\n      <th>138</th>\n      <td>Exterior1st_ImStucc</td>\n      <td>-0.000000</td>\n    </tr>\n    <tr>\n      <th>139</th>\n      <td>Exterior1st_MetalSd</td>\n      <td>0.000000</td>\n    </tr>\n    <tr>\n      <th>140</th>\n      <td>Exterior1st_Plywood</td>\n      <td>-337.236298</td>\n    </tr>\n    <tr>\n      <th>141</th>\n      <td>Exterior1st_Stone</td>\n      <td>0.000000</td>\n    </tr>\n    <tr>\n      <th>142</th>\n      <td>Exterior1st_Stucco</td>\n      <td>0.000000</td>\n    </tr>\n    <tr>\n      <th>143</th>\n      <td>Exterior1st_VinylSd</td>\n      <td>0.000000</td>\n    </tr>\n    <tr>\n      <th>144</th>\n      <td>Exterior1st_Wd Sdng</td>\n      <td>-0.000000</td>\n    </tr>\n    <tr>\n      <th>145</th>\n      <td>Exterior1st_WdShing</td>\n      <td>-0.000000</td>\n    </tr>\n    <tr>\n      <th>146</th>\n      <td>Exterior2nd_AsbShng</td>\n      <td>0.000000</td>\n    </tr>\n    <tr>\n      <th>147</th>\n      <td>Exterior2nd_AsphShn</td>\n      <td>0.000000</td>\n    </tr>\n    <tr>\n      <th>148</th>\n      <td>Exterior2nd_Brk Cmn</td>\n      <td>0.000000</td>\n    </tr>\n    <tr>\n      <th>149</th>\n      <td>Exterior2nd_BrkFace</td>\n      <td>0.000000</td>\n    </tr>\n    <tr>\n      <th>150</th>\n      <td>Exterior2nd_CBlock</td>\n      <td>-0.000000</td>\n    </tr>\n    <tr>\n      <th>151</th>\n      <td>Exterior2nd_CmentBd</td>\n      <td>0.000000</td>\n    </tr>\n    <tr>\n      <th>152</th>\n      <td>Exterior2nd_HdBoard</td>\n      <td>-0.000000</td>\n    </tr>\n    <tr>\n      <th>153</th>\n      <td>Exterior2nd_ImStucc</td>\n      <td>-0.000000</td>\n    </tr>\n    <tr>\n      <th>154</th>\n      <td>Exterior2nd_MetalSd</td>\n      <td>0.000000</td>\n    </tr>\n    <tr>\n      <th>155</th>\n      <td>Exterior2nd_Other</td>\n      <td>-0.000000</td>\n    </tr>\n    <tr>\n      <th>156</th>\n      <td>Exterior2nd_Plywood</td>\n      <td>-0.000000</td>\n    </tr>\n    <tr>\n      <th>157</th>\n      <td>Exterior2nd_Stone</td>\n      <td>0.000000</td>\n    </tr>\n    <tr>\n      <th>158</th>\n      <td>Exterior2nd_Stucco</td>\n      <td>0.000000</td>\n    </tr>\n    <tr>\n      <th>159</th>\n      <td>Exterior2nd_VinylSd</td>\n      <td>0.000000</td>\n    </tr>\n    <tr>\n      <th>160</th>\n      <td>Exterior2nd_Wd Sdng</td>\n      <td>-0.000000</td>\n    </tr>\n    <tr>\n      <th>161</th>\n      <td>Exterior2nd_Wd Shng</td>\n      <td>-0.000000</td>\n    </tr>\n    <tr>\n      <th>162</th>\n      <td>MasVnrType_BrkCmn</td>\n      <td>-5009.724894</td>\n    </tr>\n    <tr>\n      <th>163</th>\n      <td>MasVnrType_BrkFace</td>\n      <td>-2835.847701</td>\n    </tr>\n    <tr>\n      <th>164</th>\n      <td>MasVnrType_None</td>\n      <td>0.000000</td>\n    </tr>\n    <tr>\n      <th>165</th>\n      <td>MasVnrType_Stone</td>\n      <td>3825.469996</td>\n    </tr>\n    <tr>\n      <th>166</th>\n      <td>ExterQual_Ex</td>\n      <td>23758.221789</td>\n    </tr>\n    <tr>\n      <th>167</th>\n      <td>ExterQual_Fa</td>\n      <td>0.000000</td>\n    </tr>\n    <tr>\n      <th>168</th>\n      <td>ExterQual_Gd</td>\n      <td>0.000000</td>\n    </tr>\n    <tr>\n      <th>169</th>\n      <td>ExterQual_TA</td>\n      <td>-4433.685127</td>\n    </tr>\n    <tr>\n      <th>170</th>\n      <td>ExterCond_Ex</td>\n      <td>0.000000</td>\n    </tr>\n    <tr>\n      <th>171</th>\n      <td>ExterCond_Fa</td>\n      <td>0.000000</td>\n    </tr>\n    <tr>\n      <th>172</th>\n      <td>ExterCond_Gd</td>\n      <td>-0.000000</td>\n    </tr>\n    <tr>\n      <th>173</th>\n      <td>ExterCond_Po</td>\n      <td>-0.000000</td>\n    </tr>\n    <tr>\n      <th>174</th>\n      <td>ExterCond_TA</td>\n      <td>-0.000000</td>\n    </tr>\n    <tr>\n      <th>175</th>\n      <td>Foundation_BrkTil</td>\n      <td>-0.000000</td>\n    </tr>\n    <tr>\n      <th>176</th>\n      <td>Foundation_CBlock</td>\n      <td>-0.000000</td>\n    </tr>\n    <tr>\n      <th>177</th>\n      <td>Foundation_PConc</td>\n      <td>2320.883528</td>\n    </tr>\n    <tr>\n      <th>178</th>\n      <td>Foundation_Slab</td>\n      <td>0.000000</td>\n    </tr>\n    <tr>\n      <th>179</th>\n      <td>Foundation_Stone</td>\n      <td>-0.000000</td>\n    </tr>\n    <tr>\n      <th>180</th>\n      <td>Foundation_Wood</td>\n      <td>-4573.628578</td>\n    </tr>\n    <tr>\n      <th>181</th>\n      <td>BsmtQual_Ex</td>\n      <td>22247.507587</td>\n    </tr>\n    <tr>\n      <th>182</th>\n      <td>BsmtQual_Fa</td>\n      <td>0.000000</td>\n    </tr>\n    <tr>\n      <th>183</th>\n      <td>BsmtQual_Gd</td>\n      <td>-0.000000</td>\n    </tr>\n    <tr>\n      <th>184</th>\n      <td>BsmtQual_TA</td>\n      <td>-441.870001</td>\n    </tr>\n    <tr>\n      <th>185</th>\n      <td>BsmtCond_Fa</td>\n      <td>-2859.222404</td>\n    </tr>\n    <tr>\n      <th>186</th>\n      <td>BsmtCond_Gd</td>\n      <td>-0.000000</td>\n    </tr>\n    <tr>\n      <th>187</th>\n      <td>BsmtCond_Po</td>\n      <td>0.000000</td>\n    </tr>\n    <tr>\n      <th>188</th>\n      <td>BsmtCond_TA</td>\n      <td>0.000000</td>\n    </tr>\n    <tr>\n      <th>189</th>\n      <td>BsmtExposure_Av</td>\n      <td>-0.000000</td>\n    </tr>\n    <tr>\n      <th>190</th>\n      <td>BsmtExposure_Gd</td>\n      <td>17181.634432</td>\n    </tr>\n    <tr>\n      <th>191</th>\n      <td>BsmtExposure_Mn</td>\n      <td>0.000000</td>\n    </tr>\n    <tr>\n      <th>192</th>\n      <td>BsmtExposure_No</td>\n      <td>-3959.478273</td>\n    </tr>\n    <tr>\n      <th>193</th>\n      <td>BsmtFinType1_ALQ</td>\n      <td>0.000000</td>\n    </tr>\n    <tr>\n      <th>194</th>\n      <td>BsmtFinType1_BLQ</td>\n      <td>0.000000</td>\n    </tr>\n    <tr>\n      <th>195</th>\n      <td>BsmtFinType1_GLQ</td>\n      <td>2210.064551</td>\n    </tr>\n    <tr>\n      <th>196</th>\n      <td>BsmtFinType1_LwQ</td>\n      <td>-1676.401797</td>\n    </tr>\n    <tr>\n      <th>197</th>\n      <td>BsmtFinType1_Rec</td>\n      <td>-1689.251164</td>\n    </tr>\n    <tr>\n      <th>198</th>\n      <td>BsmtFinType1_Unf</td>\n      <td>-0.000000</td>\n    </tr>\n    <tr>\n      <th>199</th>\n      <td>BsmtFinType2_ALQ</td>\n      <td>5546.195222</td>\n    </tr>\n    <tr>\n      <th>200</th>\n      <td>BsmtFinType2_BLQ</td>\n      <td>-0.000000</td>\n    </tr>\n    <tr>\n      <th>201</th>\n      <td>BsmtFinType2_GLQ</td>\n      <td>0.000000</td>\n    </tr>\n    <tr>\n      <th>202</th>\n      <td>BsmtFinType2_LwQ</td>\n      <td>-0.000000</td>\n    </tr>\n    <tr>\n      <th>203</th>\n      <td>BsmtFinType2_Rec</td>\n      <td>0.000000</td>\n    </tr>\n    <tr>\n      <th>204</th>\n      <td>BsmtFinType2_Unf</td>\n      <td>-0.000000</td>\n    </tr>\n    <tr>\n      <th>205</th>\n      <td>Heating_Floor</td>\n      <td>0.000000</td>\n    </tr>\n    <tr>\n      <th>206</th>\n      <td>Heating_GasA</td>\n      <td>0.000000</td>\n    </tr>\n    <tr>\n      <th>207</th>\n      <td>Heating_GasW</td>\n      <td>-0.000000</td>\n    </tr>\n    <tr>\n      <th>208</th>\n      <td>Heating_Grav</td>\n      <td>0.000000</td>\n    </tr>\n    <tr>\n      <th>209</th>\n      <td>Heating_OthW</td>\n      <td>-24528.245250</td>\n    </tr>\n    <tr>\n      <th>210</th>\n      <td>Heating_Wall</td>\n      <td>0.000000</td>\n    </tr>\n    <tr>\n      <th>211</th>\n      <td>HeatingQC_Ex</td>\n      <td>2449.928185</td>\n    </tr>\n    <tr>\n      <th>212</th>\n      <td>HeatingQC_Fa</td>\n      <td>-0.000000</td>\n    </tr>\n    <tr>\n      <th>213</th>\n      <td>HeatingQC_Gd</td>\n      <td>-0.000000</td>\n    </tr>\n    <tr>\n      <th>214</th>\n      <td>HeatingQC_Po</td>\n      <td>0.000000</td>\n    </tr>\n    <tr>\n      <th>215</th>\n      <td>HeatingQC_TA</td>\n      <td>-0.000000</td>\n    </tr>\n    <tr>\n      <th>216</th>\n      <td>CentralAir_N</td>\n      <td>0.000000</td>\n    </tr>\n    <tr>\n      <th>217</th>\n      <td>CentralAir_Y</td>\n      <td>-0.000000</td>\n    </tr>\n    <tr>\n      <th>218</th>\n      <td>Electrical_FuseA</td>\n      <td>0.000000</td>\n    </tr>\n    <tr>\n      <th>219</th>\n      <td>Electrical_FuseF</td>\n      <td>0.000000</td>\n    </tr>\n    <tr>\n      <th>220</th>\n      <td>Electrical_FuseP</td>\n      <td>-0.000000</td>\n    </tr>\n    <tr>\n      <th>221</th>\n      <td>Electrical_Mix</td>\n      <td>0.000000</td>\n    </tr>\n    <tr>\n      <th>222</th>\n      <td>Electrical_SBrkr</td>\n      <td>-0.000000</td>\n    </tr>\n    <tr>\n      <th>223</th>\n      <td>KitchenQual_Ex</td>\n      <td>21925.821778</td>\n    </tr>\n    <tr>\n      <th>224</th>\n      <td>KitchenQual_Fa</td>\n      <td>0.000000</td>\n    </tr>\n    <tr>\n      <th>225</th>\n      <td>KitchenQual_Gd</td>\n      <td>0.000000</td>\n    </tr>\n    <tr>\n      <th>226</th>\n      <td>KitchenQual_TA</td>\n      <td>-1085.702315</td>\n    </tr>\n    <tr>\n      <th>227</th>\n      <td>Functional_Maj1</td>\n      <td>-0.000000</td>\n    </tr>\n    <tr>\n      <th>228</th>\n      <td>Functional_Maj2</td>\n      <td>-0.000000</td>\n    </tr>\n    <tr>\n      <th>229</th>\n      <td>Functional_Min1</td>\n      <td>0.000000</td>\n    </tr>\n    <tr>\n      <th>230</th>\n      <td>Functional_Min2</td>\n      <td>-0.000000</td>\n    </tr>\n    <tr>\n      <th>231</th>\n      <td>Functional_Mod</td>\n      <td>-0.000000</td>\n    </tr>\n    <tr>\n      <th>232</th>\n      <td>Functional_Sev</td>\n      <td>-34198.188333</td>\n    </tr>\n    <tr>\n      <th>233</th>\n      <td>Functional_Typ</td>\n      <td>12274.944598</td>\n    </tr>\n    <tr>\n      <th>234</th>\n      <td>FireplaceQu_Ex</td>\n      <td>0.000000</td>\n    </tr>\n    <tr>\n      <th>235</th>\n      <td>FireplaceQu_Fa</td>\n      <td>-0.000000</td>\n    </tr>\n    <tr>\n      <th>236</th>\n      <td>FireplaceQu_Gd</td>\n      <td>0.000000</td>\n    </tr>\n    <tr>\n      <th>237</th>\n      <td>FireplaceQu_Po</td>\n      <td>0.000000</td>\n    </tr>\n    <tr>\n      <th>238</th>\n      <td>FireplaceQu_TA</td>\n      <td>0.000000</td>\n    </tr>\n    <tr>\n      <th>239</th>\n      <td>GarageType_2Types</td>\n      <td>-9505.689108</td>\n    </tr>\n    <tr>\n      <th>240</th>\n      <td>GarageType_Attchd</td>\n      <td>-0.000000</td>\n    </tr>\n    <tr>\n      <th>241</th>\n      <td>GarageType_Basment</td>\n      <td>-3186.886415</td>\n    </tr>\n    <tr>\n      <th>242</th>\n      <td>GarageType_BuiltIn</td>\n      <td>4842.587789</td>\n    </tr>\n    <tr>\n      <th>243</th>\n      <td>GarageType_CarPort</td>\n      <td>-0.000000</td>\n    </tr>\n    <tr>\n      <th>244</th>\n      <td>GarageType_Detchd</td>\n      <td>0.000000</td>\n    </tr>\n    <tr>\n      <th>245</th>\n      <td>GarageFinish_Fin</td>\n      <td>0.000000</td>\n    </tr>\n    <tr>\n      <th>246</th>\n      <td>GarageFinish_RFn</td>\n      <td>-0.000000</td>\n    </tr>\n    <tr>\n      <th>247</th>\n      <td>GarageFinish_Unf</td>\n      <td>-0.000000</td>\n    </tr>\n    <tr>\n      <th>248</th>\n      <td>GarageQual_Ex</td>\n      <td>32216.652167</td>\n    </tr>\n    <tr>\n      <th>249</th>\n      <td>GarageQual_Fa</td>\n      <td>-1146.899639</td>\n    </tr>\n    <tr>\n      <th>250</th>\n      <td>GarageQual_Gd</td>\n      <td>0.000000</td>\n    </tr>\n    <tr>\n      <th>251</th>\n      <td>GarageQual_Po</td>\n      <td>-0.000000</td>\n    </tr>\n    <tr>\n      <th>252</th>\n      <td>GarageQual_TA</td>\n      <td>-0.000000</td>\n    </tr>\n    <tr>\n      <th>253</th>\n      <td>GarageCond_Ex</td>\n      <td>-3854.451119</td>\n    </tr>\n    <tr>\n      <th>254</th>\n      <td>GarageCond_Fa</td>\n      <td>-0.000000</td>\n    </tr>\n    <tr>\n      <th>255</th>\n      <td>GarageCond_Gd</td>\n      <td>-0.000000</td>\n    </tr>\n    <tr>\n      <th>256</th>\n      <td>GarageCond_Po</td>\n      <td>-0.000000</td>\n    </tr>\n    <tr>\n      <th>257</th>\n      <td>GarageCond_TA</td>\n      <td>0.000000</td>\n    </tr>\n    <tr>\n      <th>258</th>\n      <td>PavedDrive_N</td>\n      <td>-0.000000</td>\n    </tr>\n    <tr>\n      <th>259</th>\n      <td>PavedDrive_P</td>\n      <td>-0.000000</td>\n    </tr>\n    <tr>\n      <th>260</th>\n      <td>PavedDrive_Y</td>\n      <td>0.000000</td>\n    </tr>\n    <tr>\n      <th>261</th>\n      <td>PoolQC_Ex</td>\n      <td>-8552.698799</td>\n    </tr>\n    <tr>\n      <th>262</th>\n      <td>PoolQC_Fa</td>\n      <td>0.000000</td>\n    </tr>\n    <tr>\n      <th>263</th>\n      <td>PoolQC_Gd</td>\n      <td>24056.307068</td>\n    </tr>\n    <tr>\n      <th>264</th>\n      <td>Fence_GdPrv</td>\n      <td>-0.000000</td>\n    </tr>\n    <tr>\n      <th>265</th>\n      <td>Fence_GdWo</td>\n      <td>0.000000</td>\n    </tr>\n    <tr>\n      <th>266</th>\n      <td>Fence_MnPrv</td>\n      <td>0.000000</td>\n    </tr>\n    <tr>\n      <th>267</th>\n      <td>Fence_MnWw</td>\n      <td>-0.000000</td>\n    </tr>\n    <tr>\n      <th>268</th>\n      <td>MiscFeature_Gar2</td>\n      <td>-0.000000</td>\n    </tr>\n    <tr>\n      <th>269</th>\n      <td>MiscFeature_Othr</td>\n      <td>0.000000</td>\n    </tr>\n    <tr>\n      <th>270</th>\n      <td>MiscFeature_Shed</td>\n      <td>0.000000</td>\n    </tr>\n    <tr>\n      <th>271</th>\n      <td>MiscFeature_TenC</td>\n      <td>-0.000000</td>\n    </tr>\n    <tr>\n      <th>272</th>\n      <td>SaleType_COD</td>\n      <td>-0.000000</td>\n    </tr>\n    <tr>\n      <th>273</th>\n      <td>SaleType_CWD</td>\n      <td>1099.605171</td>\n    </tr>\n    <tr>\n      <th>274</th>\n      <td>SaleType_Con</td>\n      <td>14385.517767</td>\n    </tr>\n    <tr>\n      <th>275</th>\n      <td>SaleType_ConLD</td>\n      <td>0.000000</td>\n    </tr>\n    <tr>\n      <th>276</th>\n      <td>SaleType_ConLI</td>\n      <td>-0.000000</td>\n    </tr>\n    <tr>\n      <th>277</th>\n      <td>SaleType_ConLw</td>\n      <td>0.000000</td>\n    </tr>\n    <tr>\n      <th>278</th>\n      <td>SaleType_New</td>\n      <td>17719.428899</td>\n    </tr>\n    <tr>\n      <th>279</th>\n      <td>SaleType_Oth</td>\n      <td>-0.000000</td>\n    </tr>\n    <tr>\n      <th>280</th>\n      <td>SaleType_WD</td>\n      <td>-0.000000</td>\n    </tr>\n    <tr>\n      <th>281</th>\n      <td>SaleCondition_Abnorml</td>\n      <td>-8333.250450</td>\n    </tr>\n    <tr>\n      <th>282</th>\n      <td>SaleCondition_AdjLand</td>\n      <td>0.000000</td>\n    </tr>\n    <tr>\n      <th>283</th>\n      <td>SaleCondition_Alloca</td>\n      <td>-0.000000</td>\n    </tr>\n    <tr>\n      <th>284</th>\n      <td>SaleCondition_Family</td>\n      <td>-3084.890355</td>\n    </tr>\n    <tr>\n      <th>285</th>\n      <td>SaleCondition_Normal</td>\n      <td>0.000000</td>\n    </tr>\n    <tr>\n      <th>286</th>\n      <td>SaleCondition_Partial</td>\n      <td>0.000000</td>\n    </tr>\n  </tbody>\n</table>\n</div>"
     },
     "metadata": {},
     "output_type": "display_data"
    },
    {
     "name": "stdout",
     "output_type": "stream",
     "text": [
      "The model lasso'ed 101 features.\n"
     ]
    }
   ],
   "source": [
    "#TODO\n",
    "from IPython.display import display\n",
    "pd.set_option('display.max_rows', None)\n",
    "lasso_data = pd.DataFrame({'feature': X.columns, 'coefficient': lasso_model.coef_})\n",
    "display(lasso_data)\n",
    "pos_count = lasso_data[lasso_data['coefficient'] > 0.01].count()\n",
    "neg_count = lasso_data[lasso_data['coefficient'] < -0.01].count()\n",
    "print(\"The model lasso'ed 101 features.\")"
   ]
  },
  {
   "cell_type": "markdown",
   "metadata": {},
   "source": [
    "## Ridge Regression"
   ]
  },
  {
   "cell_type": "markdown",
   "metadata": {},
   "source": [
    "<h3> Q.7. Perform ridge regression with alpha set to 0.1 and normalize to True. (Bonus: You could try CV to find the best alpha within a range).</h3> "
   ]
  },
  {
   "cell_type": "code",
   "execution_count": 17,
   "metadata": {
    "collapsed": true
   },
   "outputs": [
    {
     "name": "stdout",
     "output_type": "stream",
     "text": [
      "[{0.01: 0.8759270443727617}, {0.1: 0.8911129123614949}, {1: 0.8876873915003721}, {10: 0.6956131918478478}, {20: 0.5524223800162726}]\n"
     ]
    }
   ],
   "source": [
    "from sklearn import linear_model\n",
    "from sklearn.model_selection import cross_val_score\n",
    "\n",
    "# Create model\n",
    "# ridge_model = linear_model.RidgeCV(alphas=(0.01, 1), normalize=True)\n",
    "# ridge_model.fit(X_train, y_train)\n",
    "# cross_val_score(ridge_model, X_train, y_train)\n",
    "scores = []\n",
    "alphas = (0.01, 0.1, 1, 10, 20)\n",
    "for alpha in alphas:\n",
    "    model = linear_model.Ridge(alpha=alpha, normalize=True)\n",
    "    model.fit(X_train, y_train) # Todo: was this needed?\n",
    "    scores.append({\n",
    "        alpha: cross_val_score(estimator=model, X=X_train, y=y_train, cv=3).mean()\n",
    "    })\n",
    "\n",
    "print(scores)\n",
    "\n"
   ]
  },
  {
   "cell_type": "markdown",
   "metadata": {},
   "source": [
    "<h3> Q.8. What is your root mean squared error (RMSE)? Comment on your observation</h3>"
   ]
  },
  {
   "cell_type": "code",
   "execution_count": 13,
   "metadata": {
    "collapsed": true
   },
   "outputs": [
    {
     "name": "stdout",
     "output_type": "stream",
     "text": [
      "Ridge RMSE 21803.962032773405\n"
     ]
    }
   ],
   "source": [
    "# Make the model, but only for 0.1 alpha this time\n",
    "from sklearn import linear_model\n",
    "ridge_model = linear_model.Ridge(alpha=0.1, normalize=True)\n",
    "ridge_model.fit(X_train, y_train)\n",
    "\n",
    "y_pred_ridge = ridge_model.predict(X_test)\n",
    "\n",
    "#Compute the RMSE\n",
    "ridge_mse = mean_squared_error(y_test, y_pred_ridge)\n",
    "ridge_rmse = np.sqrt(ridge_mse)\n",
    "print(\"Ridge RMSE\", ridge_rmse)\n",
    "\n",
    "# Lasso's score was 21576.20288685336 while Ridge's was 21803.962032773405. Lasso has a lower score which means it\n",
    "# is likely the better choice."
   ]
  },
  {
   "cell_type": "markdown",
   "metadata": {},
   "source": [
    "## Elastic Net Regression"
   ]
  },
  {
   "cell_type": "markdown",
   "metadata": {},
   "source": [
    "<h3> Q.9. Perform elastic net regression with different values of alpha (0.01, 0.1 and 20). Compute the RMSE as well. \n"
   ]
  },
  {
   "cell_type": "code",
   "execution_count": 14,
   "metadata": {
    "collapsed": true
   },
   "outputs": [
    {
     "name": "stdout",
     "output_type": "stream",
     "text": [
      "[{0.01: {'RMSE': 32610.114216699745, 'cv_score': 0.8206314112724309}}, {0.1: {'RMSE': 59911.99780485582, 'cv_score': 0.39573239925382553}}, {20: {'RMSE': 72603.26393074224, 'cv_score': 0.0026302581412102066}}]\n"
     ]
    }
   ],
   "source": [
    "#TODO: fit the Elastic net regression model to this data\n",
    "from sklearn import linear_model\n",
    "scores = []\n",
    "alphas = (0.01, 0.1, 20)\n",
    "for alpha in alphas:\n",
    "    # Create and fit individual models\n",
    "    model = linear_model.ElasticNet(alpha=alpha, max_iter=10000, normalize=True)\n",
    "    model.fit(X=X_train, y=y_train)\n",
    "    y_pred = model.predict(X_test)\n",
    "\n",
    "    # Compute RMSEs\n",
    "    elastic_mse = mean_squared_error(y_test, y_pred)\n",
    "    elastic_rmse = np.sqrt(elastic_mse)\n",
    "\n",
    "    scores.append({\n",
    "        alpha: {\n",
    "            'RMSE': elastic_rmse,\n",
    "            'cv_score': cross_val_score(estimator=model, X=X_train, y=y_train, cv=3).mean()\n",
    "        }\n",
    "    })\n",
    "\n",
    "print(scores)"
   ]
  },
  {
   "cell_type": "markdown",
   "metadata": {},
   "source": [
    "<h3>Q.10. Create a new text cell in your Notebook: Complete a 50-100 word summary \n",
    "    (or short description of your thinking in applying this week's learning to the solution) \n",
    "     of your experience in this assignment. Include:\n",
    "<br>                                                                       \n",
    "What was your incoming experience with this model, if any?\n",
    "what steps you took, what obstacles you encountered.\n",
    "how you link this exercise to real-world, machine learning problem-solving. (What steps were missing? What else do you need to learn?)\n",
    "This summary allows your instructor to know how you are doing and allot points for your effort in thinking and planning, and making connections to real-world work.\n",
    "</h3>"
   ]
  },
  {
   "cell_type": "code",
   "execution_count": 15,
   "metadata": {
    "collapsed": true
   },
   "outputs": [],
   "source": [
    "# I've heard of Lasso before, and my friend who just completed his phd used it in his research. I think it'd be\n",
    "# interesting to test out the different parameters available in the model and see what effect they have, i.e.\n",
    "# the intercept option. I also wonder if imputing with mean had a significant effect. The elastic net had issues with\n",
    "# max_iters and convergence warnings. I placed it to a very high max iter, and it is running for quite a long time (minutes).\n",
    "# This was most certainly a surprise to me. Fortunately I saw someone post in the forum about increasing tolerance and\n",
    "# normalizing the model. I also took a different approach for removing outliers (white listing <= 4000), but I am curious\n",
    "# how to splice out / black list data (and what's the recommended way). I am also interested in why the CV score changed\n",
    "# so drastically in my ElasticNet model at 20. When using ridge regression, it was closer to 0.5."
   ]
  }
 ],
 "metadata": {
  "kernelspec": {
   "display_name": "Python 3 [3.6]",
   "language": "python",
   "name": "python3"
  },
  "language_info": {
   "codemirror_mode": {
    "name": "ipython",
    "version": 3
   },
   "file_extension": ".py",
   "mimetype": "text/x-python",
   "name": "python",
   "nbconvert_exporter": "python",
   "pygments_lexer": "ipython3",
   "version": "3.6.4"
  }
 },
 "nbformat": 4,
 "nbformat_minor": 2
}