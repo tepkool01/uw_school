{
 "cells": [
  {
   "cell_type": "markdown",
   "metadata": {},
   "source": [
    "<h1>Lesson 4. Model selection: Car mileage</h1>"
   ]
  },
  {
   "cell_type": "markdown",
   "metadata": {},
   "source": [
    "<img src=\"https://upload.wikimedia.org/wikipedia/commons/thumb/7/77/%22real_time_display%22_of_mileage_%28%22mpg%22%29_on_Honda_Insight.png/320px-%22real_time_display%22_of_mileage_%28%22mpg%22%29_on_Honda_Insight.png\" style=\"height:200px;\">\n",
    "  \n",
    "<p>In this exercise you will predict car mileage based on its properties. The data is taken from <a href=\"http://www-bcf.usc.edu/~gareth/ISL/\">ISLR website</a>, but requires few transformations to make it usable for model building. These transformations will include: missing value imputation and normalizing the variables. </p>\n",
    "\n",
    "<p>This dataset contains 397 car entries with following features:</p>\n",
    "<ul>\n",
    "<li>mpg miles per gallon (what we are trying to predict)</li>\n",
    "<li>cylinders Number of cylinders between 4 and 8</li>\n",
    "<li>displacement Engine displacement (cu. inches)</li>\n",
    "<li>horsepower Engine horsepower</li>\n",
    "<li>weight Vehicle weight (lbs.)</li>\n",
    "<li>acceleration Time to accelerate from 0 to 60 mph (sec.)</li>\n",
    "<li>year Model year (modulo 100)</li>\n",
    "<li>origin Origin of car (1. American, 2. European, 3. Japanese)</li>\n",
    "<li>name Vehicle name</ul>\n",
    "</ul>\n"
   ]
  },
  {
   "cell_type": "code",
   "execution_count": 1,
   "metadata": {},
   "outputs": [
    {
     "name": "stdout",
     "output_type": "stream",
     "text": [
      "<class 'pandas.core.frame.DataFrame'>\n",
      "RangeIndex: 397 entries, 0 to 396\n",
      "Data columns (total 8 columns):\n",
      " #   Column        Non-Null Count  Dtype  \n",
      "---  ------        --------------  -----  \n",
      " 0   mpg           397 non-null    float64\n",
      " 1   cylinders     397 non-null    int64  \n",
      " 2   displacement  397 non-null    float64\n",
      " 3   horsepower    392 non-null    float64\n",
      " 4   weight        397 non-null    int64  \n",
      " 5   acceleration  397 non-null    float64\n",
      " 6   year          397 non-null    int64  \n",
      " 7   origin        397 non-null    int64  \n",
      "dtypes: float64(4), int64(4)\n",
      "memory usage: 24.9 KB\n",
      "None\n"
     ]
    },
    {
     "data": {
      "text/plain": "    mpg  cylinders  displacement  horsepower  weight  acceleration  year  \\\n0  18.0          8         307.0       130.0    3504          12.0    70   \n1  15.0          8         350.0       165.0    3693          11.5    70   \n2  18.0          8         318.0       150.0    3436          11.0    70   \n3  16.0          8         304.0       150.0    3433          12.0    70   \n4  17.0          8         302.0       140.0    3449          10.5    70   \n\n   origin  \n0       1  \n1       1  \n2       1  \n3       1  \n4       1  ",
      "text/html": "<div>\n<style scoped>\n    .dataframe tbody tr th:only-of-type {\n        vertical-align: middle;\n    }\n\n    .dataframe tbody tr th {\n        vertical-align: top;\n    }\n\n    .dataframe thead th {\n        text-align: right;\n    }\n</style>\n<table border=\"1\" class=\"dataframe\">\n  <thead>\n    <tr style=\"text-align: right;\">\n      <th></th>\n      <th>mpg</th>\n      <th>cylinders</th>\n      <th>displacement</th>\n      <th>horsepower</th>\n      <th>weight</th>\n      <th>acceleration</th>\n      <th>year</th>\n      <th>origin</th>\n    </tr>\n  </thead>\n  <tbody>\n    <tr>\n      <th>0</th>\n      <td>18.0</td>\n      <td>8</td>\n      <td>307.0</td>\n      <td>130.0</td>\n      <td>3504</td>\n      <td>12.0</td>\n      <td>70</td>\n      <td>1</td>\n    </tr>\n    <tr>\n      <th>1</th>\n      <td>15.0</td>\n      <td>8</td>\n      <td>350.0</td>\n      <td>165.0</td>\n      <td>3693</td>\n      <td>11.5</td>\n      <td>70</td>\n      <td>1</td>\n    </tr>\n    <tr>\n      <th>2</th>\n      <td>18.0</td>\n      <td>8</td>\n      <td>318.0</td>\n      <td>150.0</td>\n      <td>3436</td>\n      <td>11.0</td>\n      <td>70</td>\n      <td>1</td>\n    </tr>\n    <tr>\n      <th>3</th>\n      <td>16.0</td>\n      <td>8</td>\n      <td>304.0</td>\n      <td>150.0</td>\n      <td>3433</td>\n      <td>12.0</td>\n      <td>70</td>\n      <td>1</td>\n    </tr>\n    <tr>\n      <th>4</th>\n      <td>17.0</td>\n      <td>8</td>\n      <td>302.0</td>\n      <td>140.0</td>\n      <td>3449</td>\n      <td>10.5</td>\n      <td>70</td>\n      <td>1</td>\n    </tr>\n  </tbody>\n</table>\n</div>"
     },
     "execution_count": 1,
     "metadata": {},
     "output_type": "execute_result"
    }
   ],
   "source": [
    "import pandas as pd\n",
    "\n",
    "# Load the data\n",
    "auto = pd.read_csv('Auto.csv')\n",
    "print(auto.info())\n",
    "auto.head()"
   ]
  },
  {
   "cell_type": "markdown",
   "metadata": {},
   "source": [
    "<h3>Q.1. Write a command that will calculate the number of missing values in this dataset</h3>"
   ]
  },
  {
   "cell_type": "code",
   "execution_count": 2,
   "metadata": {
    "collapsed": true
   },
   "outputs": [
    {
     "data": {
      "text/plain": "mpg             0\ncylinders       0\ndisplacement    0\nhorsepower      5\nweight          0\nacceleration    0\nyear            0\norigin          0\ndtype: int64"
     },
     "execution_count": 2,
     "metadata": {},
     "output_type": "execute_result"
    }
   ],
   "source": [
    "# Command(s)\n",
    "auto.isnull().sum()"
   ]
  },
  {
   "cell_type": "markdown",
   "metadata": {},
   "source": [
    "<h3>Q.2. Write a command that will only show the rows with missing values. Can you comment on why the values might be missing (e.g. excessive prevalence of specific feature)?</h3>"
   ]
  },
  {
   "cell_type": "code",
   "execution_count": 3,
   "metadata": {
    "collapsed": true
   },
   "outputs": [
    {
     "data": {
      "text/plain": "      mpg  cylinders  displacement  horsepower  weight  acceleration  year  \\\n32   25.0          4          98.0         NaN    2046          19.0    71   \n126  21.0          6         200.0         NaN    2875          17.0    74   \n330  40.9          4          85.0         NaN    1835          17.3    80   \n336  23.6          4         140.0         NaN    2905          14.3    80   \n354  34.5          4         100.0         NaN    2320          15.8    81   \n\n     origin  \n32        1  \n126       1  \n330       2  \n336       1  \n354       2  ",
      "text/html": "<div>\n<style scoped>\n    .dataframe tbody tr th:only-of-type {\n        vertical-align: middle;\n    }\n\n    .dataframe tbody tr th {\n        vertical-align: top;\n    }\n\n    .dataframe thead th {\n        text-align: right;\n    }\n</style>\n<table border=\"1\" class=\"dataframe\">\n  <thead>\n    <tr style=\"text-align: right;\">\n      <th></th>\n      <th>mpg</th>\n      <th>cylinders</th>\n      <th>displacement</th>\n      <th>horsepower</th>\n      <th>weight</th>\n      <th>acceleration</th>\n      <th>year</th>\n      <th>origin</th>\n    </tr>\n  </thead>\n  <tbody>\n    <tr>\n      <th>32</th>\n      <td>25.0</td>\n      <td>4</td>\n      <td>98.0</td>\n      <td>NaN</td>\n      <td>2046</td>\n      <td>19.0</td>\n      <td>71</td>\n      <td>1</td>\n    </tr>\n    <tr>\n      <th>126</th>\n      <td>21.0</td>\n      <td>6</td>\n      <td>200.0</td>\n      <td>NaN</td>\n      <td>2875</td>\n      <td>17.0</td>\n      <td>74</td>\n      <td>1</td>\n    </tr>\n    <tr>\n      <th>330</th>\n      <td>40.9</td>\n      <td>4</td>\n      <td>85.0</td>\n      <td>NaN</td>\n      <td>1835</td>\n      <td>17.3</td>\n      <td>80</td>\n      <td>2</td>\n    </tr>\n    <tr>\n      <th>336</th>\n      <td>23.6</td>\n      <td>4</td>\n      <td>140.0</td>\n      <td>NaN</td>\n      <td>2905</td>\n      <td>14.3</td>\n      <td>80</td>\n      <td>1</td>\n    </tr>\n    <tr>\n      <th>354</th>\n      <td>34.5</td>\n      <td>4</td>\n      <td>100.0</td>\n      <td>NaN</td>\n      <td>2320</td>\n      <td>15.8</td>\n      <td>81</td>\n      <td>2</td>\n    </tr>\n  </tbody>\n</table>\n</div>"
     },
     "execution_count": 3,
     "metadata": {},
     "output_type": "execute_result"
    }
   ],
   "source": [
    "# Command:\n",
    "auto[auto.isnull().any(axis=1)]\n",
    "\n",
    "# Comment (One - two sentence)\n",
    "# I don't see anything particularly interesting. The displacement is a little small (relatively), but everything else"
   ]
  },
  {
   "cell_type": "markdown",
   "metadata": {},
   "source": [
    "<h3>Q.3. Impute the missing values using median for the column. Given answer to Q.2, is this a good approach to fix the missing value problem?</h3>"
   ]
  },
  {
   "cell_type": "code",
   "execution_count": 4,
   "metadata": {
    "collapsed": true
   },
   "outputs": [],
   "source": [
    "# Command(s):\n",
    "auto['horsepower'].median()\n",
    "auto['horsepower'].fillna(auto['horsepower'].median(), inplace=True)\n",
    "\n",
    "# Comment (one sentence):\n",
    "# In the previous question, I didn't see any particular connections among the missing values and other features for any correlation, so I believe this is good.\n"
   ]
  },
  {
   "cell_type": "markdown",
   "metadata": {},
   "source": [
    "<h3>Q.4. Develop a Linear Regression model that predicts mpg using all the available features in the data.frame. Summarize it and comment on its quality. </h3>"
   ]
  },
  {
   "cell_type": "code",
   "execution_count": 64,
   "metadata": {
    "collapsed": true
   },
   "outputs": [
    {
     "name": "stdout",
     "output_type": "stream",
     "text": [
      "                                 OLS Regression Results                                \n",
      "=======================================================================================\n",
      "Dep. Variable:                    mpg   R-squared (uncentered):                   0.982\n",
      "Model:                            OLS   Adj. R-squared (uncentered):              0.981\n",
      "Method:                 Least Squares   F-statistic:                              2961.\n",
      "Date:                Wed, 28 Oct 2020   Prob (F-statistic):                        0.00\n",
      "Time:                        11:33:27   Log-Likelihood:                         -1045.3\n",
      "No. Observations:                 397   AIC:                                      2105.\n",
      "Df Residuals:                     390   BIC:                                      2133.\n",
      "Df Model:                           7                                                  \n",
      "Covariance Type:            nonrobust                                                  \n",
      "================================================================================\n",
      "                   coef    std err          t      P>|t|      [0.025      0.975]\n",
      "--------------------------------------------------------------------------------\n",
      "cylinders       -0.6770      0.324     -2.092      0.037      -1.313      -0.041\n",
      "displacement     0.0212      0.008      2.780      0.006       0.006       0.036\n",
      "horsepower      -0.0348      0.012     -2.820      0.005      -0.059      -0.011\n",
      "weight          -0.0062      0.001     -9.673      0.000      -0.008      -0.005\n",
      "acceleration    -0.0608      0.089     -0.682      0.495      -0.236       0.114\n",
      "year             0.5820      0.024     24.186      0.000       0.535       0.629\n",
      "origin           1.2785      0.279      4.576      0.000       0.729       1.828\n",
      "==============================================================================\n",
      "Omnibus:                       46.144   Durbin-Watson:                   1.266\n",
      "Prob(Omnibus):                  0.000   Jarque-Bera (JB):               85.987\n",
      "Skew:                           0.677   Prob(JB):                     2.13e-19\n",
      "Kurtosis:                       4.834   Cond. No.                     5.99e+03\n",
      "==============================================================================\n",
      "\n",
      "Notes:\n",
      "[1] R² is computed without centering (uncentered) since the model does not contain a constant.\n",
      "[2] Standard Errors assume that the covariance matrix of the errors is correctly specified.\n",
      "[3] The condition number is large, 5.99e+03. This might indicate that there are\n",
      "strong multicollinearity or other numerical problems.\n"
     ]
    }
   ],
   "source": [
    "# Develop the model\n",
    "from sklearn import linear_model\n",
    "import statsmodels.api as sm\n",
    "\n",
    "linear_regression = linear_model.LinearRegression()\n",
    "# Could've just dropped a column to get X, also convention is to call it big X\n",
    "y = auto['mpg']\n",
    "x = auto[['cylinders', 'displacement', 'horsepower', 'weight', 'acceleration', 'year', 'origin']]\n",
    "\n",
    "linear_regression.fit(x, y)\n",
    "\n",
    "results = sm.OLS(y, x).fit()\n",
    "print(results.summary())\n",
    "\n",
    "# Comment on its quality \n",
    "# I think it should be a pretty good model because all of the features have a P value of <0.05 except 1 (acceleration). Removing that may aim for a better model. The R^2 is also very high."
   ]
  },
  {
   "cell_type": "markdown",
   "metadata": {},
   "source": [
    "<h3>Q.5. Show histogram of engine displacement to reveal its non-normal distribution.</h3>"
   ]
  },
  {
   "cell_type": "code",
   "execution_count": 6,
   "metadata": {
    "collapsed": true
   },
   "outputs": [
    {
     "data": {
      "text/plain": "<seaborn.axisgrid.FacetGrid at 0x1a9b5dc6588>"
     },
     "execution_count": 6,
     "metadata": {},
     "output_type": "execute_result"
    },
    {
     "data": {
      "text/plain": "<Figure size 360x360 with 1 Axes>",
      "image/png": "[encoded data removed]"
     },
     "metadata": {
      "needs_background": "light"
     },
     "output_type": "display_data"
    }
   ],
   "source": [
    "# Histogram of engine displacement\n",
    "import seaborn as sns\n",
    "sns.displot(auto, x='displacement')"
   ]
  },
  {
   "cell_type": "markdown",
   "metadata": {},
   "source": [
    "<h3>Q.6. Normalize this feature by either applying Box-Cox transformation or any normalization tool from Scikit-learn. Plot this new feature to see whether it is now normally distributed.</h3>"
   ]
  },
  {
   "cell_type": "code",
   "execution_count": 19,
   "metadata": {
    "collapsed": true
   },
   "outputs": [
    {
     "data": {
      "text/plain": "<seaborn.axisgrid.FacetGrid at 0x1a9bcb5f188>"
     },
     "execution_count": 19,
     "metadata": {},
     "output_type": "execute_result"
    },
    {
     "data": {
      "text/plain": "<Figure size 402.25x360 with 1 Axes>",
      "image/png": "[encoded data removed]"
     },
     "metadata": {
      "needs_background": "light"
     },
     "output_type": "display_data"
    }
   ],
   "source": [
    "import numpy as np\n",
    "from sklearn.preprocessing import power_transform\n",
    "displacement = np.array(auto['displacement']).reshape((-1, 1))\n",
    "bc_displacement = power_transform(displacement, method='box-cox')\n",
    "sns.displot(bc_displacement)\n"
   ]
  },
  {
   "cell_type": "markdown",
   "metadata": {},
   "source": [
    "<h3>Q.7. Recalculate the Linear Regression model to predict mpg with the new feature and comment on its performance in comparison to the original model.</h3>"
   ]
  },
  {
   "cell_type": "code",
   "execution_count": 70,
   "metadata": {
    "collapsed": true
   },
   "outputs": [
    {
     "name": "stdout",
     "output_type": "stream",
     "text": [
      "                                 OLS Regression Results                                \n",
      "=======================================================================================\n",
      "Dep. Variable:                    mpg   R-squared (uncentered):                   0.982\n",
      "Model:                            OLS   Adj. R-squared (uncentered):              0.981\n",
      "Method:                 Least Squares   F-statistic:                              2991.\n",
      "Date:                Wed, 28 Oct 2020   Prob (F-statistic):                        0.00\n",
      "Time:                        11:37:13   Log-Likelihood:                         -1043.4\n",
      "No. Observations:                 397   AIC:                                      2101.\n",
      "Df Residuals:                     390   BIC:                                      2129.\n",
      "Df Model:                           7                                                  \n",
      "Covariance Type:            nonrobust                                                  \n",
      "================================================================================\n",
      "                   coef    std err          t      P>|t|      [0.025      0.975]\n",
      "--------------------------------------------------------------------------------\n",
      "cylinders        0.4146      0.280      1.480      0.140      -0.136       0.965\n",
      "displacement    -2.1691      0.636     -3.411      0.001      -3.419      -0.919\n",
      "horsepower      -0.0330      0.012     -2.749      0.006      -0.057      -0.009\n",
      "weight          -0.0042      0.001     -6.038      0.000      -0.006      -0.003\n",
      "acceleration    -0.2016      0.093     -2.180      0.030      -0.383      -0.020\n",
      "year             0.5204      0.026     19.865      0.000       0.469       0.572\n",
      "origin           0.4915      0.307      1.603      0.110      -0.111       1.094\n",
      "==============================================================================\n",
      "Omnibus:                       59.386   Durbin-Watson:                   1.247\n",
      "Prob(Omnibus):                  0.000   Jarque-Bera (JB):              145.567\n",
      "Skew:                           0.746   Prob(JB):                     2.46e-32\n",
      "Kurtosis:                       5.563   Cond. No.                     1.23e+04\n",
      "==============================================================================\n",
      "\n",
      "Notes:\n",
      "[1] R² is computed without centering (uncentered) since the model does not contain a constant.\n",
      "[2] Standard Errors assume that the covariance matrix of the errors is correctly specified.\n",
      "[3] The condition number is large, 1.23e+04. This might indicate that there are\n",
      "strong multicollinearity or other numerical problems.\n"
     ]
    },
    {
     "name": "stderr",
     "output_type": "stream",
     "text": [
      "c:\\users\\dotslash\\pycharmprojects\\uw_school\\venv\\lib\\site-packages\\ipykernel_launcher.py:10: SettingWithCopyWarning: \n",
      "A value is trying to be set on a copy of a slice from a DataFrame.\n",
      "Try using .loc[row_indexer,col_indexer] = value instead\n",
      "\n",
      "See the caveats in the documentation: https://pandas.pydata.org/pandas-docs/stable/user_guide/indexing.html#returning-a-view-versus-a-copy\n",
      "  # Remove the CWD from sys.path while we load stuff.\n"
     ]
    }
   ],
   "source": [
    "# Calculate then new model\n",
    "from sklearn import linear_model\n",
    "import statsmodels.api as sm\n",
    "\n",
    "linear_regression = linear_model.LinearRegression()\n",
    "# y = auto['mpg']\n",
    "# x = auto.drop(columns=\"mpg\")\n",
    "y = auto['mpg']\n",
    "x = auto[['cylinders', 'displacement', 'horsepower', 'weight', 'acceleration', 'year', 'origin']]\n",
    "x['displacement'] = bc_displacement\n",
    "\n",
    "linear_regression.fit(x, y)\n",
    "\n",
    "results = sm.OLS(y, x).fit()\n",
    "print(results.summary())\n",
    "\n",
    "# Comment on its performance\n",
    "# The performance is very similar, (r^2), however instead of 1 P value (acc) being out of whack, there are 2 variables (cylinders\n",
    "# and origins that seem to no longer be correlated. The F-statistic has also risen."
   ]
  },
  {
   "cell_type": "markdown",
   "metadata": {},
   "source": [
    "<h3>Q.8. What is the mean and standard deviation for all the features?</h3>"
   ]
  },
  {
   "cell_type": "code",
   "execution_count": 27,
   "metadata": {
    "collapsed": true
   },
   "outputs": [
    {
     "data": {
      "text/plain": "              mpg   cylinders  displacement  horsepower       weight  \\\ncount  397.000000  397.000000    397.000000  397.000000   397.000000   \nmean    23.515869    5.458438    193.532746  104.331234  2970.261965   \nstd      7.825804    1.701577    104.379583   38.266994   847.904119   \nmin      9.000000    3.000000     68.000000   46.000000  1613.000000   \n25%     17.500000    4.000000    104.000000   76.000000  2223.000000   \n50%     23.000000    4.000000    146.000000   93.500000  2800.000000   \n75%     29.000000    8.000000    262.000000  125.000000  3609.000000   \nmax     46.600000    8.000000    455.000000  230.000000  5140.000000   \n\n       acceleration        year      origin  \ncount    397.000000  397.000000  397.000000  \nmean      15.555668   75.994962    1.574307  \nstd        2.749995    3.690005    0.802549  \nmin        8.000000   70.000000    1.000000  \n25%       13.800000   73.000000    1.000000  \n50%       15.500000   76.000000    1.000000  \n75%       17.100000   79.000000    2.000000  \nmax       24.800000   82.000000    3.000000  ",
      "text/html": "<div>\n<style scoped>\n    .dataframe tbody tr th:only-of-type {\n        vertical-align: middle;\n    }\n\n    .dataframe tbody tr th {\n        vertical-align: top;\n    }\n\n    .dataframe thead th {\n        text-align: right;\n    }\n</style>\n<table border=\"1\" class=\"dataframe\">\n  <thead>\n    <tr style=\"text-align: right;\">\n      <th></th>\n      <th>mpg</th>\n      <th>cylinders</th>\n      <th>displacement</th>\n      <th>horsepower</th>\n      <th>weight</th>\n      <th>acceleration</th>\n      <th>year</th>\n      <th>origin</th>\n    </tr>\n  </thead>\n  <tbody>\n    <tr>\n      <th>count</th>\n      <td>397.000000</td>\n      <td>397.000000</td>\n      <td>397.000000</td>\n      <td>397.000000</td>\n      <td>397.000000</td>\n      <td>397.000000</td>\n      <td>397.000000</td>\n      <td>397.000000</td>\n    </tr>\n    <tr>\n      <th>mean</th>\n      <td>23.515869</td>\n      <td>5.458438</td>\n      <td>193.532746</td>\n      <td>104.331234</td>\n      <td>2970.261965</td>\n      <td>15.555668</td>\n      <td>75.994962</td>\n      <td>1.574307</td>\n    </tr>\n    <tr>\n      <th>std</th>\n      <td>7.825804</td>\n      <td>1.701577</td>\n      <td>104.379583</td>\n      <td>38.266994</td>\n      <td>847.904119</td>\n      <td>2.749995</td>\n      <td>3.690005</td>\n      <td>0.802549</td>\n    </tr>\n    <tr>\n      <th>min</th>\n      <td>9.000000</td>\n      <td>3.000000</td>\n      <td>68.000000</td>\n      <td>46.000000</td>\n      <td>1613.000000</td>\n      <td>8.000000</td>\n      <td>70.000000</td>\n      <td>1.000000</td>\n    </tr>\n    <tr>\n      <th>25%</th>\n      <td>17.500000</td>\n      <td>4.000000</td>\n      <td>104.000000</td>\n      <td>76.000000</td>\n      <td>2223.000000</td>\n      <td>13.800000</td>\n      <td>73.000000</td>\n      <td>1.000000</td>\n    </tr>\n    <tr>\n      <th>50%</th>\n      <td>23.000000</td>\n      <td>4.000000</td>\n      <td>146.000000</td>\n      <td>93.500000</td>\n      <td>2800.000000</td>\n      <td>15.500000</td>\n      <td>76.000000</td>\n      <td>1.000000</td>\n    </tr>\n    <tr>\n      <th>75%</th>\n      <td>29.000000</td>\n      <td>8.000000</td>\n      <td>262.000000</td>\n      <td>125.000000</td>\n      <td>3609.000000</td>\n      <td>17.100000</td>\n      <td>79.000000</td>\n      <td>2.000000</td>\n    </tr>\n    <tr>\n      <th>max</th>\n      <td>46.600000</td>\n      <td>8.000000</td>\n      <td>455.000000</td>\n      <td>230.000000</td>\n      <td>5140.000000</td>\n      <td>24.800000</td>\n      <td>82.000000</td>\n      <td>3.000000</td>\n    </tr>\n  </tbody>\n</table>\n</div>"
     },
     "execution_count": 27,
     "metadata": {},
     "output_type": "execute_result"
    }
   ],
   "source": [
    "auto.describe()\n",
    "\n"
   ]
  },
  {
   "cell_type": "markdown",
   "metadata": {},
   "source": [
    "<h3>Q.9. Center all the features, so that their mean is 0 and scale them, so that their standard deviation is 1. Recalculate the Linear Regression model, comment on its performance.</h3>"
   ]
  },
  {
   "cell_type": "code",
   "execution_count": 78,
   "metadata": {
    "collapsed": true
   },
   "outputs": [
    {
     "name": "stdout",
     "output_type": "stream",
     "text": [
      "                            OLS Regression Results                            \n",
      "==============================================================================\n",
      "Dep. Variable:                      y   R-squared:                       0.822\n",
      "Model:                            OLS   Adj. R-squared:                  0.818\n",
      "Method:                 Least Squares   F-statistic:                     256.1\n",
      "Date:                Wed, 28 Oct 2020   Prob (F-statistic):          2.22e-141\n",
      "Time:                        11:40:44   Log-Likelihood:                -221.05\n",
      "No. Observations:                 397   AIC:                             458.1\n",
      "Df Residuals:                     389   BIC:                             490.0\n",
      "Df Model:                           7                                         \n",
      "Covariance Type:            nonrobust                                         \n",
      "==============================================================================\n",
      "                 coef    std err          t      P>|t|      [0.025      0.975]\n",
      "------------------------------------------------------------------------------\n",
      "const       1.735e-16      0.021    8.1e-15      1.000      -0.042       0.042\n",
      "x1            -0.0978      0.070     -1.395      0.164      -0.236       0.040\n",
      "x2             0.2559      0.100      2.555      0.011       0.059       0.453\n",
      "x3            -0.0538      0.066     -0.815      0.415      -0.184       0.076\n",
      "x4            -0.7257      0.070    -10.410      0.000      -0.863      -0.589\n",
      "x5             0.0389      0.034      1.137      0.256      -0.028       0.106\n",
      "x6             0.3589      0.024     15.031      0.000       0.312       0.406\n",
      "x7             0.1442      0.028      5.093      0.000       0.089       0.200\n",
      "==============================================================================\n",
      "Omnibus:                       29.910   Durbin-Watson:                   1.292\n",
      "Prob(Omnibus):                  0.000   Jarque-Bera (JB):               48.012\n",
      "Skew:                           0.508   Prob(JB):                     3.75e-11\n",
      "Kurtosis:                       4.367   Cond. No.                         11.7\n",
      "==============================================================================\n",
      "\n",
      "Notes:\n",
      "[1] Standard Errors assume that the covariance matrix of the errors is correctly specified.\n"
     ]
    }
   ],
   "source": [
    "from sklearn import preprocessing\n",
    "# Center and scale\n",
    "scaler = preprocessing.StandardScaler()\n",
    "y = auto['mpg']\n",
    "x = auto[['cylinders', 'displacement', 'horsepower', 'weight', 'acceleration', 'year', 'origin']]\n",
    "x = scaler.fit_transform(x)\n",
    "y = scaler.fit_transform(np.array(y).reshape((-1, 1)))\n",
    "\n",
    "# # Recalculate the model\n",
    "linear_regression.fit(x, y)\n",
    "\n",
    "X2 = sm.add_constant(x)\n",
    "results = sm.OLS(y, X2).fit()\n",
    "print(results.summary())\n",
    "\n",
    "# Comment on its performance\n",
    "# It seems that the model has become overall worse. This makes me believe I did something wrong in this assignment, or scaling was\n",
    "# not overall appropriate. However, it is not significantly worse. I'm also unsure if I should be scaling the 'y'"
   ]
  },
  {
   "cell_type": "markdown",
   "metadata": {},
   "source": [
    "<h3>Q.10. Create a new text cell in your Notebook: Complete a 50-100 word summary \n",
    "    (or short description of your thinking in applying this week's learning to the solution) \n",
    "     of your experience in this assignment. Include:\n",
    "<br>                                                                       \n",
    "What was your incoming experience with this model, if any?\n",
    "what steps you took, what obstacles you encountered.\n",
    "how you link this exercise to real-world, machine learning problem-solving. (What steps were missing? What else do you need to learn?)\n",
    "This summary allows your instructor to know how you are doing and allot points for your effort in thinking and planning, and making connections to real-world work.\n",
    "</h3>"
   ]
  },
  {
   "cell_type": "code",
   "execution_count": 10,
   "metadata": {
    "collapsed": true
   },
   "outputs": [],
   "source": [
    "# enter summery here\n",
    "# I started out using train_test_split, but then removed it because I was a little lost on what the OLS results should\n",
    "# be comparing. Again, I had the issue of using old values, so I've explicitly re-instantiated them each code block\n",
    "# for no confusion between models. I'm also unsure about the scaling of 'y', if that is scaled, then how should I\n",
    "# revert back to an actual predictable value? Also, I am curious about the 'axis' property and would like to explore\n",
    "# that more."
   ]
  }
 ],
 "metadata": {
  "kernelspec": {
   "display_name": "Python 3 [3.6]",
   "language": "python",
   "name": "python3"
  },
  "language_info": {
   "codemirror_mode": {
    "name": "ipython",
    "version": 3
   },
   "file_extension": ".py",
   "mimetype": "text/x-python",
   "name": "python",
   "nbconvert_exporter": "python",
   "pygments_lexer": "ipython3",
   "version": "3.6.4"
  }
 },
 "nbformat": 4,
 "nbformat_minor": 2
}