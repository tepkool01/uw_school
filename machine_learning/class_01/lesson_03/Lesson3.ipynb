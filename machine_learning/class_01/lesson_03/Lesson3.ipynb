{
 "cells": [
  {
   "cell_type": "markdown",
   "metadata": {},
   "source": [
    "<h1>Lesson 3. Classification: Credit worthiness from German bank</h1>"
   ]
  },
  {
   "cell_type": "markdown",
   "metadata": {},
   "source": [
    "<img src=\"https://upload.wikimedia.org/wikipedia/commons/8/8e/Flag_map_of_Germany.svg\" style=\"height:200px;\">\n",
    "  \n",
    "  <p>In this exercise you will predict credit worthiness of custmers of a German bank (<a href=\"https://archive.ics.uci.edu/ml/datasets/statlog+(german+credit+data)\">provided by Hans Hofmann from Univeristy of Hamburg</a>). The data we will be working with here is a reduced version of the full dataset.</p>\n",
    "<p>The following features are available for the 1000-row dataset:</p>\n",
    "<ul>\n",
    "<li>Class: Credit worthiness (what you are trying to predict)</li>\n",
    "<li>Duration: Duration of the credit (in months) </li>\n",
    "<li>Amount: Amount of money asked for (in Deutche Marks (DM))</li>\n",
    "<li>InstallmentRatePercentage: Installment rate in percentage of disposable income </li>\n",
    "<li>ResidenceDuration: Number of years at current residence</li>\n",
    "<li>Age: Person's age</li>\n",
    "<li>NumberExistingCredits: Number of credit accounts</li>\n",
    "<li>NumberPeopleMaintenance: Number of people being liable to provide maintenance for the credit</li>\n",
    "<li>Telephone: Is there a phone number associated with the customer name?  </li>\n",
    "<li>ForeignWorker: Is the person a foreign worker?</li>\n",
    "<li>CheckingAccountStatus: Amount of money in the checking account (in DM)<ul>\n",
    "<li>CheckingAccountStatus.lt.0</li>\n",
    "<li>CheckingAccountStatus.0.to.200</li>\n",
    "<li>CheckingAccountStatus.gt.200</li>\n",
    "</ul></li>\n",
    "<li>CreditHistory: Past credit history<ul>\n",
    "<li>CreditHistory.ThisBank.AllPaid</li>\n",
    "<li>CreditHistory.PaidDuly</li>\n",
    "<li>CreditHistory.Delay</li>\n",
    "<li>CreditHistory.Critical</li>\n",
    "</ul></li>\n",
    "</ul>\n",
    "\n",
    "<p>This dataset is available in <a href=\"http://caret.r-forge.r-project.org/\">'caret'</a> library. Let's load it and see how it looks:</p>"
   ]
  },
  {
   "cell_type": "code",
   "execution_count": 108,
   "metadata": {},
   "outputs": [
    {
     "data": {
      "text/plain": "  Class  Duration  Amount  InstallmentRatePercentage  ResidenceDuration  Age  \\\n0  Good         6    1169                          4                  4   67   \n1   Bad        48    5951                          2                  2   22   \n2  Good        12    2096                          2                  3   49   \n3  Good        36    9055                          2                  4   35   \n4  Good        24    2835                          3                  4   53   \n\n   NumberExistingCredits  NumberPeopleMaintenance  Telephone  ForeignWorker  \\\n0                      2                        1          0              1   \n1                      1                        1          1              1   \n2                      1                        2          1              1   \n3                      1                        2          0              1   \n4                      1                        1          1              1   \n\n   CheckingAccountStatus.lt.0  CheckingAccountStatus.0.to.200  \\\n0                           1                               0   \n1                           0                               1   \n2                           0                               0   \n3                           0                               0   \n4                           0                               0   \n\n   CheckingAccountStatus.gt.200  CreditHistory.ThisBank.AllPaid  \\\n0                             0                               0   \n1                             0                               0   \n2                             0                               0   \n3                             0                               0   \n4                             0                               0   \n\n   CreditHistory.PaidDuly  CreditHistory.Delay  CreditHistory.Critical  \n0                       0                    0                       1  \n1                       1                    0                       0  \n2                       0                    0                       1  \n3                       1                    0                       0  \n4                       1                    0                       0  ",
      "text/html": "<div>\n<style scoped>\n    .dataframe tbody tr th:only-of-type {\n        vertical-align: middle;\n    }\n\n    .dataframe tbody tr th {\n        vertical-align: top;\n    }\n\n    .dataframe thead th {\n        text-align: right;\n    }\n</style>\n<table border=\"1\" class=\"dataframe\">\n  <thead>\n    <tr style=\"text-align: right;\">\n      <th></th>\n      <th>Class</th>\n      <th>Duration</th>\n      <th>Amount</th>\n      <th>InstallmentRatePercentage</th>\n      <th>ResidenceDuration</th>\n      <th>Age</th>\n      <th>NumberExistingCredits</th>\n      <th>NumberPeopleMaintenance</th>\n      <th>Telephone</th>\n      <th>ForeignWorker</th>\n      <th>CheckingAccountStatus.lt.0</th>\n      <th>CheckingAccountStatus.0.to.200</th>\n      <th>CheckingAccountStatus.gt.200</th>\n      <th>CreditHistory.ThisBank.AllPaid</th>\n      <th>CreditHistory.PaidDuly</th>\n      <th>CreditHistory.Delay</th>\n      <th>CreditHistory.Critical</th>\n    </tr>\n  </thead>\n  <tbody>\n    <tr>\n      <th>0</th>\n      <td>Good</td>\n      <td>6</td>\n      <td>1169</td>\n      <td>4</td>\n      <td>4</td>\n      <td>67</td>\n      <td>2</td>\n      <td>1</td>\n      <td>0</td>\n      <td>1</td>\n      <td>1</td>\n      <td>0</td>\n      <td>0</td>\n      <td>0</td>\n      <td>0</td>\n      <td>0</td>\n      <td>1</td>\n    </tr>\n    <tr>\n      <th>1</th>\n      <td>Bad</td>\n      <td>48</td>\n      <td>5951</td>\n      <td>2</td>\n      <td>2</td>\n      <td>22</td>\n      <td>1</td>\n      <td>1</td>\n      <td>1</td>\n      <td>1</td>\n      <td>0</td>\n      <td>1</td>\n      <td>0</td>\n      <td>0</td>\n      <td>1</td>\n      <td>0</td>\n      <td>0</td>\n    </tr>\n    <tr>\n      <th>2</th>\n      <td>Good</td>\n      <td>12</td>\n      <td>2096</td>\n      <td>2</td>\n      <td>3</td>\n      <td>49</td>\n      <td>1</td>\n      <td>2</td>\n      <td>1</td>\n      <td>1</td>\n      <td>0</td>\n      <td>0</td>\n      <td>0</td>\n      <td>0</td>\n      <td>0</td>\n      <td>0</td>\n      <td>1</td>\n    </tr>\n    <tr>\n      <th>3</th>\n      <td>Good</td>\n      <td>36</td>\n      <td>9055</td>\n      <td>2</td>\n      <td>4</td>\n      <td>35</td>\n      <td>1</td>\n      <td>2</td>\n      <td>0</td>\n      <td>1</td>\n      <td>0</td>\n      <td>0</td>\n      <td>0</td>\n      <td>0</td>\n      <td>1</td>\n      <td>0</td>\n      <td>0</td>\n    </tr>\n    <tr>\n      <th>4</th>\n      <td>Good</td>\n      <td>24</td>\n      <td>2835</td>\n      <td>3</td>\n      <td>4</td>\n      <td>53</td>\n      <td>1</td>\n      <td>1</td>\n      <td>1</td>\n      <td>1</td>\n      <td>0</td>\n      <td>0</td>\n      <td>0</td>\n      <td>0</td>\n      <td>1</td>\n      <td>0</td>\n      <td>0</td>\n    </tr>\n  </tbody>\n</table>\n</div>"
     },
     "execution_count": 108,
     "metadata": {},
     "output_type": "execute_result"
    }
   ],
   "source": [
    "import pandas as pd\n",
    "\n",
    "# loading the training and test dataset\n",
    "credit_train = pd.read_csv('credit_train.csv')\n",
    "credit_test = pd.read_csv('credit_test.csv')\n",
    "\n",
    "credit_train.head()"
   ]
  },
  {
   "cell_type": "markdown",
   "metadata": {},
   "source": [
    "<h3>Q.0. Write code to display the count of null values in each column<h3>"
   ]
  },
  {
   "cell_type": "code",
   "execution_count": 109,
   "metadata": {
    "collapsed": true
   },
   "outputs": [
    {
     "data": {
      "text/plain": "Class                             0\nDuration                          0\nAmount                            0\nInstallmentRatePercentage         0\nResidenceDuration                 0\nAge                               0\nNumberExistingCredits             0\nNumberPeopleMaintenance           0\nTelephone                         0\nForeignWorker                     0\nCheckingAccountStatus.lt.0        0\nCheckingAccountStatus.0.to.200    0\nCheckingAccountStatus.gt.200      0\nCreditHistory.ThisBank.AllPaid    0\nCreditHistory.PaidDuly            0\nCreditHistory.Delay               0\nCreditHistory.Critical            0\ndtype: int64"
     },
     "execution_count": 109,
     "metadata": {},
     "output_type": "execute_result"
    }
   ],
   "source": [
    "# Command:\n",
    "credit_train.isnull().sum()\n",
    "\n",
    "# One sentance summary:\n",
    "# This is a pretty powerful command, because it has evaluated and summed up all of the potential null values in each column\n",
    "# instead of me having to perform a loop on columns."
   ]
  },
  {
   "cell_type": "markdown",
   "metadata": {},
   "source": [
    "<h3>Q.1. How does the distribution of credit amount look like? (Use a histogram plot to answer this question)</h3>"
   ]
  },
  {
   "cell_type": "code",
   "execution_count": 110,
   "metadata": {
    "collapsed": true
   },
   "outputs": [
    {
     "data": {
      "text/plain": "<seaborn.axisgrid.FacetGrid at 0x27987315108>"
     },
     "execution_count": 110,
     "metadata": {},
     "output_type": "execute_result"
    },
    {
     "data": {
      "text/plain": "<Figure size 360x360 with 1 Axes>",
      "image/png": "[encoded data removed]"
     },
     "metadata": {
      "needs_background": "light"
     },
     "output_type": "display_data"
    }
   ],
   "source": [
    "# Put the command (or commands) here that would give an answer to the above question.\n",
    "import matplotlib.pyplot as plt\n",
    "import seaborn as sn\n",
    "%matplotlib inline\n",
    "sn.displot(credit_train, x=\"Amount\")"
   ]
  },
  {
   "cell_type": "markdown",
   "metadata": {},
   "source": [
    "<h3>Q.2. Can you generate a plot that shows CreditHistory.Critical vs. Credit Worthiness for the training data. Can you comment whether person with critical credit history is more credit worthy?</h3> "
   ]
  },
  {
   "cell_type": "code",
   "execution_count": 111,
   "metadata": {
    "collapsed": true
   },
   "outputs": [
    {
     "ename": "TypeError",
     "evalue": "can't multiply sequence by non-int of type 'float'",
     "output_type": "error",
     "traceback": [
      "\u001B[1;31m---------------------------------------------------------------------------\u001B[0m",
      "\u001B[1;31mTypeError\u001B[0m                                 Traceback (most recent call last)",
      "\u001B[1;32m<ipython-input-111-ef8c4c96dfd1>\u001B[0m in \u001B[0;36m<module>\u001B[1;34m\u001B[0m\n\u001B[0;32m     13\u001B[0m \u001B[1;33m\u001B[0m\u001B[0m\n\u001B[0;32m     14\u001B[0m \u001B[1;33m\u001B[0m\u001B[0m\n\u001B[1;32m---> 15\u001B[1;33m \u001B[0mresults\u001B[0m \u001B[1;33m=\u001B[0m \u001B[0msm\u001B[0m\u001B[1;33m.\u001B[0m\u001B[0mOLS\u001B[0m\u001B[1;33m(\u001B[0m\u001B[0my\u001B[0m\u001B[1;33m,\u001B[0m \u001B[0mx\u001B[0m\u001B[1;33m)\u001B[0m\u001B[1;33m.\u001B[0m\u001B[0mfit\u001B[0m\u001B[1;33m(\u001B[0m\u001B[1;33m)\u001B[0m\u001B[1;33m\u001B[0m\u001B[1;33m\u001B[0m\u001B[0m\n\u001B[0m\u001B[0;32m     16\u001B[0m \u001B[0mprint\u001B[0m\u001B[1;33m(\u001B[0m\u001B[0mresults\u001B[0m\u001B[1;33m.\u001B[0m\u001B[0msummary\u001B[0m\u001B[1;33m(\u001B[0m\u001B[1;33m)\u001B[0m\u001B[1;33m)\u001B[0m\u001B[1;33m\u001B[0m\u001B[1;33m\u001B[0m\u001B[0m\n\u001B[0;32m     17\u001B[0m \u001B[1;33m\u001B[0m\u001B[0m\n",
      "\u001B[1;32mc:\\users\\mvy12\\pycharmprojects\\uw_school\\venv\\lib\\site-packages\\statsmodels\\regression\\linear_model.py\u001B[0m in \u001B[0;36mfit\u001B[1;34m(self, method, cov_type, cov_kwds, use_t, **kwargs)\u001B[0m\n\u001B[0;32m    311\u001B[0m                 \u001B[0mself\u001B[0m\u001B[1;33m.\u001B[0m\u001B[0mrank\u001B[0m \u001B[1;33m=\u001B[0m \u001B[0mnp\u001B[0m\u001B[1;33m.\u001B[0m\u001B[0mlinalg\u001B[0m\u001B[1;33m.\u001B[0m\u001B[0mmatrix_rank\u001B[0m\u001B[1;33m(\u001B[0m\u001B[0mnp\u001B[0m\u001B[1;33m.\u001B[0m\u001B[0mdiag\u001B[0m\u001B[1;33m(\u001B[0m\u001B[0msingular_values\u001B[0m\u001B[1;33m)\u001B[0m\u001B[1;33m)\u001B[0m\u001B[1;33m\u001B[0m\u001B[1;33m\u001B[0m\u001B[0m\n\u001B[0;32m    312\u001B[0m \u001B[1;33m\u001B[0m\u001B[0m\n\u001B[1;32m--> 313\u001B[1;33m             \u001B[0mbeta\u001B[0m \u001B[1;33m=\u001B[0m \u001B[0mnp\u001B[0m\u001B[1;33m.\u001B[0m\u001B[0mdot\u001B[0m\u001B[1;33m(\u001B[0m\u001B[0mself\u001B[0m\u001B[1;33m.\u001B[0m\u001B[0mpinv_wexog\u001B[0m\u001B[1;33m,\u001B[0m \u001B[0mself\u001B[0m\u001B[1;33m.\u001B[0m\u001B[0mwendog\u001B[0m\u001B[1;33m)\u001B[0m\u001B[1;33m\u001B[0m\u001B[1;33m\u001B[0m\u001B[0m\n\u001B[0m\u001B[0;32m    314\u001B[0m \u001B[1;33m\u001B[0m\u001B[0m\n\u001B[0;32m    315\u001B[0m         \u001B[1;32melif\u001B[0m \u001B[0mmethod\u001B[0m \u001B[1;33m==\u001B[0m \u001B[1;34m\"qr\"\u001B[0m\u001B[1;33m:\u001B[0m\u001B[1;33m\u001B[0m\u001B[1;33m\u001B[0m\u001B[0m\n",
      "\u001B[1;32m<__array_function__ internals>\u001B[0m in \u001B[0;36mdot\u001B[1;34m(*args, **kwargs)\u001B[0m\n",
      "\u001B[1;31mTypeError\u001B[0m: can't multiply sequence by non-int of type 'float'"
     ]
    }
   ],
   "source": [
    "# Command:\n",
    "import numpy as np\n",
    "import statsmodels.api as sm\n",
    "from sklearn import linear_model\n",
    "\n",
    "regr = linear_model.LogisticRegression()\n",
    "x = np.array(credit_train['CreditHistory.Critical']).astype(int).reshape((-1, 1))\n",
    "y = np.array(credit_train['Class'])\n",
    "\n",
    "regr.fit(x, y)\n",
    "y_pred = regr.predict(x)\n",
    "x = sm.add_constant(x)\n",
    "\n",
    "\n",
    "results = sm.OLS(y, x).fit()\n",
    "print(results.summary())\n",
    "\n",
    "# One sentence summary:\n",
    "# The r^2 seems low so I imagine this is a bad fit, but I'm not sure if this is a good measurement for this."
   ]
  },
  {
   "cell_type": "markdown",
   "metadata": {},
   "source": [
    "<h3>Q.3. Binarize the y output for e.g. 0 = 'bad' credit; 1 = 'good' credit. </h3>"
   ]
  },
  {
   "cell_type": "code",
   "execution_count": null,
   "metadata": {
    "collapsed": true
   },
   "outputs": [],
   "source": [
    "credit_train['Class'] = credit_train['Class'].eq('Good').mul(1)\n",
    "credit_train.head()\n"
   ]
  },
  {
   "cell_type": "markdown",
   "metadata": {},
   "source": [
    "<h3>Q.4. Generate a logistic regression model that uses the one predictor CreditHistory.Critical. Provide a summary of the model. </h3>"
   ]
  },
  {
   "cell_type": "code",
   "execution_count": null,
   "metadata": {
    "collapsed": true
   },
   "outputs": [],
   "source": [
    "import numpy as np\n",
    "from sklearn import linear_model\n",
    "\n",
    "predictors = credit_train.drop('CreditHistory.Critical', axis=1)\n",
    "x = np.array(predictors)\n",
    "y = np.array(credit_train['CreditHistory.Critical'])\n",
    "\n",
    "logit = linear_model.LogisticRegression(max_iter=20000)\n",
    "logit.fit(x, y)\n",
    "\n",
    "# I had to increase max iterations in order for this work. Nothing to be shown here.\n",
    "# I did find the 'drop' command useful though for all other columns to be included."
   ]
  },
  {
   "cell_type": "markdown",
   "metadata": {},
   "source": [
    "<h3>Q.5. Using the developed model, predict the values in credit_test and use it to output a confusion matrix.</h3>"
   ]
  },
  {
   "cell_type": "code",
   "execution_count": 117,
   "metadata": {
    "collapsed": true
   },
   "outputs": [
    {
     "data": {
      "text/plain": "       y_pred=0  y_pred=1 Total\n                               \ny=0         122         4   126\ny=1           9        57    66\nTotal       131        61      ",
      "text/html": "<div>\n<style scoped>\n    .dataframe tbody tr th:only-of-type {\n        vertical-align: middle;\n    }\n\n    .dataframe tbody tr th {\n        vertical-align: top;\n    }\n\n    .dataframe thead th {\n        text-align: right;\n    }\n</style>\n<table border=\"1\" class=\"dataframe\">\n  <thead>\n    <tr style=\"text-align: right;\">\n      <th></th>\n      <th>y_pred=0</th>\n      <th>y_pred=1</th>\n      <th>Total</th>\n    </tr>\n    <tr>\n      <th></th>\n      <th></th>\n      <th></th>\n      <th></th>\n    </tr>\n  </thead>\n  <tbody>\n    <tr>\n      <th>y=0</th>\n      <td>122</td>\n      <td>4</td>\n      <td>126</td>\n    </tr>\n    <tr>\n      <th>y=1</th>\n      <td>9</td>\n      <td>57</td>\n      <td>66</td>\n    </tr>\n    <tr>\n      <th>Total</th>\n      <td>131</td>\n      <td>61</td>\n      <td></td>\n    </tr>\n  </tbody>\n</table>\n</div>"
     },
     "metadata": {},
     "output_type": "display_data"
    }
   ],
   "source": [
    "def confusion_table(confusion_mtx):\n",
    "    \"\"\"Renders a nice confusion table with labels\"\"\"\n",
    "    confusion_df = pd.DataFrame({'y_pred=0': np.append(confusion_mtx[:, 0], confusion_mtx.sum(axis=0)[0]),\n",
    "                                 'y_pred=1': np.append(confusion_mtx[:, 1], confusion_mtx.sum(axis=0)[1]),\n",
    "                                 'Total': np.append(confusion_mtx.sum(axis=1), ''),\n",
    "                                 '': ['y=0', 'y=1', 'Total']}).set_index('')\n",
    "    return confusion_df\n",
    "\n",
    "from IPython.display import display\n",
    "from sklearn.metrics import confusion_matrix\n",
    "y_test = credit_test['CreditHistory.Critical']\n",
    "\n",
    "credit_test['Class'] = credit_test['Class'].eq('Good').mul(1)\n",
    "x_test = credit_test.drop('CreditHistory.Critical', axis=1)\n",
    "\n",
    "y_pred = logit.predict(x_test)\n",
    "\n",
    "confusion_mtx = confusion_matrix(y_test, y_pred)\n",
    "display(confusion_table(confusion_mtx))\n"
   ]
  },
  {
   "cell_type": "markdown",
   "metadata": {},
   "source": [
    "<h3>Q.6. What is the accuracy of the model on the test data?</h3>"
   ]
  },
  {
   "cell_type": "code",
   "execution_count": null,
   "metadata": {
    "collapsed": true
   },
   "outputs": [],
   "source": [
    "# Command that outputs acccuracy\n"
   ]
  },
  {
   "cell_type": "markdown",
   "metadata": {},
   "source": [
    "<h3>Q.7. Generate the ROC curve.</h3>"
   ]
  },
  {
   "cell_type": "code",
   "execution_count": null,
   "metadata": {
    "collapsed": true
   },
   "outputs": [],
   "source": []
  },
  {
   "cell_type": "markdown",
   "metadata": {},
   "source": [
    "<h3>Q.8. What is the ROC AUC of the model on the test data?</h3>"
   ]
  },
  {
   "cell_type": "code",
   "execution_count": null,
   "metadata": {
    "collapsed": true
   },
   "outputs": [],
   "source": [
    "# Command(s):\n"
   ]
  },
  {
   "cell_type": "markdown",
   "metadata": {},
   "source": [
    "<h3>Q.9. Calculate LDA model on credit_train.</h3>"
   ]
  },
  {
   "cell_type": "code",
   "execution_count": null,
   "metadata": {
    "collapsed": true
   },
   "outputs": [],
   "source": []
  },
  {
   "cell_type": "markdown",
   "metadata": {},
   "source": [
    "<h3>Q.10. What is the accuracy of the new model?</h3>"
   ]
  },
  {
   "cell_type": "code",
   "execution_count": null,
   "metadata": {
    "collapsed": true
   },
   "outputs": [],
   "source": [
    "\n"
   ]
  },
  {
   "cell_type": "markdown",
   "metadata": {},
   "source": [
    "<h3>Q.11. Create a new text cell in your Notebook: Complete a 50-100 word summary \n",
    "    (or short description of your thinking in applying this week's learning to the solution) \n",
    "     of your experience in this assignment. Include:\n",
    "<br>                                                                       \n",
    "What was your incoming experience with this model, if any?\n",
    "what steps you took, what obstacles you encountered.\n",
    "how you link this exercise to real-world, machine learning problem-solving. (What steps were missing? What else do you need to learn?)\n",
    "This summary allows your instructor to know how you are doing and allot points for your effort in thinking and planning, and making connections to real-world work.\n",
    "</h3>"
   ]
  },
  {
   "cell_type": "code",
   "execution_count": null,
   "metadata": {
    "collapsed": true
   },
   "outputs": [],
   "source": []
  }
 ],
 "metadata": {
  "kernelspec": {
   "display_name": "Python 3 [3.6]",
   "language": "python",
   "name": "python3"
  },
  "language_info": {
   "codemirror_mode": {
    "name": "ipython",
    "version": 3
   },
   "file_extension": ".py",
   "mimetype": "text/x-python",
   "name": "python",
   "nbconvert_exporter": "python",
   "pygments_lexer": "ipython3",
   "version": "3.6.4"
  }
 },
 "nbformat": 4,
 "nbformat_minor": 2
}