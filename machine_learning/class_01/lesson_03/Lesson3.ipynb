{
 "cells": [
  {
   "cell_type": "markdown",
   "metadata": {},
   "source": [
    "<h1>Lesson 3. Classification: Credit worthiness from German bank</h1>"
   ]
  },
  {
   "cell_type": "markdown",
   "metadata": {},
   "source": [
    "<img src=\"https://upload.wikimedia.org/wikipedia/commons/8/8e/Flag_map_of_Germany.svg\" style=\"height:200px;\">\n",
    "  \n",
    "  <p>In this exercise you will predict credit worthiness of custmers of a German bank (<a href=\"https://archive.ics.uci.edu/ml/datasets/statlog+(german+credit+data)\">provided by Hans Hofmann from Univeristy of Hamburg</a>). The data we will be working with here is a reduced version of the full dataset.</p>\n",
    "<p>The following features are available for the 1000-row dataset:</p>\n",
    "<ul>\n",
    "<li>Class: Credit worthiness (what you are trying to predict)</li>\n",
    "<li>Duration: Duration of the credit (in months) </li>\n",
    "<li>Amount: Amount of money asked for (in Deutche Marks (DM))</li>\n",
    "<li>InstallmentRatePercentage: Installment rate in percentage of disposable income </li>\n",
    "<li>ResidenceDuration: Number of years at current residence</li>\n",
    "<li>Age: Person's age</li>\n",
    "<li>NumberExistingCredits: Number of credit accounts</li>\n",
    "<li>NumberPeopleMaintenance: Number of people being liable to provide maintenance for the credit</li>\n",
    "<li>Telephone: Is there a phone number associated with the customer name?  </li>\n",
    "<li>ForeignWorker: Is the person a foreign worker?</li>\n",
    "<li>CheckingAccountStatus: Amount of money in the checking account (in DM)<ul>\n",
    "<li>CheckingAccountStatus.lt.0</li>\n",
    "<li>CheckingAccountStatus.0.to.200</li>\n",
    "<li>CheckingAccountStatus.gt.200</li>\n",
    "</ul></li>\n",
    "<li>CreditHistory: Past credit history<ul>\n",
    "<li>CreditHistory.ThisBank.AllPaid</li>\n",
    "<li>CreditHistory.PaidDuly</li>\n",
    "<li>CreditHistory.Delay</li>\n",
    "<li>CreditHistory.Critical</li>\n",
    "</ul></li>\n",
    "</ul>\n",
    "\n",
    "<p>This dataset is available in <a href=\"http://caret.r-forge.r-project.org/\">'caret'</a> library. Let's load it and see how it looks:</p>"
   ]
  },
  {
   "cell_type": "code",
   "execution_count": 25,
   "metadata": {},
   "outputs": [
    {
     "data": {
      "text/plain": "  Class  Duration  Amount  InstallmentRatePercentage  ResidenceDuration  Age  \\\n0  Good         6    1169                          4                  4   67   \n1   Bad        48    5951                          2                  2   22   \n2  Good        12    2096                          2                  3   49   \n3  Good        36    9055                          2                  4   35   \n4  Good        24    2835                          3                  4   53   \n\n   NumberExistingCredits  NumberPeopleMaintenance  Telephone  ForeignWorker  \\\n0                      2                        1          0              1   \n1                      1                        1          1              1   \n2                      1                        2          1              1   \n3                      1                        2          0              1   \n4                      1                        1          1              1   \n\n   CheckingAccountStatus.lt.0  CheckingAccountStatus.0.to.200  \\\n0                           1                               0   \n1                           0                               1   \n2                           0                               0   \n3                           0                               0   \n4                           0                               0   \n\n   CheckingAccountStatus.gt.200  CreditHistory.ThisBank.AllPaid  \\\n0                             0                               0   \n1                             0                               0   \n2                             0                               0   \n3                             0                               0   \n4                             0                               0   \n\n   CreditHistory.PaidDuly  CreditHistory.Delay  CreditHistory.Critical  \n0                       0                    0                       1  \n1                       1                    0                       0  \n2                       0                    0                       1  \n3                       1                    0                       0  \n4                       1                    0                       0  ",
      "text/html": "<div>\n<style scoped>\n    .dataframe tbody tr th:only-of-type {\n        vertical-align: middle;\n    }\n\n    .dataframe tbody tr th {\n        vertical-align: top;\n    }\n\n    .dataframe thead th {\n        text-align: right;\n    }\n</style>\n<table border=\"1\" class=\"dataframe\">\n  <thead>\n    <tr style=\"text-align: right;\">\n      <th></th>\n      <th>Class</th>\n      <th>Duration</th>\n      <th>Amount</th>\n      <th>InstallmentRatePercentage</th>\n      <th>ResidenceDuration</th>\n      <th>Age</th>\n      <th>NumberExistingCredits</th>\n      <th>NumberPeopleMaintenance</th>\n      <th>Telephone</th>\n      <th>ForeignWorker</th>\n      <th>CheckingAccountStatus.lt.0</th>\n      <th>CheckingAccountStatus.0.to.200</th>\n      <th>CheckingAccountStatus.gt.200</th>\n      <th>CreditHistory.ThisBank.AllPaid</th>\n      <th>CreditHistory.PaidDuly</th>\n      <th>CreditHistory.Delay</th>\n      <th>CreditHistory.Critical</th>\n    </tr>\n  </thead>\n  <tbody>\n    <tr>\n      <th>0</th>\n      <td>Good</td>\n      <td>6</td>\n      <td>1169</td>\n      <td>4</td>\n      <td>4</td>\n      <td>67</td>\n      <td>2</td>\n      <td>1</td>\n      <td>0</td>\n      <td>1</td>\n      <td>1</td>\n      <td>0</td>\n      <td>0</td>\n      <td>0</td>\n      <td>0</td>\n      <td>0</td>\n      <td>1</td>\n    </tr>\n    <tr>\n      <th>1</th>\n      <td>Bad</td>\n      <td>48</td>\n      <td>5951</td>\n      <td>2</td>\n      <td>2</td>\n      <td>22</td>\n      <td>1</td>\n      <td>1</td>\n      <td>1</td>\n      <td>1</td>\n      <td>0</td>\n      <td>1</td>\n      <td>0</td>\n      <td>0</td>\n      <td>1</td>\n      <td>0</td>\n      <td>0</td>\n    </tr>\n    <tr>\n      <th>2</th>\n      <td>Good</td>\n      <td>12</td>\n      <td>2096</td>\n      <td>2</td>\n      <td>3</td>\n      <td>49</td>\n      <td>1</td>\n      <td>2</td>\n      <td>1</td>\n      <td>1</td>\n      <td>0</td>\n      <td>0</td>\n      <td>0</td>\n      <td>0</td>\n      <td>0</td>\n      <td>0</td>\n      <td>1</td>\n    </tr>\n    <tr>\n      <th>3</th>\n      <td>Good</td>\n      <td>36</td>\n      <td>9055</td>\n      <td>2</td>\n      <td>4</td>\n      <td>35</td>\n      <td>1</td>\n      <td>2</td>\n      <td>0</td>\n      <td>1</td>\n      <td>0</td>\n      <td>0</td>\n      <td>0</td>\n      <td>0</td>\n      <td>1</td>\n      <td>0</td>\n      <td>0</td>\n    </tr>\n    <tr>\n      <th>4</th>\n      <td>Good</td>\n      <td>24</td>\n      <td>2835</td>\n      <td>3</td>\n      <td>4</td>\n      <td>53</td>\n      <td>1</td>\n      <td>1</td>\n      <td>1</td>\n      <td>1</td>\n      <td>0</td>\n      <td>0</td>\n      <td>0</td>\n      <td>0</td>\n      <td>1</td>\n      <td>0</td>\n      <td>0</td>\n    </tr>\n  </tbody>\n</table>\n</div>"
     },
     "execution_count": 25,
     "metadata": {},
     "output_type": "execute_result"
    }
   ],
   "source": [
    "import pandas as pd\n",
    "\n",
    "# loading the training and test dataset\n",
    "credit_train = pd.read_csv('credit_train.csv')\n",
    "credit_test = pd.read_csv('credit_test.csv')\n",
    "\n",
    "credit_train.head()"
   ]
  },
  {
   "cell_type": "markdown",
   "metadata": {},
   "source": [
    "<h3>Q.0. Write code to display the count of null values in each column<h3>"
   ]
  },
  {
   "cell_type": "code",
   "execution_count": 9,
   "metadata": {
    "collapsed": true
   },
   "outputs": [
    {
     "data": {
      "text/plain": "Class                             0\nDuration                          0\nAmount                            0\nInstallmentRatePercentage         0\nResidenceDuration                 0\nAge                               0\nNumberExistingCredits             0\nNumberPeopleMaintenance           0\nTelephone                         0\nForeignWorker                     0\nCheckingAccountStatus.lt.0        0\nCheckingAccountStatus.0.to.200    0\nCheckingAccountStatus.gt.200      0\nCreditHistory.ThisBank.AllPaid    0\nCreditHistory.PaidDuly            0\nCreditHistory.Delay               0\nCreditHistory.Critical            0\ndtype: int64"
     },
     "execution_count": 9,
     "metadata": {},
     "output_type": "execute_result"
    }
   ],
   "source": [
    "# Command:\n",
    "credit_train.isnull().sum()\n",
    "\n",
    "# One sentance summary:\n",
    "# This is a pretty powerful command, because it has evaluated and summed up all of the potential null values in each column\n",
    "# instead of me having to perform a loop on columns."
   ]
  },
  {
   "cell_type": "markdown",
   "metadata": {},
   "source": [
    "<h3>Q.1. How does the distribution of credit amount look like? (Use a histogram plot to answer this question)</h3>"
   ]
  },
  {
   "cell_type": "code",
   "execution_count": 13,
   "metadata": {
    "collapsed": true
   },
   "outputs": [
    {
     "data": {
      "text/plain": "<seaborn.axisgrid.FacetGrid at 0x13bac388308>"
     },
     "execution_count": 13,
     "metadata": {},
     "output_type": "execute_result"
    },
    {
     "data": {
      "text/plain": "<Figure size 360x360 with 1 Axes>",
      "image/png": "[encoded data removed]"
     },
     "metadata": {
      "needs_background": "light"
     },
     "output_type": "display_data"
    }
   ],
   "source": [
    "# Put the command (or commands) here that would give an answer to the above question.\n",
    "import matplotlib.pyplot as plt\n",
    "import seaborn as sn\n",
    "%matplotlib inline\n",
    "sn.displot(credit_train, x=\"Amount\")"
   ]
  },
  {
   "cell_type": "markdown",
   "metadata": {},
   "source": [
    "<h3>Q.2. Can you generate a plot that shows CreditHistory.Critical vs. Credit Worthiness for the training data. Can you comment whether person with critical credit history is more credit worthy?</h3> "
   ]
  },
  {
   "cell_type": "code",
   "execution_count": 26,
   "metadata": {
    "collapsed": true
   },
   "outputs": [
    {
     "name": "stdout",
     "output_type": "stream",
     "text": [
      "                            OLS Regression Results                            \n",
      "==============================================================================\n",
      "Dep. Variable:                      y   R-squared:                       0.035\n",
      "Model:                            OLS   Adj. R-squared:                  0.033\n",
      "Method:                 Least Squares   F-statistic:                     28.94\n",
      "Date:                Mon, 26 Oct 2020   Prob (F-statistic):           9.81e-08\n",
      "Time:                        11:27:36   Log-Likelihood:                -505.13\n",
      "No. Observations:                 808   AIC:                             1014.\n",
      "Df Residuals:                     806   BIC:                             1024.\n",
      "Df Model:                           1                                         \n",
      "Covariance Type:            nonrobust                                         \n",
      "==============================================================================\n",
      "                 coef    std err          t      P>|t|      [0.025      0.975]\n",
      "------------------------------------------------------------------------------\n",
      "const          0.6420      0.019     34.184      0.000       0.605       0.679\n",
      "x1             0.1906      0.035      5.379      0.000       0.121       0.260\n",
      "==============================================================================\n",
      "Omnibus:                      779.627   Durbin-Watson:                   2.003\n",
      "Prob(Omnibus):                  0.000   Jarque-Bera (JB):              134.639\n",
      "Skew:                          -0.790   Prob(JB):                     5.80e-30\n",
      "Kurtosis:                       1.773   Cond. No.                         2.44\n",
      "==============================================================================\n",
      "\n",
      "Notes:\n",
      "[1] Standard Errors assume that the covariance matrix of the errors is correctly specified.\n"
     ]
    }
   ],
   "source": [
    "# Command:\n",
    "import numpy as np\n",
    "import statsmodels.api as sm\n",
    "from sklearn import linear_model\n",
    "\n",
    "regr = linear_model.LogisticRegression()\n",
    "x = np.array(credit_train['CreditHistory.Critical']).astype(int).reshape((-1, 1))\n",
    "credit_train['Class'] = credit_train['Class'].eq('Good').mul(1)\n",
    "y = np.array(credit_train['Class'])\n",
    "\n",
    "regr.fit(x, y)\n",
    "y_pred = regr.predict(x)\n",
    "x = sm.add_constant(x)\n",
    "\n",
    "\n",
    "results = sm.OLS(y, x).fit()\n",
    "print(results.summary())\n",
    "\n",
    "# One sentence summary:\n",
    "# The r^2 seems low so I imagine this is a bad fit, but I'm not sure if this is a good measurement for this."
   ]
  },
  {
   "cell_type": "markdown",
   "metadata": {},
   "source": [
    "<h3>Q.3. Binarize the y output for e.g. 0 = 'bad' credit; 1 = 'good' credit. </h3>"
   ]
  },
  {
   "cell_type": "code",
   "execution_count": 27,
   "metadata": {
    "collapsed": true
   },
   "outputs": [
    {
     "data": {
      "text/plain": "   Class  Duration  Amount  InstallmentRatePercentage  ResidenceDuration  Age  \\\n0      0         6    1169                          4                  4   67   \n1      0        48    5951                          2                  2   22   \n2      0        12    2096                          2                  3   49   \n3      0        36    9055                          2                  4   35   \n4      0        24    2835                          3                  4   53   \n\n   NumberExistingCredits  NumberPeopleMaintenance  Telephone  ForeignWorker  \\\n0                      2                        1          0              1   \n1                      1                        1          1              1   \n2                      1                        2          1              1   \n3                      1                        2          0              1   \n4                      1                        1          1              1   \n\n   CheckingAccountStatus.lt.0  CheckingAccountStatus.0.to.200  \\\n0                           1                               0   \n1                           0                               1   \n2                           0                               0   \n3                           0                               0   \n4                           0                               0   \n\n   CheckingAccountStatus.gt.200  CreditHistory.ThisBank.AllPaid  \\\n0                             0                               0   \n1                             0                               0   \n2                             0                               0   \n3                             0                               0   \n4                             0                               0   \n\n   CreditHistory.PaidDuly  CreditHistory.Delay  CreditHistory.Critical  \n0                       0                    0                       1  \n1                       1                    0                       0  \n2                       0                    0                       1  \n3                       1                    0                       0  \n4                       1                    0                       0  ",
      "text/html": "<div>\n<style scoped>\n    .dataframe tbody tr th:only-of-type {\n        vertical-align: middle;\n    }\n\n    .dataframe tbody tr th {\n        vertical-align: top;\n    }\n\n    .dataframe thead th {\n        text-align: right;\n    }\n</style>\n<table border=\"1\" class=\"dataframe\">\n  <thead>\n    <tr style=\"text-align: right;\">\n      <th></th>\n      <th>Class</th>\n      <th>Duration</th>\n      <th>Amount</th>\n      <th>InstallmentRatePercentage</th>\n      <th>ResidenceDuration</th>\n      <th>Age</th>\n      <th>NumberExistingCredits</th>\n      <th>NumberPeopleMaintenance</th>\n      <th>Telephone</th>\n      <th>ForeignWorker</th>\n      <th>CheckingAccountStatus.lt.0</th>\n      <th>CheckingAccountStatus.0.to.200</th>\n      <th>CheckingAccountStatus.gt.200</th>\n      <th>CreditHistory.ThisBank.AllPaid</th>\n      <th>CreditHistory.PaidDuly</th>\n      <th>CreditHistory.Delay</th>\n      <th>CreditHistory.Critical</th>\n    </tr>\n  </thead>\n  <tbody>\n    <tr>\n      <th>0</th>\n      <td>0</td>\n      <td>6</td>\n      <td>1169</td>\n      <td>4</td>\n      <td>4</td>\n      <td>67</td>\n      <td>2</td>\n      <td>1</td>\n      <td>0</td>\n      <td>1</td>\n      <td>1</td>\n      <td>0</td>\n      <td>0</td>\n      <td>0</td>\n      <td>0</td>\n      <td>0</td>\n      <td>1</td>\n    </tr>\n    <tr>\n      <th>1</th>\n      <td>0</td>\n      <td>48</td>\n      <td>5951</td>\n      <td>2</td>\n      <td>2</td>\n      <td>22</td>\n      <td>1</td>\n      <td>1</td>\n      <td>1</td>\n      <td>1</td>\n      <td>0</td>\n      <td>1</td>\n      <td>0</td>\n      <td>0</td>\n      <td>1</td>\n      <td>0</td>\n      <td>0</td>\n    </tr>\n    <tr>\n      <th>2</th>\n      <td>0</td>\n      <td>12</td>\n      <td>2096</td>\n      <td>2</td>\n      <td>3</td>\n      <td>49</td>\n      <td>1</td>\n      <td>2</td>\n      <td>1</td>\n      <td>1</td>\n      <td>0</td>\n      <td>0</td>\n      <td>0</td>\n      <td>0</td>\n      <td>0</td>\n      <td>0</td>\n      <td>1</td>\n    </tr>\n    <tr>\n      <th>3</th>\n      <td>0</td>\n      <td>36</td>\n      <td>9055</td>\n      <td>2</td>\n      <td>4</td>\n      <td>35</td>\n      <td>1</td>\n      <td>2</td>\n      <td>0</td>\n      <td>1</td>\n      <td>0</td>\n      <td>0</td>\n      <td>0</td>\n      <td>0</td>\n      <td>1</td>\n      <td>0</td>\n      <td>0</td>\n    </tr>\n    <tr>\n      <th>4</th>\n      <td>0</td>\n      <td>24</td>\n      <td>2835</td>\n      <td>3</td>\n      <td>4</td>\n      <td>53</td>\n      <td>1</td>\n      <td>1</td>\n      <td>1</td>\n      <td>1</td>\n      <td>0</td>\n      <td>0</td>\n      <td>0</td>\n      <td>0</td>\n      <td>1</td>\n      <td>0</td>\n      <td>0</td>\n    </tr>\n  </tbody>\n</table>\n</div>"
     },
     "execution_count": 27,
     "metadata": {},
     "output_type": "execute_result"
    }
   ],
   "source": [
    "credit_train['Class'] = credit_train['Class'].eq('Good').mul(1)\n",
    "credit_train.head()\n"
   ]
  },
  {
   "cell_type": "markdown",
   "metadata": {},
   "source": [
    "<h3>Q.4. Generate a logistic regression model that uses the one predictor CreditHistory.Critical. Provide a summary of the model. </h3>"
   ]
  },
  {
   "cell_type": "code",
   "execution_count": 31,
   "metadata": {
    "collapsed": true
   },
   "outputs": [
    {
     "data": {
      "text/plain": "LogisticRegression(max_iter=20000)"
     },
     "execution_count": 31,
     "metadata": {},
     "output_type": "execute_result"
    }
   ],
   "source": [
    "import numpy as np\n",
    "from sklearn import linear_model\n",
    "\n",
    "predictors = credit_train.drop('CreditHistory.Critical', axis=1)\n",
    "x = np.array(predictors)\n",
    "y = np.array(credit_train['CreditHistory.Critical'])\n",
    "\n",
    "logit = linear_model.LogisticRegression(max_iter=20000)\n",
    "logit.fit(x, y)\n",
    "\n",
    "# I had to increase max iterations in order for this work. Nothing to be shown here.\n",
    "# I did find the 'drop' command useful though for all other columns to be included."
   ]
  },
  {
   "cell_type": "markdown",
   "metadata": {},
   "source": [
    "<h3>Q.5. Using the developed model, predict the values in credit_test and use it to output a confusion matrix.</h3>"
   ]
  },
  {
   "cell_type": "code",
   "execution_count": 32,
   "metadata": {
    "collapsed": true
   },
   "outputs": [
    {
     "data": {
      "text/plain": "       y_pred=0  y_pred=1 Total\n                               \ny=0         121         5   126\ny=1           3        63    66\nTotal       124        68      ",
      "text/html": "<div>\n<style scoped>\n    .dataframe tbody tr th:only-of-type {\n        vertical-align: middle;\n    }\n\n    .dataframe tbody tr th {\n        vertical-align: top;\n    }\n\n    .dataframe thead th {\n        text-align: right;\n    }\n</style>\n<table border=\"1\" class=\"dataframe\">\n  <thead>\n    <tr style=\"text-align: right;\">\n      <th></th>\n      <th>y_pred=0</th>\n      <th>y_pred=1</th>\n      <th>Total</th>\n    </tr>\n    <tr>\n      <th></th>\n      <th></th>\n      <th></th>\n      <th></th>\n    </tr>\n  </thead>\n  <tbody>\n    <tr>\n      <th>y=0</th>\n      <td>121</td>\n      <td>5</td>\n      <td>126</td>\n    </tr>\n    <tr>\n      <th>y=1</th>\n      <td>3</td>\n      <td>63</td>\n      <td>66</td>\n    </tr>\n    <tr>\n      <th>Total</th>\n      <td>124</td>\n      <td>68</td>\n      <td></td>\n    </tr>\n  </tbody>\n</table>\n</div>"
     },
     "metadata": {},
     "output_type": "display_data"
    }
   ],
   "source": [
    "def confusion_table(confusion_mtx):\n",
    "    \"\"\"Renders a nice confusion table with labels\"\"\"\n",
    "    confusion_df = pd.DataFrame({'y_pred=0': np.append(confusion_mtx[:, 0], confusion_mtx.sum(axis=0)[0]),\n",
    "                                 'y_pred=1': np.append(confusion_mtx[:, 1], confusion_mtx.sum(axis=0)[1]),\n",
    "                                 'Total': np.append(confusion_mtx.sum(axis=1), ''),\n",
    "                                 '': ['y=0', 'y=1', 'Total']}).set_index('')\n",
    "    return confusion_df\n",
    "\n",
    "from IPython.display import display\n",
    "from sklearn.metrics import confusion_matrix\n",
    "y_test = credit_test['CreditHistory.Critical']\n",
    "\n",
    "credit_test['Class'] = credit_test['Class'].eq('Good').mul(1)\n",
    "x_test = credit_test.drop('CreditHistory.Critical', axis=1)\n",
    "\n",
    "y_pred = logit.predict(x_test)\n",
    "\n",
    "confusion_mtx = confusion_matrix(y_test, y_pred)\n",
    "display(confusion_table(confusion_mtx))\n"
   ]
  },
  {
   "cell_type": "markdown",
   "metadata": {},
   "source": [
    "<h3>Q.6. What is the accuracy of the model on the test data?</h3>"
   ]
  },
  {
   "cell_type": "code",
   "execution_count": 33,
   "metadata": {
    "collapsed": true
   },
   "outputs": [
    {
     "name": "stdout",
     "output_type": "stream",
     "text": [
      "0.65625\n"
     ]
    }
   ],
   "source": [
    "# Command that outputs acccuracy\n",
    "# Accuracy (all correct / all) = TP + TN / TP + TN + FP + FN\n",
    "accuracy = (confusion_mtx[0][0] + confusion_mtx[0][1]) / (confusion_mtx[0][0] + confusion_mtx[0][1] + confusion_mtx[1][0] + confusion_mtx[1][1])\n",
    "print(accuracy)"
   ]
  },
  {
   "cell_type": "markdown",
   "metadata": {},
   "source": [
    "<h3>Q.7. Generate the ROC curve.</h3>"
   ]
  },
  {
   "cell_type": "code",
   "execution_count": 34,
   "metadata": {
    "collapsed": true
   },
   "outputs": [
    {
     "data": {
      "text/plain": "<Figure size 432x288 with 1 Axes>",
      "image/png": "[encoded data removed]"
     },
     "metadata": {
      "needs_background": "light"
     },
     "output_type": "display_data"
    }
   ],
   "source": [
    "from sklearn.metrics import roc_curve, roc_auc_score\n",
    "fpr, tpr, _ = roc_curve(y_pred, y_test)\n",
    "plt.plot(fpr, tpr)\n",
    "plt.show()"
   ]
  },
  {
   "cell_type": "markdown",
   "metadata": {},
   "source": [
    "<h3>Q.8. What is the ROC AUC of the model on the test data?</h3>"
   ]
  },
  {
   "cell_type": "code",
   "execution_count": 35,
   "metadata": {
    "collapsed": true
   },
   "outputs": [
    {
     "name": "stdout",
     "output_type": "stream",
     "text": [
      "0.9574314574314574\n"
     ]
    }
   ],
   "source": [
    "# Command(s):\n",
    "auc = roc_auc_score(y_test, y_pred)\n",
    "print(auc)"
   ]
  },
  {
   "cell_type": "markdown",
   "metadata": {},
   "source": [
    "<h3>Q.9. Calculate LDA model on credit_train.</h3>"
   ]
  },
  {
   "cell_type": "code",
   "execution_count": null,
   "metadata": {
    "collapsed": true
   },
   "outputs": [],
   "source": [
    "import numpy as np\n",
    "from sklearn.discriminant_analysis import LinearDiscriminantAnalysis\n",
    "\n",
    "predictors = credit_train.drop('CreditHistory.Critical', axis=1)\n",
    "x = np.array(predictors)\n",
    "y = np.array(credit_train['CreditHistory.Critical'])\n",
    "\n",
    "lda = LinearDiscriminantAnalysis()\n",
    "lda.fit(x, y)\n"
   ]
  },
  {
   "cell_type": "markdown",
   "metadata": {},
   "source": [
    "<h3>Q.10. What is the accuracy of the new model?</h3>"
   ]
  },
  {
   "cell_type": "code",
   "execution_count": null,
   "metadata": {
    "collapsed": true
   },
   "outputs": [],
   "source": [
    "y_test = credit_test['CreditHistory.Critical']\n",
    "credit_test['Class'] = credit_test['Class'].eq('Good').mul(1)\n",
    "x_test = credit_test.drop('CreditHistory.Critical', axis=1)\n",
    "\n",
    "y_pred = lda.predict(x_test)\n",
    "\n",
    "confusion_mtx_2 = confusion_matrix(y_test, y_pred)\n",
    "display(confusion_table(confusion_mtx_2))\n",
    "print(confusion_mtx_2)\n",
    "accuracy2 = (confusion_mtx_2[0][0] + confusion_mtx_2[0][1]) / (confusion_mtx_2[0][0] + confusion_mtx_2[0][1] + confusion_mtx_2[1][0] + confusion_mtx_2[1][1])\n",
    "print(accuracy2)\n",
    "\n"
   ]
  },
  {
   "cell_type": "markdown",
   "metadata": {},
   "source": [
    "<h3>Q.11. Create a new text cell in your Notebook: Complete a 50-100 word summary \n",
    "    (or short description of your thinking in applying this week's learning to the solution) \n",
    "     of your experience in this assignment. Include:\n",
    "<br>                                                                       \n",
    "What was your incoming experience with this model, if any?\n",
    "what steps you took, what obstacles you encountered.\n",
    "how you link this exercise to real-world, machine learning problem-solving. (What steps were missing? What else do you need to learn?)\n",
    "This summary allows your instructor to know how you are doing and allot points for your effort in thinking and planning, and making connections to real-world work.\n",
    "</h3>"
   ]
  },
  {
   "cell_type": "code",
   "execution_count": null,
   "metadata": {
    "collapsed": true
   },
   "outputs": [],
   "source": [
    "# Learning is definitely continuing. There are so many ways to manipulate data, that it is sometimes difficult\n",
    "# to figure out which method is best. Every library offers their own take on how to approach various problems.\n",
    "# One irritating roadblock I spent hours over, was mutating the columns to numerical (Good = 1; Bad = 0).\n",
    "# The reason why it was irritating was if I ran .mul(1) on the column once, it worked out. But on a subsequent\n",
    "# run of the codeblock, it would mutate it once again! And this would resolve in having all 0s and removing the\n",
    "# alternating 1s and 0s to indicate Good/Bad. My only solution was to re-import the data, and run anew.\n",
    "# The solution to most of my problems that I couldn't figure out was to re-import. This makes me think I may be handling\n",
    "# the data incorrectly, or this is simply the nature of the beast.\n",
    "# Regardless, I am EXCITED to see the solutions to the first 3 assignments. Please upload them!"
   ]
  }
 ],
 "metadata": {
  "kernelspec": {
   "display_name": "Python 3 [3.6]",
   "language": "python",
   "name": "python3"
  },
  "language_info": {
   "codemirror_mode": {
    "name": "ipython",
    "version": 3
   },
   "file_extension": ".py",
   "mimetype": "text/x-python",
   "name": "python",
   "nbconvert_exporter": "python",
   "pygments_lexer": "ipython3",
   "version": "3.6.4"
  }
 },
 "nbformat": 4,
 "nbformat_minor": 2
}