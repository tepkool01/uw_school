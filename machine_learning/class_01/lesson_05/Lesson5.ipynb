{
 "cells": [
  {
   "cell_type": "markdown",
   "metadata": {},
   "source": [
    "<h1>Lesson 5. Model selection: US Salary Prediction</h1>"
   ]
  },
  {
   "cell_type": "markdown",
   "metadata": {},
   "source": [
    "<img src=https://upload.wikimedia.org/wikipedia/commons/thumb/9/93/White_House_lawn_%281%29.tif/lossy-page1-2433px-White_House_lawn_%281%29.tif.jpg style=\"height:300px;\">\n",
    "  \n",
    "<p>In this exercise you will use the US Adult Census data relating income to social factors such as Age, Education, race etc...</p>\n",
    "\n",
    "<p>The goal here is to train a binary classifier on the training dataset to predict the column income_bracket which has two possible values \">50K\" and \"<=50K\" and evaluate the accuracy of the classifier with the test dataset.</p>\n"
   ]
  },
  {
   "cell_type": "code",
   "execution_count": 226,
   "metadata": {},
   "outputs": [
    {
     "name": "stdout",
     "output_type": "stream",
     "text": [
      "<class 'pandas.core.frame.DataFrame'>\n",
      "RangeIndex: 48842 entries, 0 to 48841\n",
      "Data columns (total 10 columns):\n",
      " #   Column         Non-Null Count  Dtype \n",
      "---  ------         --------------  ----- \n",
      " 0   Age            48842 non-null  int64 \n",
      " 1   EducationNum   48842 non-null  int64 \n",
      " 2   MaritalStatus  48842 non-null  object\n",
      " 3   Occupation     48842 non-null  object\n",
      " 4   Relationship   48842 non-null  object\n",
      " 5   Race           48842 non-null  object\n",
      " 6   Gender         48842 non-null  object\n",
      " 7   Hours/Week     48842 non-null  int64 \n",
      " 8   Country        48842 non-null  object\n",
      " 9   Income         48842 non-null  object\n",
      "dtypes: int64(3), object(7)\n",
      "memory usage: 3.7+ MB\n",
      "None\n"
     ]
    },
    {
     "data": {
      "text/plain": "    Age  EducationNum       MaritalStatus         Occupation   Relationship  \\\n0    25             7       Never-married  Machine-op-inspct      Own-child   \n1    38             9  Married-civ-spouse    Farming-fishing        Husband   \n2    28            12  Married-civ-spouse    Protective-serv        Husband   \n3    44            10  Married-civ-spouse  Machine-op-inspct        Husband   \n4    18            10       Never-married                  ?      Own-child   \n5    34             6       Never-married      Other-service  Not-in-family   \n6    29             9       Never-married                  ?      Unmarried   \n7    63            15  Married-civ-spouse     Prof-specialty        Husband   \n8    24            10       Never-married      Other-service      Unmarried   \n9    55             4  Married-civ-spouse       Craft-repair        Husband   \n10   65             9  Married-civ-spouse  Machine-op-inspct        Husband   \n11   36            13  Married-civ-spouse       Adm-clerical        Husband   \n12   26             9       Never-married       Adm-clerical  Not-in-family   \n13   58             9  Married-civ-spouse                  ?        Husband   \n14   48             9  Married-civ-spouse  Machine-op-inspct        Husband   \n15   43            14  Married-civ-spouse    Exec-managerial        Husband   \n16   20            10       Never-married      Other-service      Own-child   \n17   43             9  Married-civ-spouse       Adm-clerical           Wife   \n18   37             9             Widowed  Machine-op-inspct      Unmarried   \n19   40            16  Married-civ-spouse     Prof-specialty        Husband   \n\n                  Race  Gender  Hours/Week        Country  Income  \n0                Black    Male          40  United-States  <=50K.  \n1                White    Male          50  United-States  <=50K.  \n2                White    Male          40  United-States   >50K.  \n3                Black    Male          40  United-States   >50K.  \n4                White  Female          30  United-States  <=50K.  \n5                White    Male          30  United-States  <=50K.  \n6                Black    Male          40  United-States  <=50K.  \n7                White    Male          32  United-States   >50K.  \n8                White  Female          40  United-States  <=50K.  \n9                White    Male          10  United-States  <=50K.  \n10               White    Male          40  United-States   >50K.  \n11               White    Male          40  United-States  <=50K.  \n12               White  Female          39  United-States  <=50K.  \n13               White    Male          35  United-States  <=50K.  \n14               White    Male          48  United-States   >50K.  \n15               White    Male          50  United-States   >50K.  \n16               White    Male          25  United-States  <=50K.  \n17               White  Female          30  United-States  <=50K.  \n18               White  Female          20  United-States  <=50K.  \n19  Asian-Pac-Islander    Male          45              ?   >50K.  ",
      "text/html": "<div>\n<style scoped>\n    .dataframe tbody tr th:only-of-type {\n        vertical-align: middle;\n    }\n\n    .dataframe tbody tr th {\n        vertical-align: top;\n    }\n\n    .dataframe thead th {\n        text-align: right;\n    }\n</style>\n<table border=\"1\" class=\"dataframe\">\n  <thead>\n    <tr style=\"text-align: right;\">\n      <th></th>\n      <th>Age</th>\n      <th>EducationNum</th>\n      <th>MaritalStatus</th>\n      <th>Occupation</th>\n      <th>Relationship</th>\n      <th>Race</th>\n      <th>Gender</th>\n      <th>Hours/Week</th>\n      <th>Country</th>\n      <th>Income</th>\n    </tr>\n  </thead>\n  <tbody>\n    <tr>\n      <th>0</th>\n      <td>25</td>\n      <td>7</td>\n      <td>Never-married</td>\n      <td>Machine-op-inspct</td>\n      <td>Own-child</td>\n      <td>Black</td>\n      <td>Male</td>\n      <td>40</td>\n      <td>United-States</td>\n      <td>&lt;=50K.</td>\n    </tr>\n    <tr>\n      <th>1</th>\n      <td>38</td>\n      <td>9</td>\n      <td>Married-civ-spouse</td>\n      <td>Farming-fishing</td>\n      <td>Husband</td>\n      <td>White</td>\n      <td>Male</td>\n      <td>50</td>\n      <td>United-States</td>\n      <td>&lt;=50K.</td>\n    </tr>\n    <tr>\n      <th>2</th>\n      <td>28</td>\n      <td>12</td>\n      <td>Married-civ-spouse</td>\n      <td>Protective-serv</td>\n      <td>Husband</td>\n      <td>White</td>\n      <td>Male</td>\n      <td>40</td>\n      <td>United-States</td>\n      <td>&gt;50K.</td>\n    </tr>\n    <tr>\n      <th>3</th>\n      <td>44</td>\n      <td>10</td>\n      <td>Married-civ-spouse</td>\n      <td>Machine-op-inspct</td>\n      <td>Husband</td>\n      <td>Black</td>\n      <td>Male</td>\n      <td>40</td>\n      <td>United-States</td>\n      <td>&gt;50K.</td>\n    </tr>\n    <tr>\n      <th>4</th>\n      <td>18</td>\n      <td>10</td>\n      <td>Never-married</td>\n      <td>?</td>\n      <td>Own-child</td>\n      <td>White</td>\n      <td>Female</td>\n      <td>30</td>\n      <td>United-States</td>\n      <td>&lt;=50K.</td>\n    </tr>\n    <tr>\n      <th>5</th>\n      <td>34</td>\n      <td>6</td>\n      <td>Never-married</td>\n      <td>Other-service</td>\n      <td>Not-in-family</td>\n      <td>White</td>\n      <td>Male</td>\n      <td>30</td>\n      <td>United-States</td>\n      <td>&lt;=50K.</td>\n    </tr>\n    <tr>\n      <th>6</th>\n      <td>29</td>\n      <td>9</td>\n      <td>Never-married</td>\n      <td>?</td>\n      <td>Unmarried</td>\n      <td>Black</td>\n      <td>Male</td>\n      <td>40</td>\n      <td>United-States</td>\n      <td>&lt;=50K.</td>\n    </tr>\n    <tr>\n      <th>7</th>\n      <td>63</td>\n      <td>15</td>\n      <td>Married-civ-spouse</td>\n      <td>Prof-specialty</td>\n      <td>Husband</td>\n      <td>White</td>\n      <td>Male</td>\n      <td>32</td>\n      <td>United-States</td>\n      <td>&gt;50K.</td>\n    </tr>\n    <tr>\n      <th>8</th>\n      <td>24</td>\n      <td>10</td>\n      <td>Never-married</td>\n      <td>Other-service</td>\n      <td>Unmarried</td>\n      <td>White</td>\n      <td>Female</td>\n      <td>40</td>\n      <td>United-States</td>\n      <td>&lt;=50K.</td>\n    </tr>\n    <tr>\n      <th>9</th>\n      <td>55</td>\n      <td>4</td>\n      <td>Married-civ-spouse</td>\n      <td>Craft-repair</td>\n      <td>Husband</td>\n      <td>White</td>\n      <td>Male</td>\n      <td>10</td>\n      <td>United-States</td>\n      <td>&lt;=50K.</td>\n    </tr>\n    <tr>\n      <th>10</th>\n      <td>65</td>\n      <td>9</td>\n      <td>Married-civ-spouse</td>\n      <td>Machine-op-inspct</td>\n      <td>Husband</td>\n      <td>White</td>\n      <td>Male</td>\n      <td>40</td>\n      <td>United-States</td>\n      <td>&gt;50K.</td>\n    </tr>\n    <tr>\n      <th>11</th>\n      <td>36</td>\n      <td>13</td>\n      <td>Married-civ-spouse</td>\n      <td>Adm-clerical</td>\n      <td>Husband</td>\n      <td>White</td>\n      <td>Male</td>\n      <td>40</td>\n      <td>United-States</td>\n      <td>&lt;=50K.</td>\n    </tr>\n    <tr>\n      <th>12</th>\n      <td>26</td>\n      <td>9</td>\n      <td>Never-married</td>\n      <td>Adm-clerical</td>\n      <td>Not-in-family</td>\n      <td>White</td>\n      <td>Female</td>\n      <td>39</td>\n      <td>United-States</td>\n      <td>&lt;=50K.</td>\n    </tr>\n    <tr>\n      <th>13</th>\n      <td>58</td>\n      <td>9</td>\n      <td>Married-civ-spouse</td>\n      <td>?</td>\n      <td>Husband</td>\n      <td>White</td>\n      <td>Male</td>\n      <td>35</td>\n      <td>United-States</td>\n      <td>&lt;=50K.</td>\n    </tr>\n    <tr>\n      <th>14</th>\n      <td>48</td>\n      <td>9</td>\n      <td>Married-civ-spouse</td>\n      <td>Machine-op-inspct</td>\n      <td>Husband</td>\n      <td>White</td>\n      <td>Male</td>\n      <td>48</td>\n      <td>United-States</td>\n      <td>&gt;50K.</td>\n    </tr>\n    <tr>\n      <th>15</th>\n      <td>43</td>\n      <td>14</td>\n      <td>Married-civ-spouse</td>\n      <td>Exec-managerial</td>\n      <td>Husband</td>\n      <td>White</td>\n      <td>Male</td>\n      <td>50</td>\n      <td>United-States</td>\n      <td>&gt;50K.</td>\n    </tr>\n    <tr>\n      <th>16</th>\n      <td>20</td>\n      <td>10</td>\n      <td>Never-married</td>\n      <td>Other-service</td>\n      <td>Own-child</td>\n      <td>White</td>\n      <td>Male</td>\n      <td>25</td>\n      <td>United-States</td>\n      <td>&lt;=50K.</td>\n    </tr>\n    <tr>\n      <th>17</th>\n      <td>43</td>\n      <td>9</td>\n      <td>Married-civ-spouse</td>\n      <td>Adm-clerical</td>\n      <td>Wife</td>\n      <td>White</td>\n      <td>Female</td>\n      <td>30</td>\n      <td>United-States</td>\n      <td>&lt;=50K.</td>\n    </tr>\n    <tr>\n      <th>18</th>\n      <td>37</td>\n      <td>9</td>\n      <td>Widowed</td>\n      <td>Machine-op-inspct</td>\n      <td>Unmarried</td>\n      <td>White</td>\n      <td>Female</td>\n      <td>20</td>\n      <td>United-States</td>\n      <td>&lt;=50K.</td>\n    </tr>\n    <tr>\n      <th>19</th>\n      <td>40</td>\n      <td>16</td>\n      <td>Married-civ-spouse</td>\n      <td>Prof-specialty</td>\n      <td>Husband</td>\n      <td>Asian-Pac-Islander</td>\n      <td>Male</td>\n      <td>45</td>\n      <td>?</td>\n      <td>&gt;50K.</td>\n    </tr>\n  </tbody>\n</table>\n</div>"
     },
     "execution_count": 226,
     "metadata": {},
     "output_type": "execute_result"
    }
   ],
   "source": [
    "import pandas as pd\n",
    "import numpy as np\n",
    "from sklearn import preprocessing, metrics\n",
    "from sklearn.model_selection import train_test_split\n",
    "\n",
    "\n",
    "train=pd.read_csv('census-training.csv')\n",
    "print(train.info())\n",
    "train.head(20)"
   ]
  },
  {
   "cell_type": "markdown",
   "metadata": {},
   "source": [
    "<h3>Q.1. Write a command that will calculate the number of unique values for each feature in the training data.</h3>"
   ]
  },
  {
   "cell_type": "code",
   "execution_count": 227,
   "metadata": {
    "collapsed": true
   },
   "outputs": [
    {
     "data": {
      "text/plain": "Age              74\nEducationNum     16\nMaritalStatus     7\nOccupation       15\nRelationship      6\nRace              5\nGender            2\nHours/Week       96\nCountry          42\nIncome            4\ndtype: int64"
     },
     "execution_count": 227,
     "metadata": {},
     "output_type": "execute_result"
    }
   ],
   "source": [
    "train.nunique()\n"
   ]
  },
  {
   "cell_type": "markdown",
   "metadata": {},
   "source": [
    "<h3>Q.2. There is a special character '?' inserted in the data in place of null values.  Write a command that will remove it and replace with NaN.</h3>"
   ]
  },
  {
   "cell_type": "code",
   "execution_count": 228,
   "metadata": {},
   "outputs": [
    {
     "data": {
      "text/plain": "Age                 0\nEducationNum        0\nMaritalStatus       0\nOccupation       2809\nRelationship        0\nRace                0\nGender              0\nHours/Week          0\nCountry           857\nIncome              0\ndtype: int64"
     },
     "execution_count": 228,
     "metadata": {},
     "output_type": "execute_result"
    }
   ],
   "source": [
    "# Command (s): remove the '?' special character and replace with NaN\n",
    "train = train.replace('?', np.nan)\n",
    "train.isnull().sum() #checking the dataset for NaN values .... NaN values in two columns"
   ]
  },
  {
   "cell_type": "markdown",
   "metadata": {},
   "source": [
    "<h3>Q.3. Replace all missing values in Occupation and Country by their mode (most occuring values). </h3>"
   ]
  },
  {
   "cell_type": "code",
   "execution_count": 235,
   "metadata": {},
   "outputs": [
    {
     "name": "stdout",
     "output_type": "stream",
     "text": [
      "Prof-specialty\n",
      "United-States\n"
     ]
    },
    {
     "data": {
      "text/plain": "Age              0\nEducationNum     0\nMaritalStatus    0\nOccupation       0\nRelationship     0\nRace             0\nGender           0\nHours/Week       0\nCountry          0\nIncome           0\ndtype: int64"
     },
     "execution_count": 235,
     "metadata": {},
     "output_type": "execute_result"
    }
   ],
   "source": [
    "#Command(s):\n",
    "train = pd.read_csv('census-training.csv')\n",
    "train = train.replace('?', np.nan)\n",
    "\n",
    "occupation_mode = train[\"Occupation\"].mode()[0]\n",
    "country_mode = train[\"Country\"].mode()[0]\n",
    "train[\"Occupation\"].fillna(occupation_mode, inplace=True)\n",
    "train[\"Country\"].fillna(country_mode, inplace=True)\n",
    "\n",
    "#replace missing values with their mode\n",
    "train.isnull().sum() #checking the data for NaN values .... should all show 0 now"
   ]
  },
  {
   "cell_type": "markdown",
   "metadata": {},
   "source": [
    "<h3>Q.4. Write functions to replace Gender and Income attributes to \"0\" and \"1\". </h3>"
   ]
  },
  {
   "cell_type": "code",
   "execution_count": 264,
   "metadata": {},
   "outputs": [
    {
     "data": {
      "text/plain": "   Age  EducationNum       MaritalStatus         Occupation   Relationship  \\\n0   25             7       Never-married  Machine-op-inspct      Own-child   \n1   38             9  Married-civ-spouse    Farming-fishing        Husband   \n2   28            12  Married-civ-spouse    Protective-serv        Husband   \n3   44            10  Married-civ-spouse  Machine-op-inspct        Husband   \n4   18            10       Never-married  Machine-op-inspct      Own-child   \n5   34             6       Never-married      Other-service  Not-in-family   \n6   29             9       Never-married      Other-service      Unmarried   \n7   63            15  Married-civ-spouse     Prof-specialty        Husband   \n8   24            10       Never-married      Other-service      Unmarried   \n9   55             4  Married-civ-spouse       Craft-repair        Husband   \n\n    Race Gender  Hours/Week        Country Income  \n0  Black      1          40  United-States      0  \n1  White      1          50  United-States      0  \n2  White      1          40  United-States      1  \n3  Black      1          40  United-States      1  \n4  White      0          30  United-States      0  \n5  White      1          30  United-States      0  \n6  Black      1          40  United-States      0  \n7  White      1          32  United-States      1  \n8  White      0          40  United-States      0  \n9  White      1          10  United-States      0  ",
      "text/html": "<div>\n<style scoped>\n    .dataframe tbody tr th:only-of-type {\n        vertical-align: middle;\n    }\n\n    .dataframe tbody tr th {\n        vertical-align: top;\n    }\n\n    .dataframe thead th {\n        text-align: right;\n    }\n</style>\n<table border=\"1\" class=\"dataframe\">\n  <thead>\n    <tr style=\"text-align: right;\">\n      <th></th>\n      <th>Age</th>\n      <th>EducationNum</th>\n      <th>MaritalStatus</th>\n      <th>Occupation</th>\n      <th>Relationship</th>\n      <th>Race</th>\n      <th>Gender</th>\n      <th>Hours/Week</th>\n      <th>Country</th>\n      <th>Income</th>\n    </tr>\n  </thead>\n  <tbody>\n    <tr>\n      <th>0</th>\n      <td>25</td>\n      <td>7</td>\n      <td>Never-married</td>\n      <td>Machine-op-inspct</td>\n      <td>Own-child</td>\n      <td>Black</td>\n      <td>1</td>\n      <td>40</td>\n      <td>United-States</td>\n      <td>0</td>\n    </tr>\n    <tr>\n      <th>1</th>\n      <td>38</td>\n      <td>9</td>\n      <td>Married-civ-spouse</td>\n      <td>Farming-fishing</td>\n      <td>Husband</td>\n      <td>White</td>\n      <td>1</td>\n      <td>50</td>\n      <td>United-States</td>\n      <td>0</td>\n    </tr>\n    <tr>\n      <th>2</th>\n      <td>28</td>\n      <td>12</td>\n      <td>Married-civ-spouse</td>\n      <td>Protective-serv</td>\n      <td>Husband</td>\n      <td>White</td>\n      <td>1</td>\n      <td>40</td>\n      <td>United-States</td>\n      <td>1</td>\n    </tr>\n    <tr>\n      <th>3</th>\n      <td>44</td>\n      <td>10</td>\n      <td>Married-civ-spouse</td>\n      <td>Machine-op-inspct</td>\n      <td>Husband</td>\n      <td>Black</td>\n      <td>1</td>\n      <td>40</td>\n      <td>United-States</td>\n      <td>1</td>\n    </tr>\n    <tr>\n      <th>4</th>\n      <td>18</td>\n      <td>10</td>\n      <td>Never-married</td>\n      <td>Machine-op-inspct</td>\n      <td>Own-child</td>\n      <td>White</td>\n      <td>0</td>\n      <td>30</td>\n      <td>United-States</td>\n      <td>0</td>\n    </tr>\n    <tr>\n      <th>5</th>\n      <td>34</td>\n      <td>6</td>\n      <td>Never-married</td>\n      <td>Other-service</td>\n      <td>Not-in-family</td>\n      <td>White</td>\n      <td>1</td>\n      <td>30</td>\n      <td>United-States</td>\n      <td>0</td>\n    </tr>\n    <tr>\n      <th>6</th>\n      <td>29</td>\n      <td>9</td>\n      <td>Never-married</td>\n      <td>Other-service</td>\n      <td>Unmarried</td>\n      <td>Black</td>\n      <td>1</td>\n      <td>40</td>\n      <td>United-States</td>\n      <td>0</td>\n    </tr>\n    <tr>\n      <th>7</th>\n      <td>63</td>\n      <td>15</td>\n      <td>Married-civ-spouse</td>\n      <td>Prof-specialty</td>\n      <td>Husband</td>\n      <td>White</td>\n      <td>1</td>\n      <td>32</td>\n      <td>United-States</td>\n      <td>1</td>\n    </tr>\n    <tr>\n      <th>8</th>\n      <td>24</td>\n      <td>10</td>\n      <td>Never-married</td>\n      <td>Other-service</td>\n      <td>Unmarried</td>\n      <td>White</td>\n      <td>0</td>\n      <td>40</td>\n      <td>United-States</td>\n      <td>0</td>\n    </tr>\n    <tr>\n      <th>9</th>\n      <td>55</td>\n      <td>4</td>\n      <td>Married-civ-spouse</td>\n      <td>Craft-repair</td>\n      <td>Husband</td>\n      <td>White</td>\n      <td>1</td>\n      <td>10</td>\n      <td>United-States</td>\n      <td>0</td>\n    </tr>\n  </tbody>\n</table>\n</div>"
     },
     "execution_count": 264,
     "metadata": {},
     "output_type": "execute_result"
    }
   ],
   "source": [
    "# PREP WORK TO WORK WITH CLEAN DATA\n",
    "train = pd.read_csv('census-training.csv')\n",
    "train = train.replace('?', None)\n",
    "occupation_mode = train[\"Occupation\"].mode()[0]\n",
    "country_mode = train[\"Country\"].mode()[0]\n",
    "train[\"Occupation\"].fillna(occupation_mode, inplace=True)\n",
    "train[\"Country\"].fillna(country_mode, inplace=True)\n",
    "# END PREP WORK\n",
    "\n",
    "# FYI, this takes quite a while on this jupyter server, but is quick on my machine\n",
    "# converting Gender to \"0\" and \"1\"\n",
    "def gender_to_numeric(x):\n",
    "    for key, val in x['Gender'].items():\n",
    "        if str(val) == 'Male':\n",
    "            x.at[key, 'Gender'] = 1\n",
    "        else:\n",
    "            x.at[key, 'Gender'] = 0\n",
    "    return x['Gender']\n",
    "\n",
    "train['Gender'] = gender_to_numeric(train)\n",
    "#\n",
    "# converting Inccome to \"0\" and \"1\"\n",
    "def income_to_numeric(x):\n",
    "    for key, val in x['Income'].items():\n",
    "        if '>' in str(val):\n",
    "            x.at[key, 'Income'] = 1\n",
    "        else:\n",
    "            x.at[key, 'Income'] = 0\n",
    "    return x['Income']\n",
    "\n",
    "train['Income'] = income_to_numeric(train)\n",
    "train.head(10)"
   ]
  },
  {
   "cell_type": "markdown",
   "metadata": {},
   "source": [
    "<h3>Q.5. Use the label encoder API to encode all object-type in the data. </h3>"
   ]
  },
  {
   "cell_type": "code",
   "execution_count": 138,
   "metadata": {
    "collapsed": true
   },
   "outputs": [
    {
     "data": {
      "text/plain": "   Age  EducationNum  MaritalStatus  Occupation  Relationship  Race  Gender  \\\n0   25             7              4           6             3     2       1   \n1   38             9              2           4             0     4       1   \n2   28            12              2          10             0     4       1   \n3   44            10              2           6             0     2       1   \n4   18            10              4           6             3     4       0   \n5   34             6              4           7             1     4       1   \n6   29             9              4           7             4     2       1   \n7   63            15              2           9             0     4       1   \n8   24            10              4           7             4     4       0   \n9   55             4              2           2             0     4       1   \n\n   Hours/Week  Country  Income  \n0          40       38       0  \n1          50       38       0  \n2          40       38       1  \n3          40       38       1  \n4          30       38       0  \n5          30       38       0  \n6          40       38       0  \n7          32       38       1  \n8          40       38       0  \n9          10       38       0  ",
      "text/html": "<div>\n<style scoped>\n    .dataframe tbody tr th:only-of-type {\n        vertical-align: middle;\n    }\n\n    .dataframe tbody tr th {\n        vertical-align: top;\n    }\n\n    .dataframe thead th {\n        text-align: right;\n    }\n</style>\n<table border=\"1\" class=\"dataframe\">\n  <thead>\n    <tr style=\"text-align: right;\">\n      <th></th>\n      <th>Age</th>\n      <th>EducationNum</th>\n      <th>MaritalStatus</th>\n      <th>Occupation</th>\n      <th>Relationship</th>\n      <th>Race</th>\n      <th>Gender</th>\n      <th>Hours/Week</th>\n      <th>Country</th>\n      <th>Income</th>\n    </tr>\n  </thead>\n  <tbody>\n    <tr>\n      <th>0</th>\n      <td>25</td>\n      <td>7</td>\n      <td>4</td>\n      <td>6</td>\n      <td>3</td>\n      <td>2</td>\n      <td>1</td>\n      <td>40</td>\n      <td>38</td>\n      <td>0</td>\n    </tr>\n    <tr>\n      <th>1</th>\n      <td>38</td>\n      <td>9</td>\n      <td>2</td>\n      <td>4</td>\n      <td>0</td>\n      <td>4</td>\n      <td>1</td>\n      <td>50</td>\n      <td>38</td>\n      <td>0</td>\n    </tr>\n    <tr>\n      <th>2</th>\n      <td>28</td>\n      <td>12</td>\n      <td>2</td>\n      <td>10</td>\n      <td>0</td>\n      <td>4</td>\n      <td>1</td>\n      <td>40</td>\n      <td>38</td>\n      <td>1</td>\n    </tr>\n    <tr>\n      <th>3</th>\n      <td>44</td>\n      <td>10</td>\n      <td>2</td>\n      <td>6</td>\n      <td>0</td>\n      <td>2</td>\n      <td>1</td>\n      <td>40</td>\n      <td>38</td>\n      <td>1</td>\n    </tr>\n    <tr>\n      <th>4</th>\n      <td>18</td>\n      <td>10</td>\n      <td>4</td>\n      <td>6</td>\n      <td>3</td>\n      <td>4</td>\n      <td>0</td>\n      <td>30</td>\n      <td>38</td>\n      <td>0</td>\n    </tr>\n    <tr>\n      <th>5</th>\n      <td>34</td>\n      <td>6</td>\n      <td>4</td>\n      <td>7</td>\n      <td>1</td>\n      <td>4</td>\n      <td>1</td>\n      <td>30</td>\n      <td>38</td>\n      <td>0</td>\n    </tr>\n    <tr>\n      <th>6</th>\n      <td>29</td>\n      <td>9</td>\n      <td>4</td>\n      <td>7</td>\n      <td>4</td>\n      <td>2</td>\n      <td>1</td>\n      <td>40</td>\n      <td>38</td>\n      <td>0</td>\n    </tr>\n    <tr>\n      <th>7</th>\n      <td>63</td>\n      <td>15</td>\n      <td>2</td>\n      <td>9</td>\n      <td>0</td>\n      <td>4</td>\n      <td>1</td>\n      <td>32</td>\n      <td>38</td>\n      <td>1</td>\n    </tr>\n    <tr>\n      <th>8</th>\n      <td>24</td>\n      <td>10</td>\n      <td>4</td>\n      <td>7</td>\n      <td>4</td>\n      <td>4</td>\n      <td>0</td>\n      <td>40</td>\n      <td>38</td>\n      <td>0</td>\n    </tr>\n    <tr>\n      <th>9</th>\n      <td>55</td>\n      <td>4</td>\n      <td>2</td>\n      <td>2</td>\n      <td>0</td>\n      <td>4</td>\n      <td>1</td>\n      <td>10</td>\n      <td>38</td>\n      <td>0</td>\n    </tr>\n  </tbody>\n</table>\n</div>"
     },
     "execution_count": 138,
     "metadata": {},
     "output_type": "execute_result"
    }
   ],
   "source": [
    "# Command(s) \n",
    "obj = train.select_dtypes(include=['object']) #all features that are 'object' datatypes\n",
    "le = preprocessing.LabelEncoder()\n",
    "for i in range(len(obj.columns)):\n",
    "    train[obj.columns[i]] = le.fit_transform(train[obj.columns[i]])\n",
    "    \n",
    "train.head(10) #Inspect the data, all features should be numeric now"
   ]
  },
  {
   "cell_type": "markdown",
   "metadata": {},
   "source": [
    "<h3>Q.6. Split the data into 70% training and 30% test </h3>"
   ]
  },
  {
   "cell_type": "code",
   "execution_count": 154,
   "metadata": {
    "collapsed": true
   },
   "outputs": [
    {
     "data": {
      "text/plain": "(34189, 9)"
     },
     "execution_count": 154,
     "metadata": {},
     "output_type": "execute_result"
    }
   ],
   "source": [
    "from sklearn.model_selection import train_test_split\n",
    "X = train.iloc[:, :-1].values\n",
    "y = train.iloc[:, 9].values\n",
    "X_train, X_test, y_train, y_test = train_test_split(X, y, test_size=0.3, random_state=42)\n",
    "X_train.shape"
   ]
  },
  {
   "cell_type": "markdown",
   "metadata": {},
   "source": [
    "<h3>Q.7. Train the logistic regression model on the train dataset and evaluate its performance on the test dataset.</p>"
   ]
  },
  {
   "cell_type": "code",
   "execution_count": 161,
   "metadata": {
    "collapsed": true
   },
   "outputs": [
    {
     "name": "stdout",
     "output_type": "stream",
     "text": [
      "Accuracy: 0.8114379307991537\n",
      "AUC: 0.6702842319752318\n"
     ]
    },
    {
     "data": {
      "text/plain": "<Figure size 432x288 with 1 Axes>",
      "image/png": "[encoded data removed]"
     },
     "metadata": {
      "needs_background": "light"
     },
     "output_type": "display_data"
    }
   ],
   "source": [
    "#Initialize classifier\n",
    "from sklearn.linear_model import LogisticRegression\n",
    "from sklearn.metrics import confusion_matrix, classification_report, roc_curve, roc_auc_score, accuracy_score\n",
    "\n",
    "# fit X_train and y_train\n",
    "log_rgr = LogisticRegression(max_iter=10000)\n",
    "model_log_rgr = log_rgr.fit(X_train, y_train)\n",
    "\n",
    "#predict on the test set\n",
    "y_pred = model_log_rgr.predict(X_test)\n",
    "\n",
    "lr_acc = accuracy_score(y_test, y_pred) # Compute the accuracy score\n",
    "# calculate the fpr and tpr for all thresholds of the classification\n",
    "probs = log_rgr.predict_proba(X_test)\n",
    "preds = probs[:,1]\n",
    "fpr, tpr, threshold = metrics.roc_curve(y_test, preds)\n",
    "roc_auc = metrics.roc_auc_score(y_test, y_pred) #TODO\n",
    "print(\"Accuracy: {}\".format(lr_acc))\n",
    "print(\"AUC: {}\".format(roc_auc))\n",
    "\n",
    "# Plot the ROC curve\n",
    "import matplotlib.pyplot as plt\n",
    "plt.title('Receiver Operating Characteristic')\n",
    "plt.plot(fpr, tpr, 'b', label = 'AUC = %0.2f' % roc_auc)\n",
    "plt.legend(loc = 'lower right')\n",
    "plt.plot([0, 1], [0, 1],'r--')\n",
    "plt.xlim([0, 1])\n",
    "plt.ylim([0, 1])\n",
    "plt.ylabel('True Positive Rate')\n",
    "plt.xlabel('False Positive Rate')\n",
    "plt.show()"
   ]
  },
  {
   "cell_type": "markdown",
   "metadata": {},
   "source": [
    "<h3>Q.8. Train the KNN classifier (with k=15) on the train dataset and evaluate its performance on the test dataset. Compare your results with the one above</p>"
   ]
  },
  {
   "cell_type": "code",
   "execution_count": 156,
   "metadata": {
    "collapsed": true
   },
   "outputs": [
    {
     "name": "stdout",
     "output_type": "stream",
     "text": [
      "Accuracy: 0.8150549375554494\n",
      "AUC: 0.720232926376596\n"
     ]
    },
    {
     "data": {
      "text/plain": "<Figure size 432x288 with 1 Axes>",
      "image/png": "[encoded data removed]"
     },
     "metadata": {
      "needs_background": "light"
     },
     "output_type": "display_data"
    }
   ],
   "source": [
    "from sklearn.neighbors import KNeighborsClassifier\n",
    "\n",
    "# Initialize KNN classifier with k=15\n",
    "knn = KNeighborsClassifier(n_neighbors=15)\n",
    "\n",
    "# fit X_train and y_train\n",
    "k_model = knn.fit(X_train, y_train)\n",
    "\n",
    "y_pred = k_model.predict(X_test)\n",
    "knn_acc = accuracy_score(y_test, y_pred) # Compute the accuracy score\n",
    "\n",
    "# calculate the fpr and tpr for all thresholds of the classification\n",
    "probs = knn.predict_proba(X_test)\n",
    "preds = probs[:,1]\n",
    "fpr, tpr, threshold = metrics.roc_curve(y_test, preds)\n",
    "roc_auc = metrics.roc_auc_score(y_test, y_pred)\n",
    "print(\"Accuracy: {}\".format(knn_acc))\n",
    "print(\"AUC: {}\".format(roc_auc))\n",
    "\n",
    "# Plot the ROC curve\n",
    "import matplotlib.pyplot as plt\n",
    "plt.title('Receiver Operating Characteristic')\n",
    "plt.plot(fpr, tpr, 'b', label = 'AUC = %0.2f' % roc_auc)\n",
    "plt.legend(loc = 'lower right')\n",
    "plt.plot([0, 1], [0, 1],'r--')\n",
    "plt.xlim([0, 1])\n",
    "plt.ylim([0, 1])\n",
    "plt.ylabel('True Positive Rate')\n",
    "plt.xlabel('False Positive Rate')\n",
    "plt.show()\n",
    "\n",
    "#Compare results\n",
    "# The accuracy for the Logistic Regression model is 0.811 while KNN is 0.815. The ROC AUC for the logistic model is\n",
    "# 0.670 while the KNN is 0.72. A higher AUC and Higher accuracy are better in this case, so KNN is a better model.\n",
    "# Note: I did need to increase the max_iter on the logistic model."
   ]
  },
  {
   "cell_type": "markdown",
   "metadata": {},
   "source": [
    "<h3>Q.9. Perform recursive feature elimination (5 features) on the dataset using the logistic regression classifier. Any difference in the results? Explain.</h3>"
   ]
  },
  {
   "cell_type": "code",
   "execution_count": 172,
   "metadata": {
    "collapsed": true
   },
   "outputs": [
    {
     "name": "stdout",
     "output_type": "stream",
     "text": [
      "Accuracy: 0.8130075752405651\n",
      "AUC: 0.6686641360069511\n"
     ]
    }
   ],
   "source": [
    "from sklearn.feature_selection import RFE\n",
    "rfe =  RFE(model_log_rgr, n_features_to_select=5) #TODO\n",
    "# TODO: fit X_train and y_train\n",
    "rfe = rfe.fit(X_train, y_train)\n",
    "\n",
    "y_pred = rfe.predict(X_test) # TODO\n",
    "lr_acc = accuracy_score(y_test, y_pred) #TODO: Compute the accuracy score\n",
    "# calculate the fpr and tpr for all thresholds of the classification\n",
    "probs = rfe.predict_proba(X_test)\n",
    "preds = probs[:,1]\n",
    "fpr, tpr, threshold = metrics.roc_curve(y_test, preds)\n",
    "roc_auc = metrics.roc_auc_score(y_test, y_pred) #TODO\n",
    "print(\"Accuracy: {}\".format(lr_acc))\n",
    "print(\"AUC: {}\".format(roc_auc))\n",
    "# Very little difference is observed with the RFE, as our initial logistic function was at an accuracy of 0.811 and the new\n",
    "# one is up slightly, at 0.813. The AUC actually went down using this method by about 0.002.\n",
    "# 0.668 for this method, and our previous logistic model was at 0.670."
   ]
  },
  {
   "cell_type": "code",
   "execution_count": null,
   "metadata": {
    "collapsed": true
   },
   "outputs": [],
   "source": []
  }
 ],
 "metadata": {
  "kernelspec": {
   "display_name": "Python 3 [3.6]",
   "language": "python",
   "name": "python3"
  },
  "language_info": {
   "codemirror_mode": {
    "name": "ipython",
    "version": 3
   },
   "file_extension": ".py",
   "mimetype": "text/x-python",
   "name": "python",
   "nbconvert_exporter": "python",
   "pygments_lexer": "ipython3",
   "version": "3.6.4"
  }
 },
 "nbformat": 4,
 "nbformat_minor": 2
}