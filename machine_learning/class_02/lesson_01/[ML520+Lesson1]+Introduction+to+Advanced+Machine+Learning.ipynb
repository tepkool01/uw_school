{
 "cells": [
  {
   "cell_type": "markdown",
   "metadata": {},
   "source": [
    "# Multiclass Classification\n",
    "\n",
    "While binary classifiers are used to distinguish between two classes (e.g. detect if a transaction is a fraudulent one, classify an email into either spam or non-spam and etc.), multiclass classifiers distinguish between more than two classes. For example, we want to predict a picture of the Iris Flower into a set of predefined species. While some algorithms (e.g. K nearest neighbors and naive bayes classifier) can extend to handle multiple classes naturally, others are less obvious (e.g. Support Vector Machine). \n",
    "\n",
    "There are various ways that we can use to perform multiclass classification by leveraging any binary classifiers. In this exercise, you will implement two such strategies for multiclass classification: _One-versus-all_ strategy and _One-versus-one_ strategy.\n",
    "\n",
    "- **One-versus-all (OvA)**: In this strategy, we train a single binary classifier per class, with the samples of that class as positive samples and all other samples as negatives. During inference, we get the prediction from each classifier and select the class with the highest score. This strategy is also called the one-versus-the-rest strtegey. \n",
    "\n",
    "- **One-versus-one (OvO)**: In this strategy, we train a binary classifier for every pair of classes. If there are N classes in the problem, you need to train N * (N-1) / 2 classifiers. During inference, we have to run through all N * (N-1) / 2 classifiers and ses which class wins the most votes. The main advantage of OvO strategy is that each binary classifier only needs to be train on the part of the training dataset for the two classes that it needs to separate. "
   ]
  },
  {
   "cell_type": "code",
   "execution_count": 2,
   "metadata": {
    "collapsed": true
   },
   "outputs": [],
   "source": [
    "# import packages\n",
    "%matplotlib inline\n",
    "import numpy as np\n",
    "import matplotlib.pyplot as plt\n",
    "import pandas as pd\n",
    "from sklearn import datasets\n",
    "from sklearn.linear_model import LogisticRegression\n",
    "\n",
    "# make this notebook's output stable across runs\n",
    "np.random.seed(0)"
   ]
  },
  {
   "cell_type": "markdown",
   "metadata": {},
   "source": [
    "## MNIST Dataset\n",
    "\n",
    "In this lab assignment, we use the classic machine learning benchmark dataset **MNIST** assembed by the National Institute of Standards and Technology in the 1980s. The MNIST dataset includes 60K training and 10K test images of grayscale handwriting images and the task is to classify these images into 10 classes (0 through 9).\n",
    "\n",
    "Each image is 28 pixels in height and 28 pixels in width, for a total of 784 pixels in total. Each pixel has a single pixel-value associated with it, indicating the lightness or darkness of that pixel, with higher numbers meaning darker. This pixel-value is an integer between 0 and 255, inclusive.\n",
    "\n",
    "Both the train and test CSV files have 785 columns. The first column, called \"label\", is the digit that was drawn by the user. The rest of the columns contain the pixel-values of the associated image.\n",
    "\n",
    "Each pixel column in the training set has a name like pixelx, where x is an integer between 0 and 783, inclusive. To locate this pixel on the image, suppose that we have decomposed x as x = i * 28 + j, where i and j are integers between 0 and 27, inclusive. Then pixelx is located on row i and column j of a 28 x 28 matrix, (indexing by zero)."
   ]
  },
  {
   "cell_type": "code",
   "execution_count": 3,
   "metadata": {
    "collapsed": true
   },
   "outputs": [],
   "source": [
    "# Load train and test data from CSV files.\n",
    "train = pd.read_csv(\"mnist_train.csv\", header=None)\n",
    "test = pd.read_csv(\"mnist_test.csv\", header=None)\n",
    "\n",
    "train_x = train.iloc[:,1:]\n",
    "train_y = train.iloc[:,0]\n",
    "\n",
    "test_x = test.iloc[:,1:]\n",
    "test_y = test.iloc[:,0]"
   ]
  },
  {
   "cell_type": "code",
   "execution_count": 4,
   "metadata": {
    "collapsed": true
   },
   "outputs": [
    {
     "name": "stdout",
     "output_type": "stream",
     "text": [
      "0    1948\n",
      "1    2356\n",
      "2    1977\n",
      "3    2027\n",
      "4    1949\n",
      "5    1783\n",
      "6    1973\n",
      "7    2099\n",
      "8    1918\n",
      "9    1970\n",
      "Name: 0, dtype: int64\n",
      "0     980\n",
      "1    1135\n",
      "2    1032\n",
      "3    1010\n",
      "4     982\n",
      "5     892\n",
      "6     958\n",
      "7    1028\n",
      "8     974\n",
      "9    1009\n",
      "Name: 0, dtype: int64\n"
     ]
    }
   ],
   "source": [
    "# Output the number of images in each class in the train and test datasets.\n",
    "print(train_y.value_counts().sort_index())\n",
    "print(test_y.value_counts().sort_index())"
   ]
  },
  {
   "cell_type": "markdown",
   "metadata": {},
   "source": [
    "Here we define two helper functions which plot the image of an instance for data exploration and debugging."
   ]
  },
  {
   "cell_type": "code",
   "execution_count": 8,
   "metadata": {
    "collapsed": true
   },
   "outputs": [],
   "source": [
    "def plot_digit(x, y):\n",
    "    \"\"\"\n",
    "    Plot a single image of the MNIST dataset\n",
    "    \"\"\"\n",
    "    plt.imshow(np.reshape(x.values, (28, 28)), cmap='gray_r')\n",
    "    plt.title('Digit Label: {}'.format(y))\n",
    "    plt.show()\n",
    "\n",
    "def plot_digits(x, y):\n",
    "    \"\"\"\n",
    "    Plot the image of the digits in MNIST dataset\n",
    "    \"\"\"\n",
    "    plt.clf()\n",
    "    plt.style.use('seaborn-muted')\n",
    "\n",
    "    fig, axes = plt.subplots(\n",
    "    3,3, \n",
    "    figsize=(5,5),\n",
    "    sharex=True, sharey=True,\n",
    "    subplot_kw=dict(adjustable='box', aspect='equal'))\n",
    "\n",
    "    for i in range(0, 9):\n",
    "        # Idnetify the subgraph given class i.\n",
    "        subplot_row = i // 3 \n",
    "        subplot_col = i % 3 \n",
    "        ax = axes[subplot_row, subplot_col]\n",
    "\n",
    "        # Plot image on subplot.\n",
    "        ax.imshow(np.reshape(x.iloc[i,:].values, (28, 28)), cmap='gray_r')\n",
    "\n",
    "        ax.set_title('Digit Label: {}'.format(y[i]))\n",
    "        ax.set_xbound([0,28])\n",
    "\n",
    "    plt.tight_layout()\n",
    "    plt.show()"
   ]
  },
  {
   "cell_type": "markdown",
   "metadata": {},
   "source": [
    "### Plot a single image in MNIST dataset"
   ]
  },
  {
   "cell_type": "code",
   "execution_count": 6,
   "metadata": {
    "collapsed": true
   },
   "outputs": [
    {
     "data": {
      "text/plain": "<Figure size 432x288 with 1 Axes>",
      "image/png": "[encoded data removed]"
     },
     "metadata": {
      "needs_background": "light"
     },
     "output_type": "display_data"
    }
   ],
   "source": [
    "idx = 3\n",
    "plot_digit(train_x.iloc[idx,:], train_y[idx])"
   ]
  },
  {
   "cell_type": "markdown",
   "metadata": {},
   "source": [
    "### View the digit images from class 1 to 9.\n",
    "\n",
    "To better understand the MNIST dataset, we plot the first occurence of each class (1-9) in the train dataset using the grayscale inputs."
   ]
  },
  {
   "cell_type": "markdown",
   "metadata": {},
   "source": [
    "In the following code, we plot nine images of digits 0 in the train dataset. "
   ]
  },
  {
   "cell_type": "code",
   "execution_count": 9,
   "metadata": {
    "collapsed": true
   },
   "outputs": [
    {
     "data": {
      "text/plain": "<Figure size 432x288 with 0 Axes>"
     },
     "metadata": {},
     "output_type": "display_data"
    },
    {
     "data": {
      "text/plain": "<Figure size 360x360 with 9 Axes>",
      "image/png": "[encoded data removed]"
     },
     "metadata": {
      "needs_background": "light"
     },
     "output_type": "display_data"
    }
   ],
   "source": [
    "# Find the first 9 occurrences of digit zero in the train dataset\n",
    "zero_digit_idx = list(train_y[train_y == 0].index[0:9])\n",
    "\n",
    "# Plot digits\n",
    "plot_digits(train_x.iloc[zero_digit_idx,:], train_y[zero_digit_idx].values)"
   ]
  },
  {
   "cell_type": "markdown",
   "metadata": {},
   "source": [
    "<span style=\"color:orange\">**Coding Part 1: Plot the first image of digits 1 to 9 in the training dataset**</span> "
   ]
  },
  {
   "cell_type": "code",
   "execution_count": null,
   "metadata": {
    "collapsed": true
   },
   "outputs": [],
   "source": [
    "# Find the first occurrence of each class in the train dataset\n",
    "idx = [-1] * 9\n",
    "for i in range(1, 10):\n",
    "  # Find the first image from the class i.\n",
    "  idx[i-1] = train_y[train_y == i].index[0]\n",
    "\n",
    "# Plot digits\n",
    "plot_digits(train_x.iloc[idx,:], train_y[idx].values)"
   ]
  },
  {
   "cell_type": "markdown",
   "metadata": {},
   "source": [
    "---"
   ]
  },
  {
   "cell_type": "markdown",
   "metadata": {},
   "source": [
    "### Classify even digits.\n",
    "To reduce the computational assumption, we simplify the problem to classify only the odd numbers, ie. 1, 3, 5, 7, and 9, instead of all 10 digits. "
   ]
  },
  {
   "cell_type": "code",
   "execution_count": null,
   "metadata": {
    "collapsed": true
   },
   "outputs": [],
   "source": [
    "# helper functions\n",
    "def sample_data(x, y, digits):\n",
    "    \"\"\"\n",
    "    Sample a subset of all the images based on the digits provided\n",
    "    \"\"\"\n",
    "    idx = []\n",
    "    for i in digits:\n",
    "        idx = idx + list(y.index[y == i])\n",
    "\n",
    "    return (x.iloc[idx,:], y.iloc[idx])\n",
    "\n",
    "def evaluate(y, z):\n",
    "    \"\"\"\n",
    "    Evaluate the classification accuracy and also generate the confusion matrix. \n",
    "    \"\"\"\n",
    "    confusion_matrix = pd.crosstab(y, z, rownames=['Actual'], colnames=['Predicted'])\n",
    "    accuracy = sum(np.diag(confusion_matrix)) / confusion_matrix.values.sum()\n",
    "\n",
    "    return (accuracy, confusion_matrix)"
   ]
  },
  {
   "cell_type": "code",
   "execution_count": null,
   "metadata": {
    "collapsed": true
   },
   "outputs": [],
   "source": [
    "# generate the final dataset for model training for the given digits\n",
    "digits = [1, 3, 5, 7, 9]\n",
    "tr_x, tr_y = sample_data(train_x, train_y, digits)\n",
    "te_x, te_y = sample_data(test_x, test_y, digits)"
   ]
  },
  {
   "cell_type": "markdown",
   "metadata": {},
   "source": [
    "## One-versus-all (OvA) strategy\n",
    "<span style=\"color:orange\">**Coding Part 2: In this session, you will implement the OvA stragety for multiclass classification using logistic regression as the base binary classifier. After the implementation, you will apply it to the MNIST dataset and see its performance.**</span> "
   ]
  },
  {
   "cell_type": "code",
   "execution_count": null,
   "metadata": {
    "collapsed": true
   },
   "outputs": [],
   "source": [
    "class OvA():\n",
    "    \"\"\"\n",
    "    OvA strategy for multiclass classification.\n",
    "    \"\"\"\n",
    "\n",
    "    def __int__(self):\n",
    "\n",
    "    def train(self, x, y):\n",
    "        \"\"\"\n",
    "        TODO: Train the multiclass classifier using OvA strategy. \n",
    "        \"\"\"\n",
    "\n",
    "    def predict(self, x):\n",
    "        \"\"\"\n",
    "        TODO: Make predictions on multiclass problems using the OvA strategy. \n",
    "        \"\"\"\n",
    "    "
   ]
  },
  {
   "cell_type": "markdown",
   "metadata": {},
   "source": [
    "### Train the OvA multiclass classifier on MNIST dataset"
   ]
  },
  {
   "cell_type": "code",
   "execution_count": null,
   "metadata": {
    "collapsed": true
   },
   "outputs": [],
   "source": [
    "ova = OvA()\n",
    "ova.train(tr_x, tr_y)"
   ]
  },
  {
   "cell_type": "markdown",
   "metadata": {},
   "source": [
    "### Predict on the test dataset using OvA multiclass classifier"
   ]
  },
  {
   "cell_type": "code",
   "execution_count": null,
   "metadata": {
    "collapsed": true
   },
   "outputs": [],
   "source": [
    "te_z_ova = ova.predict(te_x)"
   ]
  },
  {
   "cell_type": "markdown",
   "metadata": {},
   "source": [
    "### Evaluate the performance of OvA"
   ]
  },
  {
   "cell_type": "code",
   "execution_count": null,
   "metadata": {
    "collapsed": true
   },
   "outputs": [],
   "source": [
    "ova_accuracy, ova_confuction_matrix = evaluate(te_y.values, te_z_ova)\n",
    "print(\"Accuracy of OvA classifier is {}.\".format(ova_accuracy))\n",
    "print(\"Confusion matrix of OvA classifier: \\n {}\".format(ova_confuction_matrix))"
   ]
  },
  {
   "cell_type": "markdown",
   "metadata": {},
   "source": [
    "---"
   ]
  },
  {
   "cell_type": "markdown",
   "metadata": {},
   "source": [
    "## One-versus-one (OvO) strategy\n",
    "<span style=\"color:orange\">**Coding Part 3: In this session, you will implement the OvO stragety for multiclass classification using logistic regression as the base binary classifier. After the implementation, you will apply it to the MNIST dataset and see its performance.**</span> "
   ]
  },
  {
   "cell_type": "code",
   "execution_count": null,
   "metadata": {
    "collapsed": true
   },
   "outputs": [],
   "source": [
    "class OvO():\n",
    "    \"\"\"\n",
    "    OvO strategy for multiclass classification.\n",
    "    \"\"\"\n",
    "\n",
    "    def __int__(self):\n",
    "\n",
    "    def train(self, x, y):\n",
    "        \"\"\"\n",
    "        TODO: Train the multiclass classifier using OvO strategy. \n",
    "        \"\"\"\n",
    "\n",
    "    def predict(self, x):\n",
    "        \"\"\"\n",
    "        TODO: Make predictions on multiclass problems using the OvO strategy. \n",
    "        \"\"\""
   ]
  },
  {
   "cell_type": "markdown",
   "metadata": {},
   "source": [
    "### Train the OvO multiclass classifier on MNIST dataset"
   ]
  },
  {
   "cell_type": "code",
   "execution_count": null,
   "metadata": {
    "collapsed": true
   },
   "outputs": [],
   "source": [
    "ovo = OvO()\n",
    "ovo.train(tr_x, tr_y)"
   ]
  },
  {
   "cell_type": "markdown",
   "metadata": {},
   "source": [
    "### Predict on the test dataset using OvO multiclass classifier"
   ]
  },
  {
   "cell_type": "code",
   "execution_count": null,
   "metadata": {
    "collapsed": true
   },
   "outputs": [],
   "source": [
    "te_z_ovo = ovo.predict(te_x)"
   ]
  },
  {
   "cell_type": "markdown",
   "metadata": {},
   "source": [
    "### Evaluate the performance of OvO"
   ]
  },
  {
   "cell_type": "code",
   "execution_count": null,
   "metadata": {
    "collapsed": true
   },
   "outputs": [],
   "source": [
    "ovo_accuracy, ovo_confuction_matrix = evaluate(te_y.values, te_z_ovo)\n",
    "print(\"Accuracy of OvO classifier is {}.\".format(ovo_accuracy))\n",
    "print(\"Confusion matrix of OvO classifier: \\n {}\".format(ovo_confuction_matrix))"
   ]
  },
  {
   "cell_type": "markdown",
   "metadata": {},
   "source": [
    "### End of ML 310 Lab Assignment 1\n",
    "---\n"
   ]
  }
 ],
 "metadata": {
  "kernelspec": {
   "display_name": "Python 3 [3.6]",
   "language": "python",
   "name": "python3"
  },
  "language_info": {
   "codemirror_mode": {
    "name": "ipython",
    "version": 3
   },
   "file_extension": ".py",
   "mimetype": "text/x-python",
   "name": "python",
   "nbconvert_exporter": "python",
   "pygments_lexer": "ipython3",
   "version": "3.6.4"
  }
 },
 "nbformat": 4,
 "nbformat_minor": 2
}